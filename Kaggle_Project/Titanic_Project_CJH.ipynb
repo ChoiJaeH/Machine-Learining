{
 "cells": [
  {
   "cell_type": "markdown",
   "id": "279bc196",
   "metadata": {
    "papermill": {
     "duration": 0.018737,
     "end_time": "2023-01-20T05:54:46.342595",
     "exception": false,
     "start_time": "2023-01-20T05:54:46.323858",
     "status": "completed"
    },
    "tags": []
   },
   "source": [
    "# Titanic Project!"
   ]
  },
  {
   "cell_type": "code",
   "execution_count": 1,
   "id": "97778c85",
   "metadata": {
    "_cell_guid": "b1076dfc-b9ad-4769-8c92-a6c4dae69d19",
    "_uuid": "8f2839f25d086af736a60e9eeb907d3b93b6e0e5",
    "execution": {
     "iopub.execute_input": "2023-01-20T05:54:46.375300Z",
     "iopub.status.busy": "2023-01-20T05:54:46.374820Z",
     "iopub.status.idle": "2023-01-20T05:54:47.609610Z",
     "shell.execute_reply": "2023-01-20T05:54:47.608555Z"
    },
    "papermill": {
     "duration": 1.254439,
     "end_time": "2023-01-20T05:54:47.612558",
     "exception": false,
     "start_time": "2023-01-20T05:54:46.358119",
     "status": "completed"
    },
    "tags": []
   },
   "outputs": [],
   "source": [
    "import numpy as np \n",
    "import pandas as pd \n",
    "import matplotlib.pyplot as plt\n",
    "import seaborn as sns\n",
    "\n",
    "plt.style.use('seaborn')\n",
    "#sns.set(font_scale=2.5)\n",
    "import warnings\n",
    "warnings.filterwarnings('ignore')\n",
    "%matplotlib inline\n",
    "\n",
    "train_df = pd.read_csv('/kaggle/input/titanic/train.csv')\n",
    "test_df = pd.read_csv('/kaggle/input/titanic/test.csv')\n",
    "submission_df = pd.read_csv('/kaggle/input/titanic/gender_submission.csv')"
   ]
  },
  {
   "cell_type": "code",
   "execution_count": 2,
   "id": "833b2f38",
   "metadata": {
    "execution": {
     "iopub.execute_input": "2023-01-20T05:54:47.645474Z",
     "iopub.status.busy": "2023-01-20T05:54:47.644598Z",
     "iopub.status.idle": "2023-01-20T05:54:47.652154Z",
     "shell.execute_reply": "2023-01-20T05:54:47.650613Z"
    },
    "papermill": {
     "duration": 0.02709,
     "end_time": "2023-01-20T05:54:47.655371",
     "exception": false,
     "start_time": "2023-01-20T05:54:47.628281",
     "status": "completed"
    },
    "tags": []
   },
   "outputs": [
    {
     "name": "stdout",
     "output_type": "stream",
     "text": [
      "(891, 12)\n",
      "(418, 11)\n"
     ]
    }
   ],
   "source": [
    "print(train_df.shape)\n",
    "print(test_df.shape)"
   ]
  },
  {
   "cell_type": "markdown",
   "id": "25277a3a",
   "metadata": {
    "papermill": {
     "duration": 0.014591,
     "end_time": "2023-01-20T05:54:47.685668",
     "exception": false,
     "start_time": "2023-01-20T05:54:47.671077",
     "status": "completed"
    },
    "tags": []
   },
   "source": [
    "#  **Dataset Check** "
   ]
  },
  {
   "cell_type": "code",
   "execution_count": 3,
   "id": "955f4ba2",
   "metadata": {
    "execution": {
     "iopub.execute_input": "2023-01-20T05:54:47.717660Z",
     "iopub.status.busy": "2023-01-20T05:54:47.716906Z",
     "iopub.status.idle": "2023-01-20T05:54:47.744157Z",
     "shell.execute_reply": "2023-01-20T05:54:47.742722Z"
    },
    "papermill": {
     "duration": 0.046248,
     "end_time": "2023-01-20T05:54:47.746893",
     "exception": false,
     "start_time": "2023-01-20T05:54:47.700645",
     "status": "completed"
    },
    "tags": []
   },
   "outputs": [
    {
     "data": {
      "text/html": [
       "<div>\n",
       "<style scoped>\n",
       "    .dataframe tbody tr th:only-of-type {\n",
       "        vertical-align: middle;\n",
       "    }\n",
       "\n",
       "    .dataframe tbody tr th {\n",
       "        vertical-align: top;\n",
       "    }\n",
       "\n",
       "    .dataframe thead th {\n",
       "        text-align: right;\n",
       "    }\n",
       "</style>\n",
       "<table border=\"1\" class=\"dataframe\">\n",
       "  <thead>\n",
       "    <tr style=\"text-align: right;\">\n",
       "      <th></th>\n",
       "      <th>PassengerId</th>\n",
       "      <th>Survived</th>\n",
       "      <th>Pclass</th>\n",
       "      <th>Name</th>\n",
       "      <th>Sex</th>\n",
       "      <th>Age</th>\n",
       "      <th>SibSp</th>\n",
       "      <th>Parch</th>\n",
       "      <th>Ticket</th>\n",
       "      <th>Fare</th>\n",
       "      <th>Cabin</th>\n",
       "      <th>Embarked</th>\n",
       "    </tr>\n",
       "  </thead>\n",
       "  <tbody>\n",
       "    <tr>\n",
       "      <th>0</th>\n",
       "      <td>1</td>\n",
       "      <td>0</td>\n",
       "      <td>3</td>\n",
       "      <td>Braund, Mr. Owen Harris</td>\n",
       "      <td>male</td>\n",
       "      <td>22.0</td>\n",
       "      <td>1</td>\n",
       "      <td>0</td>\n",
       "      <td>A/5 21171</td>\n",
       "      <td>7.2500</td>\n",
       "      <td>NaN</td>\n",
       "      <td>S</td>\n",
       "    </tr>\n",
       "    <tr>\n",
       "      <th>1</th>\n",
       "      <td>2</td>\n",
       "      <td>1</td>\n",
       "      <td>1</td>\n",
       "      <td>Cumings, Mrs. John Bradley (Florence Briggs Th...</td>\n",
       "      <td>female</td>\n",
       "      <td>38.0</td>\n",
       "      <td>1</td>\n",
       "      <td>0</td>\n",
       "      <td>PC 17599</td>\n",
       "      <td>71.2833</td>\n",
       "      <td>C85</td>\n",
       "      <td>C</td>\n",
       "    </tr>\n",
       "    <tr>\n",
       "      <th>2</th>\n",
       "      <td>3</td>\n",
       "      <td>1</td>\n",
       "      <td>3</td>\n",
       "      <td>Heikkinen, Miss. Laina</td>\n",
       "      <td>female</td>\n",
       "      <td>26.0</td>\n",
       "      <td>0</td>\n",
       "      <td>0</td>\n",
       "      <td>STON/O2. 3101282</td>\n",
       "      <td>7.9250</td>\n",
       "      <td>NaN</td>\n",
       "      <td>S</td>\n",
       "    </tr>\n",
       "    <tr>\n",
       "      <th>3</th>\n",
       "      <td>4</td>\n",
       "      <td>1</td>\n",
       "      <td>1</td>\n",
       "      <td>Futrelle, Mrs. Jacques Heath (Lily May Peel)</td>\n",
       "      <td>female</td>\n",
       "      <td>35.0</td>\n",
       "      <td>1</td>\n",
       "      <td>0</td>\n",
       "      <td>113803</td>\n",
       "      <td>53.1000</td>\n",
       "      <td>C123</td>\n",
       "      <td>S</td>\n",
       "    </tr>\n",
       "    <tr>\n",
       "      <th>4</th>\n",
       "      <td>5</td>\n",
       "      <td>0</td>\n",
       "      <td>3</td>\n",
       "      <td>Allen, Mr. William Henry</td>\n",
       "      <td>male</td>\n",
       "      <td>35.0</td>\n",
       "      <td>0</td>\n",
       "      <td>0</td>\n",
       "      <td>373450</td>\n",
       "      <td>8.0500</td>\n",
       "      <td>NaN</td>\n",
       "      <td>S</td>\n",
       "    </tr>\n",
       "  </tbody>\n",
       "</table>\n",
       "</div>"
      ],
      "text/plain": [
       "   PassengerId  Survived  Pclass  \\\n",
       "0            1         0       3   \n",
       "1            2         1       1   \n",
       "2            3         1       3   \n",
       "3            4         1       1   \n",
       "4            5         0       3   \n",
       "\n",
       "                                                Name     Sex   Age  SibSp  \\\n",
       "0                            Braund, Mr. Owen Harris    male  22.0      1   \n",
       "1  Cumings, Mrs. John Bradley (Florence Briggs Th...  female  38.0      1   \n",
       "2                             Heikkinen, Miss. Laina  female  26.0      0   \n",
       "3       Futrelle, Mrs. Jacques Heath (Lily May Peel)  female  35.0      1   \n",
       "4                           Allen, Mr. William Henry    male  35.0      0   \n",
       "\n",
       "   Parch            Ticket     Fare Cabin Embarked  \n",
       "0      0         A/5 21171   7.2500   NaN        S  \n",
       "1      0          PC 17599  71.2833   C85        C  \n",
       "2      0  STON/O2. 3101282   7.9250   NaN        S  \n",
       "3      0            113803  53.1000  C123        S  \n",
       "4      0            373450   8.0500   NaN        S  "
      ]
     },
     "execution_count": 3,
     "metadata": {},
     "output_type": "execute_result"
    }
   ],
   "source": [
    "train_df.head()\n",
    "# PassengerID: 탑승자 데이터 번호\n",
    "# survived : 생존 1, 사망 0\n",
    "# Pclass: 선실등급 1등석~3등석\n",
    "# Sex: 성별\n",
    "# Name: 이름\n",
    "# Age: 나이\n",
    "# SibSp: 같이 탑승한 형제자매, 배우자 인원\n",
    "# parch: 같이 탑승한 부모, 어린이 인원수\n",
    "# ticket: 티켓 번호\n",
    "# Fare: 요금\n",
    "# Cabin: 선실번호\n",
    "# Embarked: 중간정착항구 약어 C, Q, S"
   ]
  },
  {
   "cell_type": "code",
   "execution_count": 4,
   "id": "cec43d7e",
   "metadata": {
    "execution": {
     "iopub.execute_input": "2023-01-20T05:54:47.780065Z",
     "iopub.status.busy": "2023-01-20T05:54:47.779660Z",
     "iopub.status.idle": "2023-01-20T05:54:47.830740Z",
     "shell.execute_reply": "2023-01-20T05:54:47.829402Z"
    },
    "papermill": {
     "duration": 0.070863,
     "end_time": "2023-01-20T05:54:47.833197",
     "exception": false,
     "start_time": "2023-01-20T05:54:47.762334",
     "status": "completed"
    },
    "tags": []
   },
   "outputs": [
    {
     "data": {
      "text/html": [
       "<div>\n",
       "<style scoped>\n",
       "    .dataframe tbody tr th:only-of-type {\n",
       "        vertical-align: middle;\n",
       "    }\n",
       "\n",
       "    .dataframe tbody tr th {\n",
       "        vertical-align: top;\n",
       "    }\n",
       "\n",
       "    .dataframe thead th {\n",
       "        text-align: right;\n",
       "    }\n",
       "</style>\n",
       "<table border=\"1\" class=\"dataframe\">\n",
       "  <thead>\n",
       "    <tr style=\"text-align: right;\">\n",
       "      <th></th>\n",
       "      <th>PassengerId</th>\n",
       "      <th>Survived</th>\n",
       "      <th>Pclass</th>\n",
       "      <th>Age</th>\n",
       "      <th>SibSp</th>\n",
       "      <th>Parch</th>\n",
       "      <th>Fare</th>\n",
       "    </tr>\n",
       "  </thead>\n",
       "  <tbody>\n",
       "    <tr>\n",
       "      <th>count</th>\n",
       "      <td>891.000000</td>\n",
       "      <td>891.000000</td>\n",
       "      <td>891.000000</td>\n",
       "      <td>714.000000</td>\n",
       "      <td>891.000000</td>\n",
       "      <td>891.000000</td>\n",
       "      <td>891.000000</td>\n",
       "    </tr>\n",
       "    <tr>\n",
       "      <th>mean</th>\n",
       "      <td>446.000000</td>\n",
       "      <td>0.383838</td>\n",
       "      <td>2.308642</td>\n",
       "      <td>29.699118</td>\n",
       "      <td>0.523008</td>\n",
       "      <td>0.381594</td>\n",
       "      <td>32.204208</td>\n",
       "    </tr>\n",
       "    <tr>\n",
       "      <th>std</th>\n",
       "      <td>257.353842</td>\n",
       "      <td>0.486592</td>\n",
       "      <td>0.836071</td>\n",
       "      <td>14.526497</td>\n",
       "      <td>1.102743</td>\n",
       "      <td>0.806057</td>\n",
       "      <td>49.693429</td>\n",
       "    </tr>\n",
       "    <tr>\n",
       "      <th>min</th>\n",
       "      <td>1.000000</td>\n",
       "      <td>0.000000</td>\n",
       "      <td>1.000000</td>\n",
       "      <td>0.420000</td>\n",
       "      <td>0.000000</td>\n",
       "      <td>0.000000</td>\n",
       "      <td>0.000000</td>\n",
       "    </tr>\n",
       "    <tr>\n",
       "      <th>25%</th>\n",
       "      <td>223.500000</td>\n",
       "      <td>0.000000</td>\n",
       "      <td>2.000000</td>\n",
       "      <td>20.125000</td>\n",
       "      <td>0.000000</td>\n",
       "      <td>0.000000</td>\n",
       "      <td>7.910400</td>\n",
       "    </tr>\n",
       "    <tr>\n",
       "      <th>50%</th>\n",
       "      <td>446.000000</td>\n",
       "      <td>0.000000</td>\n",
       "      <td>3.000000</td>\n",
       "      <td>28.000000</td>\n",
       "      <td>0.000000</td>\n",
       "      <td>0.000000</td>\n",
       "      <td>14.454200</td>\n",
       "    </tr>\n",
       "    <tr>\n",
       "      <th>75%</th>\n",
       "      <td>668.500000</td>\n",
       "      <td>1.000000</td>\n",
       "      <td>3.000000</td>\n",
       "      <td>38.000000</td>\n",
       "      <td>1.000000</td>\n",
       "      <td>0.000000</td>\n",
       "      <td>31.000000</td>\n",
       "    </tr>\n",
       "    <tr>\n",
       "      <th>max</th>\n",
       "      <td>891.000000</td>\n",
       "      <td>1.000000</td>\n",
       "      <td>3.000000</td>\n",
       "      <td>80.000000</td>\n",
       "      <td>8.000000</td>\n",
       "      <td>6.000000</td>\n",
       "      <td>512.329200</td>\n",
       "    </tr>\n",
       "  </tbody>\n",
       "</table>\n",
       "</div>"
      ],
      "text/plain": [
       "       PassengerId    Survived      Pclass         Age       SibSp  \\\n",
       "count   891.000000  891.000000  891.000000  714.000000  891.000000   \n",
       "mean    446.000000    0.383838    2.308642   29.699118    0.523008   \n",
       "std     257.353842    0.486592    0.836071   14.526497    1.102743   \n",
       "min       1.000000    0.000000    1.000000    0.420000    0.000000   \n",
       "25%     223.500000    0.000000    2.000000   20.125000    0.000000   \n",
       "50%     446.000000    0.000000    3.000000   28.000000    0.000000   \n",
       "75%     668.500000    1.000000    3.000000   38.000000    1.000000   \n",
       "max     891.000000    1.000000    3.000000   80.000000    8.000000   \n",
       "\n",
       "            Parch        Fare  \n",
       "count  891.000000  891.000000  \n",
       "mean     0.381594   32.204208  \n",
       "std      0.806057   49.693429  \n",
       "min      0.000000    0.000000  \n",
       "25%      0.000000    7.910400  \n",
       "50%      0.000000   14.454200  \n",
       "75%      0.000000   31.000000  \n",
       "max      6.000000  512.329200  "
      ]
     },
     "execution_count": 4,
     "metadata": {},
     "output_type": "execute_result"
    }
   ],
   "source": [
    "train_df.describe()"
   ]
  },
  {
   "cell_type": "code",
   "execution_count": 5,
   "id": "f7cef559",
   "metadata": {
    "execution": {
     "iopub.execute_input": "2023-01-20T05:54:47.865376Z",
     "iopub.status.busy": "2023-01-20T05:54:47.864945Z",
     "iopub.status.idle": "2023-01-20T05:54:47.882922Z",
     "shell.execute_reply": "2023-01-20T05:54:47.881913Z"
    },
    "papermill": {
     "duration": 0.037191,
     "end_time": "2023-01-20T05:54:47.885634",
     "exception": false,
     "start_time": "2023-01-20T05:54:47.848443",
     "status": "completed"
    },
    "tags": []
   },
   "outputs": [
    {
     "name": "stdout",
     "output_type": "stream",
     "text": [
      "<class 'pandas.core.frame.DataFrame'>\n",
      "RangeIndex: 891 entries, 0 to 890\n",
      "Data columns (total 12 columns):\n",
      " #   Column       Non-Null Count  Dtype  \n",
      "---  ------       --------------  -----  \n",
      " 0   PassengerId  891 non-null    int64  \n",
      " 1   Survived     891 non-null    int64  \n",
      " 2   Pclass       891 non-null    int64  \n",
      " 3   Name         891 non-null    object \n",
      " 4   Sex          891 non-null    object \n",
      " 5   Age          714 non-null    float64\n",
      " 6   SibSp        891 non-null    int64  \n",
      " 7   Parch        891 non-null    int64  \n",
      " 8   Ticket       891 non-null    object \n",
      " 9   Fare         891 non-null    float64\n",
      " 10  Cabin        204 non-null    object \n",
      " 11  Embarked     889 non-null    object \n",
      "dtypes: float64(2), int64(5), object(5)\n",
      "memory usage: 83.7+ KB\n"
     ]
    }
   ],
   "source": [
    "train_df.info()"
   ]
  },
  {
   "cell_type": "code",
   "execution_count": 6,
   "id": "cc74f450",
   "metadata": {
    "execution": {
     "iopub.execute_input": "2023-01-20T05:54:47.918158Z",
     "iopub.status.busy": "2023-01-20T05:54:47.917762Z",
     "iopub.status.idle": "2023-01-20T05:54:47.928616Z",
     "shell.execute_reply": "2023-01-20T05:54:47.927185Z"
    },
    "papermill": {
     "duration": 0.029946,
     "end_time": "2023-01-20T05:54:47.930991",
     "exception": false,
     "start_time": "2023-01-20T05:54:47.901045",
     "status": "completed"
    },
    "tags": []
   },
   "outputs": [
    {
     "data": {
      "text/plain": [
       "PassengerId      0\n",
       "Survived         0\n",
       "Pclass           0\n",
       "Name             0\n",
       "Sex              0\n",
       "Age            177\n",
       "SibSp            0\n",
       "Parch            0\n",
       "Ticket           0\n",
       "Fare             0\n",
       "Cabin          687\n",
       "Embarked         2\n",
       "dtype: int64"
      ]
     },
     "execution_count": 6,
     "metadata": {},
     "output_type": "execute_result"
    }
   ],
   "source": [
    "train_df.isnull().sum()"
   ]
  },
  {
   "cell_type": "markdown",
   "id": "336f803f",
   "metadata": {
    "papermill": {
     "duration": 0.017058,
     "end_time": "2023-01-20T05:54:47.967226",
     "exception": false,
     "start_time": "2023-01-20T05:54:47.950168",
     "status": "completed"
    },
    "tags": []
   },
   "source": [
    "* Age, Cabin, Embarked 는 Null Data를 가짐 \n",
    "* sklearn은 Null Data 시 오류가 나므로 결측치를 채워줘야 함 "
   ]
  },
  {
   "cell_type": "markdown",
   "id": "f5832e50",
   "metadata": {
    "papermill": {
     "duration": 0.021656,
     "end_time": "2023-01-20T05:54:48.011998",
     "exception": false,
     "start_time": "2023-01-20T05:54:47.990342",
     "status": "completed"
    },
    "tags": []
   },
   "source": [
    "# **Feature Engineering**"
   ]
  },
  {
   "cell_type": "markdown",
   "id": "93a797f4",
   "metadata": {
    "papermill": {
     "duration": 0.019713,
     "end_time": "2023-01-20T05:54:48.049432",
     "exception": false,
     "start_time": "2023-01-20T05:54:48.029719",
     "status": "completed"
    },
    "tags": []
   },
   "source": [
    "# **1. How many Survived**"
   ]
  },
  {
   "cell_type": "code",
   "execution_count": 7,
   "id": "c577f6f0",
   "metadata": {
    "execution": {
     "iopub.execute_input": "2023-01-20T05:54:48.083021Z",
     "iopub.status.busy": "2023-01-20T05:54:48.082604Z",
     "iopub.status.idle": "2023-01-20T05:54:48.321505Z",
     "shell.execute_reply": "2023-01-20T05:54:48.320100Z"
    },
    "papermill": {
     "duration": 0.259465,
     "end_time": "2023-01-20T05:54:48.324257",
     "exception": false,
     "start_time": "2023-01-20T05:54:48.064792",
     "status": "completed"
    },
    "tags": []
   },
   "outputs": [
    {
     "data": {
      "image/png": "[encoded data removed]",
      "text/plain": [
       "<Figure size 432x288 with 1 Axes>"
      ]
     },
     "metadata": {
      "needs_background": "light"
     },
     "output_type": "display_data"
    }
   ],
   "source": [
    "sns.barplot(x='Sex', y='Survived', data=train_df);"
   ]
  },
  {
   "cell_type": "markdown",
   "id": "e4f06763",
   "metadata": {
    "papermill": {
     "duration": 0.015204,
     "end_time": "2023-01-20T05:54:48.354869",
     "exception": false,
     "start_time": "2023-01-20T05:54:48.339665",
     "status": "completed"
    },
    "tags": []
   },
   "source": [
    "여성이 남성보다 4배정도 생존률이 높은 것으로 확인됨.  \n",
    "이는 여성과 어린이를 먼저 탈출시키는 방식이 반영된 결과로 해석"
   ]
  },
  {
   "cell_type": "code",
   "execution_count": 8,
   "id": "b1b27a3f",
   "metadata": {
    "execution": {
     "iopub.execute_input": "2023-01-20T05:54:48.389709Z",
     "iopub.status.busy": "2023-01-20T05:54:48.388925Z",
     "iopub.status.idle": "2023-01-20T05:54:48.724556Z",
     "shell.execute_reply": "2023-01-20T05:54:48.723282Z"
    },
    "papermill": {
     "duration": 0.356335,
     "end_time": "2023-01-20T05:54:48.727224",
     "exception": false,
     "start_time": "2023-01-20T05:54:48.370889",
     "status": "completed"
    },
    "tags": []
   },
   "outputs": [
    {
     "data": {
      "image/png": "[encoded data removed]",
      "text/plain": [
       "<Figure size 432x288 with 1 Axes>"
      ]
     },
     "metadata": {
      "needs_background": "light"
     },
     "output_type": "display_data"
    }
   ],
   "source": [
    "sns.barplot(x='Pclass', y='Survived', hue='Sex', data=train_df);"
   ]
  },
  {
   "cell_type": "markdown",
   "id": "dff2aeb7",
   "metadata": {
    "papermill": {
     "duration": 0.015905,
     "end_time": "2023-01-20T05:54:48.759576",
     "exception": false,
     "start_time": "2023-01-20T05:54:48.743671",
     "status": "completed"
    },
    "tags": []
   },
   "source": [
    "더 높은 등석으로 갈수록 생존률이 높아짐 "
   ]
  },
  {
   "cell_type": "code",
   "execution_count": 9,
   "id": "7d0a9562",
   "metadata": {
    "execution": {
     "iopub.execute_input": "2023-01-20T05:54:48.793671Z",
     "iopub.status.busy": "2023-01-20T05:54:48.793210Z",
     "iopub.status.idle": "2023-01-20T05:54:49.382762Z",
     "shell.execute_reply": "2023-01-20T05:54:49.381403Z"
    },
    "papermill": {
     "duration": 0.609827,
     "end_time": "2023-01-20T05:54:49.385487",
     "exception": false,
     "start_time": "2023-01-20T05:54:48.775660",
     "status": "completed"
    },
    "tags": []
   },
   "outputs": [
    {
     "data": {
      "image/png": "[encoded data removed]",
      "text/plain": [
       "<Figure size 720x432 with 1 Axes>"
      ]
     },
     "metadata": {
      "needs_background": "light"
     },
     "output_type": "display_data"
    }
   ],
   "source": [
    "def get_name(age):\n",
    "    if (age<=5): return 'Baby'\n",
    "    elif (age<=13): return 'Child'\n",
    "    elif (age<=19): return 'Teen'\n",
    "    elif (age<=25): return 'Student'\n",
    "    elif (age<=35): return 'Young'\n",
    "    elif (age<=55): return 'Adult'\n",
    "    else: return 'Elder'\n",
    "\n",
    "\n",
    "plt.figure(figsize=(10,6))\n",
    "group_names=[\"Baby\",\"Child\",\"Teen\", \"Student\",\"Young\", \"Adult\", \"Elder\"] # group name order\n",
    "train_df['Age_cat']=train_df['Age'].apply(lambda x: get_name(x))\n",
    "sns.barplot(x='Age_cat', y='Survived', hue='Sex', data=train_df, order=group_names)\n",
    "train_df.drop('Age_cat', axis=1, inplace=True)"
   ]
  },
  {
   "cell_type": "markdown",
   "id": "2e17767c",
   "metadata": {
    "papermill": {
     "duration": 0.015619,
     "end_time": "2023-01-20T05:54:49.417152",
     "exception": false,
     "start_time": "2023-01-20T05:54:49.401533",
     "status": "completed"
    },
    "tags": []
   },
   "source": [
    "어린아이와 여성의 생존률이 높음을 확인할 수 있음"
   ]
  },
  {
   "cell_type": "markdown",
   "id": "43edc224",
   "metadata": {
    "papermill": {
     "duration": 0.015836,
     "end_time": "2023-01-20T05:54:49.449007",
     "exception": false,
     "start_time": "2023-01-20T05:54:49.433171",
     "status": "completed"
    },
    "tags": []
   },
   "source": [
    "# **2. Analysing The Features**"
   ]
  },
  {
   "cell_type": "markdown",
   "id": "054c56b3",
   "metadata": {
    "papermill": {
     "duration": 0.01574,
     "end_time": "2023-01-20T05:54:49.481049",
     "exception": false,
     "start_time": "2023-01-20T05:54:49.465309",
     "status": "completed"
    },
    "tags": []
   },
   "source": [
    "## **Feature 1: Sex**"
   ]
  },
  {
   "cell_type": "code",
   "execution_count": 10,
   "id": "02777708",
   "metadata": {
    "execution": {
     "iopub.execute_input": "2023-01-20T05:54:49.516444Z",
     "iopub.status.busy": "2023-01-20T05:54:49.515982Z",
     "iopub.status.idle": "2023-01-20T05:54:49.528709Z",
     "shell.execute_reply": "2023-01-20T05:54:49.527405Z"
    },
    "papermill": {
     "duration": 0.033545,
     "end_time": "2023-01-20T05:54:49.531174",
     "exception": false,
     "start_time": "2023-01-20T05:54:49.497629",
     "status": "completed"
    },
    "tags": []
   },
   "outputs": [
    {
     "data": {
      "text/plain": [
       "Sex     Survived\n",
       "female  0            81\n",
       "        1           233\n",
       "male    0           468\n",
       "        1           109\n",
       "Name: Survived, dtype: int64"
      ]
     },
     "execution_count": 10,
     "metadata": {},
     "output_type": "execute_result"
    }
   ],
   "source": [
    "# sex & survived\n",
    "train_df.groupby(['Sex', 'Survived'])['Survived'].count()\n"
   ]
  },
  {
   "cell_type": "code",
   "execution_count": 11,
   "id": "82dafe4f",
   "metadata": {
    "execution": {
     "iopub.execute_input": "2023-01-20T05:54:49.565633Z",
     "iopub.status.busy": "2023-01-20T05:54:49.564993Z",
     "iopub.status.idle": "2023-01-20T05:54:49.878165Z",
     "shell.execute_reply": "2023-01-20T05:54:49.876931Z"
    },
    "papermill": {
     "duration": 0.333462,
     "end_time": "2023-01-20T05:54:49.880877",
     "exception": false,
     "start_time": "2023-01-20T05:54:49.547415",
     "status": "completed"
    },
    "tags": []
   },
   "outputs": [
    {
     "data": {
      "image/png": "[encoded data removed]",
      "text/plain": [
       "<Figure size 1296x576 with 2 Axes>"
      ]
     },
     "metadata": {
      "needs_background": "light"
     },
     "output_type": "display_data"
    }
   ],
   "source": [
    "f,ax=plt.subplots(1,2,figsize=(18,8))\n",
    "train_df[['Sex','Survived']].groupby(['Sex']).mean().plot.bar(ax=ax[0])\n",
    "ax[0].set_title('fig1')\n",
    "sns.countplot('Sex',hue='Survived',data=train_df,ax=ax[1])\n",
    "ax[1].set_title('fig2')\n",
    "plt.show()"
   ]
  },
  {
   "cell_type": "markdown",
   "id": "38efc616",
   "metadata": {
    "papermill": {
     "duration": 0.016067,
     "end_time": "2023-01-20T05:54:49.914226",
     "exception": false,
     "start_time": "2023-01-20T05:54:49.898159",
     "status": "completed"
    },
    "tags": []
   },
   "source": [
    "*  성(Sex)이 생존(Survived)에 중요한 영향을 미치는 변수임을 알 수 있음(fig1)  \n",
    "*  남성과 여성의 생사여부가 정반대로 나타나는 결과(fig2)"
   ]
  },
  {
   "cell_type": "markdown",
   "id": "2357b1f4",
   "metadata": {
    "papermill": {
     "duration": 0.016663,
     "end_time": "2023-01-20T05:54:49.947516",
     "exception": false,
     "start_time": "2023-01-20T05:54:49.930853",
     "status": "completed"
    },
    "tags": []
   },
   "source": [
    "## **Feature 2: Pclass**"
   ]
  },
  {
   "cell_type": "code",
   "execution_count": 12,
   "id": "9e450421",
   "metadata": {
    "execution": {
     "iopub.execute_input": "2023-01-20T05:54:49.983278Z",
     "iopub.status.busy": "2023-01-20T05:54:49.982414Z",
     "iopub.status.idle": "2023-01-20T05:54:50.095417Z",
     "shell.execute_reply": "2023-01-20T05:54:50.094447Z"
    },
    "papermill": {
     "duration": 0.133765,
     "end_time": "2023-01-20T05:54:50.097907",
     "exception": false,
     "start_time": "2023-01-20T05:54:49.964142",
     "status": "completed"
    },
    "tags": []
   },
   "outputs": [
    {
     "data": {
      "text/html": [
       "<style type=\"text/css\">\n",
       "#T_815e6_row0_col0, #T_815e6_row1_col1, #T_815e6_row1_col2 {\n",
       "  background-color: #fff7fb;\n",
       "  color: #000000;\n",
       "}\n",
       "#T_815e6_row0_col1 {\n",
       "  background-color: #dddbec;\n",
       "  color: #000000;\n",
       "}\n",
       "#T_815e6_row0_col2 {\n",
       "  background-color: #f8f1f8;\n",
       "  color: #000000;\n",
       "}\n",
       "#T_815e6_row1_col0 {\n",
       "  background-color: #faf2f8;\n",
       "  color: #000000;\n",
       "}\n",
       "#T_815e6_row2_col0 {\n",
       "  background-color: #3790c0;\n",
       "  color: #f1f1f1;\n",
       "}\n",
       "#T_815e6_row2_col1 {\n",
       "  background-color: #ece7f2;\n",
       "  color: #000000;\n",
       "}\n",
       "#T_815e6_row2_col2 {\n",
       "  background-color: #8eb3d5;\n",
       "  color: #000000;\n",
       "}\n",
       "#T_815e6_row3_col0, #T_815e6_row3_col1, #T_815e6_row3_col2 {\n",
       "  background-color: #023858;\n",
       "  color: #f1f1f1;\n",
       "}\n",
       "</style>\n",
       "<table id=\"T_815e6_\">\n",
       "  <thead>\n",
       "    <tr>\n",
       "      <th class=\"index_name level0\" >Survived</th>\n",
       "      <th class=\"col_heading level0 col0\" >0</th>\n",
       "      <th class=\"col_heading level0 col1\" >1</th>\n",
       "      <th class=\"col_heading level0 col2\" >All</th>\n",
       "    </tr>\n",
       "    <tr>\n",
       "      <th class=\"index_name level0\" >Pclass</th>\n",
       "      <th class=\"blank col0\" >&nbsp;</th>\n",
       "      <th class=\"blank col1\" >&nbsp;</th>\n",
       "      <th class=\"blank col2\" >&nbsp;</th>\n",
       "    </tr>\n",
       "  </thead>\n",
       "  <tbody>\n",
       "    <tr>\n",
       "      <th id=\"T_815e6_level0_row0\" class=\"row_heading level0 row0\" >1</th>\n",
       "      <td id=\"T_815e6_row0_col0\" class=\"data row0 col0\" >80</td>\n",
       "      <td id=\"T_815e6_row0_col1\" class=\"data row0 col1\" >136</td>\n",
       "      <td id=\"T_815e6_row0_col2\" class=\"data row0 col2\" >216</td>\n",
       "    </tr>\n",
       "    <tr>\n",
       "      <th id=\"T_815e6_level0_row1\" class=\"row_heading level0 row1\" >2</th>\n",
       "      <td id=\"T_815e6_row1_col0\" class=\"data row1 col0\" >97</td>\n",
       "      <td id=\"T_815e6_row1_col1\" class=\"data row1 col1\" >87</td>\n",
       "      <td id=\"T_815e6_row1_col2\" class=\"data row1 col2\" >184</td>\n",
       "    </tr>\n",
       "    <tr>\n",
       "      <th id=\"T_815e6_level0_row2\" class=\"row_heading level0 row2\" >3</th>\n",
       "      <td id=\"T_815e6_row2_col0\" class=\"data row2 col0\" >372</td>\n",
       "      <td id=\"T_815e6_row2_col1\" class=\"data row2 col1\" >119</td>\n",
       "      <td id=\"T_815e6_row2_col2\" class=\"data row2 col2\" >491</td>\n",
       "    </tr>\n",
       "    <tr>\n",
       "      <th id=\"T_815e6_level0_row3\" class=\"row_heading level0 row3\" >All</th>\n",
       "      <td id=\"T_815e6_row3_col0\" class=\"data row3 col0\" >549</td>\n",
       "      <td id=\"T_815e6_row3_col1\" class=\"data row3 col1\" >342</td>\n",
       "      <td id=\"T_815e6_row3_col2\" class=\"data row3 col2\" >891</td>\n",
       "    </tr>\n",
       "  </tbody>\n",
       "</table>\n"
      ],
      "text/plain": [
       "<pandas.io.formats.style.Styler at 0x7f126303afd0>"
      ]
     },
     "execution_count": 12,
     "metadata": {},
     "output_type": "execute_result"
    }
   ],
   "source": [
    "pd.crosstab(train_df.Pclass,train_df.Survived,margins=True).style.background_gradient() # margins: 총합"
   ]
  },
  {
   "cell_type": "code",
   "execution_count": 13,
   "id": "5f7abff0",
   "metadata": {
    "execution": {
     "iopub.execute_input": "2023-01-20T05:54:50.135122Z",
     "iopub.status.busy": "2023-01-20T05:54:50.134325Z",
     "iopub.status.idle": "2023-01-20T05:54:50.430028Z",
     "shell.execute_reply": "2023-01-20T05:54:50.429032Z"
    },
    "papermill": {
     "duration": 0.316723,
     "end_time": "2023-01-20T05:54:50.432466",
     "exception": false,
     "start_time": "2023-01-20T05:54:50.115743",
     "status": "completed"
    },
    "tags": []
   },
   "outputs": [
    {
     "data": {
      "image/png": "[encoded data removed]",
      "text/plain": [
       "<Figure size 1296x576 with 2 Axes>"
      ]
     },
     "metadata": {
      "needs_background": "light"
     },
     "output_type": "display_data"
    }
   ],
   "source": [
    "f,ax=plt.subplots(1,2,figsize=(18,8))\n",
    "train_df['Pclass'].value_counts().plot.bar(ax=ax[0])\n",
    "ax[0].set_title('Number Of Passengers By Pclass')\n",
    "ax[0].set_ylabel('Count')\n",
    "sns.countplot('Pclass',hue='Survived',data=train_df,ax=ax[1])\n",
    "ax[1].set_title('Pclass:Survived vs Dead')\n",
    "plt.show()"
   ]
  },
  {
   "cell_type": "code",
   "execution_count": 14,
   "id": "aee37a7e",
   "metadata": {
    "execution": {
     "iopub.execute_input": "2023-01-20T05:54:50.468762Z",
     "iopub.status.busy": "2023-01-20T05:54:50.467671Z",
     "iopub.status.idle": "2023-01-20T05:54:50.923626Z",
     "shell.execute_reply": "2023-01-20T05:54:50.922401Z"
    },
    "papermill": {
     "duration": 0.476739,
     "end_time": "2023-01-20T05:54:50.926124",
     "exception": false,
     "start_time": "2023-01-20T05:54:50.449385",
     "status": "completed"
    },
    "tags": []
   },
   "outputs": [
    {
     "data": {
      "image/png": "[encoded data removed]",
      "text/plain": [
       "<Figure size 430.5x360 with 1 Axes>"
      ]
     },
     "metadata": {
      "needs_background": "light"
     },
     "output_type": "display_data"
    }
   ],
   "source": [
    "sns.factorplot('Pclass','Survived',hue='Sex',data=train_df)\n",
    "plt.show()"
   ]
  },
  {
   "cell_type": "markdown",
   "id": "38eb65d9",
   "metadata": {
    "papermill": {
     "duration": 0.017192,
     "end_time": "2023-01-20T05:54:50.960746",
     "exception": false,
     "start_time": "2023-01-20T05:54:50.943554",
     "status": "completed"
    },
    "tags": []
   },
   "source": [
    "* factorplot 함수는 범주형 데이터 시각화에 유리함  \n",
    "* Pclass 역시 생존에 중요한 영향을 끼치는 feature임을 확인"
   ]
  },
  {
   "cell_type": "markdown",
   "id": "53f030ed",
   "metadata": {
    "papermill": {
     "duration": 0.017253,
     "end_time": "2023-01-20T05:54:50.996113",
     "exception": false,
     "start_time": "2023-01-20T05:54:50.978860",
     "status": "completed"
    },
    "tags": []
   },
   "source": [
    "## **Feature 3: Age**"
   ]
  },
  {
   "cell_type": "code",
   "execution_count": 15,
   "id": "41881330",
   "metadata": {
    "execution": {
     "iopub.execute_input": "2023-01-20T05:54:51.033785Z",
     "iopub.status.busy": "2023-01-20T05:54:51.033306Z",
     "iopub.status.idle": "2023-01-20T05:54:51.042510Z",
     "shell.execute_reply": "2023-01-20T05:54:51.040703Z"
    },
    "papermill": {
     "duration": 0.031082,
     "end_time": "2023-01-20T05:54:51.044956",
     "exception": false,
     "start_time": "2023-01-20T05:54:51.013874",
     "status": "completed"
    },
    "tags": []
   },
   "outputs": [
    {
     "name": "stdout",
     "output_type": "stream",
     "text": [
      "Oldest Passenger was of: 80.0 Years\n",
      "Youngest Passenger was of: 0.42 Years\n",
      "Average Age on the ship: 29.7 Years\n"
     ]
    }
   ],
   "source": [
    "print('Oldest Passenger was of:',train_df['Age'].max(),'Years')\n",
    "print('Youngest Passenger was of:',train_df['Age'].min(),'Years')\n",
    "print('Average Age on the ship:',round(train_df['Age'].mean(),2),'Years')"
   ]
  },
  {
   "cell_type": "code",
   "execution_count": 16,
   "id": "11ac7d9e",
   "metadata": {
    "execution": {
     "iopub.execute_input": "2023-01-20T05:54:51.083185Z",
     "iopub.status.busy": "2023-01-20T05:54:51.081688Z",
     "iopub.status.idle": "2023-01-20T05:54:51.536281Z",
     "shell.execute_reply": "2023-01-20T05:54:51.535146Z"
    },
    "papermill": {
     "duration": 0.475896,
     "end_time": "2023-01-20T05:54:51.538689",
     "exception": false,
     "start_time": "2023-01-20T05:54:51.062793",
     "status": "completed"
    },
    "tags": []
   },
   "outputs": [
    {
     "data": {
      "image/png": "[encoded data removed]",
      "text/plain": [
       "<Figure size 1296x576 with 2 Axes>"
      ]
     },
     "metadata": {
      "needs_background": "light"
     },
     "output_type": "display_data"
    }
   ],
   "source": [
    "f,ax=plt.subplots(1,2,figsize=(18,8))\n",
    "sns.violinplot(\"Pclass\",\"Age\", hue=\"Survived\", data=train_df,split=True,ax=ax[0])\n",
    "ax[0].set_title('Pclass and Age vs Survived')\n",
    "ax[0].set_yticks(range(0,110,10))\n",
    "sns.violinplot(\"Sex\",\"Age\", hue=\"Survived\", data=train_df,split=True,ax=ax[1])\n",
    "ax[1].set_title('Sex and Age vs Survived')\n",
    "ax[1].set_yticks(range(0,110,10))\n",
    "plt.show()"
   ]
  },
  {
   "cell_type": "markdown",
   "id": "3fd93254",
   "metadata": {
    "papermill": {
     "duration": 0.018296,
     "end_time": "2023-01-20T05:54:51.576228",
     "exception": false,
     "start_time": "2023-01-20T05:54:51.557932",
     "status": "completed"
    },
    "tags": []
   },
   "source": [
    "*  Pclass가 높을수록 생존비율이 높아짐    \n",
    "*  여자는 생존비율이 높고 남자는 사망비율이 높음  \n",
    "*  남녀 모두 20~30대가 생존과 사망률이 비슷하게 분포"
   ]
  },
  {
   "cell_type": "markdown",
   "id": "0cfdca99",
   "metadata": {
    "papermill": {
     "duration": 0.018264,
     "end_time": "2023-01-20T05:54:51.613163",
     "exception": false,
     "start_time": "2023-01-20T05:54:51.594899",
     "status": "completed"
    },
    "tags": []
   },
   "source": [
    "### **Age 결측치 데이터 채우기**\n",
    "문제점: Age에는 177개의 Null Data가 있었음  \n",
    "해결책: 평균나이로 채우기"
   ]
  },
  {
   "cell_type": "code",
   "execution_count": 17,
   "id": "a6a8ea2d",
   "metadata": {
    "execution": {
     "iopub.execute_input": "2023-01-20T05:54:51.652699Z",
     "iopub.status.busy": "2023-01-20T05:54:51.651904Z",
     "iopub.status.idle": "2023-01-20T05:54:51.658758Z",
     "shell.execute_reply": "2023-01-20T05:54:51.657764Z"
    },
    "papermill": {
     "duration": 0.029382,
     "end_time": "2023-01-20T05:54:51.661148",
     "exception": false,
     "start_time": "2023-01-20T05:54:51.631766",
     "status": "completed"
    },
    "tags": []
   },
   "outputs": [],
   "source": [
    "train_df['Age'].fillna(train_df['Age'].mean(), inplace=True)"
   ]
  },
  {
   "cell_type": "markdown",
   "id": "fa571f36",
   "metadata": {
    "papermill": {
     "duration": 0.018397,
     "end_time": "2023-01-20T05:54:51.698620",
     "exception": false,
     "start_time": "2023-01-20T05:54:51.680223",
     "status": "completed"
    },
    "tags": []
   },
   "source": [
    "## **Feature 4: Embarked**"
   ]
  },
  {
   "cell_type": "code",
   "execution_count": 18,
   "id": "feb7b551",
   "metadata": {
    "execution": {
     "iopub.execute_input": "2023-01-20T05:54:51.738638Z",
     "iopub.status.busy": "2023-01-20T05:54:51.738179Z",
     "iopub.status.idle": "2023-01-20T05:54:52.293781Z",
     "shell.execute_reply": "2023-01-20T05:54:52.292418Z"
    },
    "papermill": {
     "duration": 0.578718,
     "end_time": "2023-01-20T05:54:52.296564",
     "exception": false,
     "start_time": "2023-01-20T05:54:51.717846",
     "status": "completed"
    },
    "tags": []
   },
   "outputs": [
    {
     "data": {
      "image/png": "[encoded data removed]",
      "text/plain": [
       "<Figure size 1440x720 with 4 Axes>"
      ]
     },
     "metadata": {
      "needs_background": "light"
     },
     "output_type": "display_data"
    }
   ],
   "source": [
    "f,ax=plt.subplots(2,2,figsize=(20,10))\n",
    "\n",
    "train_df['Embarked'].value_counts().plot.bar(ax=ax[0,0])\n",
    "ax[0,0].set_title('fig 1: count of Embarked')\n",
    "\n",
    "sns.countplot('Embarked',hue='Survived',data=train_df,ax=ax[0,1])\n",
    "ax[0,1].set_title('fig 2: Embarked vs Survived')\n",
    "\n",
    "sns.countplot('Embarked',hue='Sex',data=train_df,ax=ax[1,0])\n",
    "ax[1,0].set_title('fig 3: Embarked vs Sex')\n",
    "\n",
    "sns.countplot('Embarked',hue='Pclass',data=train_df,ax=ax[1,1])\n",
    "ax[1,1].set_title('fig 4: Embarked vs Pclass')\n",
    "\n",
    "plt.subplots_adjust(wspace=0.2,hspace=0.5)\n",
    "\n",
    "plt.show()"
   ]
  },
  {
   "cell_type": "markdown",
   "id": "98b14a96",
   "metadata": {
    "papermill": {
     "duration": 0.019024,
     "end_time": "2023-01-20T05:54:52.335026",
     "exception": false,
     "start_time": "2023-01-20T05:54:52.316002",
     "status": "completed"
    },
    "tags": []
   },
   "source": [
    "* S, C, Q 중 S가 매우 높은 비중을 차지\n",
    "* Sex와 Survived 모두 S,C,Q에서 유사한 비율을 차지함"
   ]
  },
  {
   "cell_type": "markdown",
   "id": "f80e8d3d",
   "metadata": {
    "papermill": {
     "duration": 0.018753,
     "end_time": "2023-01-20T05:54:52.373173",
     "exception": false,
     "start_time": "2023-01-20T05:54:52.354420",
     "status": "completed"
    },
    "tags": []
   },
   "source": [
    "### **Embarked 결측치 채우기**\n",
    "2개밖에 없으므로 3/4 이상 차지하는 S로 채워줌"
   ]
  },
  {
   "cell_type": "code",
   "execution_count": 19,
   "id": "315477f6",
   "metadata": {
    "execution": {
     "iopub.execute_input": "2023-01-20T05:54:52.413448Z",
     "iopub.status.busy": "2023-01-20T05:54:52.413026Z",
     "iopub.status.idle": "2023-01-20T05:54:52.421658Z",
     "shell.execute_reply": "2023-01-20T05:54:52.420629Z"
    },
    "papermill": {
     "duration": 0.031373,
     "end_time": "2023-01-20T05:54:52.423802",
     "exception": false,
     "start_time": "2023-01-20T05:54:52.392429",
     "status": "completed"
    },
    "tags": []
   },
   "outputs": [
    {
     "data": {
      "text/plain": [
       "False"
      ]
     },
     "execution_count": 19,
     "metadata": {},
     "output_type": "execute_result"
    }
   ],
   "source": [
    "train_df['Embarked'].fillna('S', inplace=True)\n",
    "train_df.Embarked.isnull().any()"
   ]
  },
  {
   "cell_type": "markdown",
   "id": "fee3ae46",
   "metadata": {
    "papermill": {
     "duration": 0.01934,
     "end_time": "2023-01-20T05:54:52.462446",
     "exception": false,
     "start_time": "2023-01-20T05:54:52.443106",
     "status": "completed"
    },
    "tags": []
   },
   "source": [
    "## **Feature 5: SibSp**"
   ]
  },
  {
   "cell_type": "code",
   "execution_count": 20,
   "id": "7f4bd9f9",
   "metadata": {
    "execution": {
     "iopub.execute_input": "2023-01-20T05:54:52.503417Z",
     "iopub.status.busy": "2023-01-20T05:54:52.502705Z",
     "iopub.status.idle": "2023-01-20T05:54:52.549925Z",
     "shell.execute_reply": "2023-01-20T05:54:52.548953Z"
    },
    "papermill": {
     "duration": 0.070545,
     "end_time": "2023-01-20T05:54:52.552204",
     "exception": false,
     "start_time": "2023-01-20T05:54:52.481659",
     "status": "completed"
    },
    "tags": []
   },
   "outputs": [
    {
     "data": {
      "text/html": [
       "<style type=\"text/css\">\n",
       "#T_63162_row0_col0 {\n",
       "  background-color: #1077b4;\n",
       "  color: #f1f1f1;\n",
       "}\n",
       "#T_63162_row0_col1 {\n",
       "  background-color: #3b92c1;\n",
       "  color: #f1f1f1;\n",
       "}\n",
       "#T_63162_row0_col2 {\n",
       "  background-color: #2081b9;\n",
       "  color: #f1f1f1;\n",
       "}\n",
       "#T_63162_row1_col0 {\n",
       "  background-color: #e2dfee;\n",
       "  color: #000000;\n",
       "}\n",
       "#T_63162_row1_col1 {\n",
       "  background-color: #b7c5df;\n",
       "  color: #000000;\n",
       "}\n",
       "#T_63162_row1_col2 {\n",
       "  background-color: #d5d5e8;\n",
       "  color: #000000;\n",
       "}\n",
       "#T_63162_row2_col0, #T_63162_row3_col0, #T_63162_row3_col2, #T_63162_row4_col0, #T_63162_row4_col2 {\n",
       "  background-color: #fdf5fa;\n",
       "  color: #000000;\n",
       "}\n",
       "#T_63162_row2_col1 {\n",
       "  background-color: #faf2f8;\n",
       "  color: #000000;\n",
       "}\n",
       "#T_63162_row2_col2 {\n",
       "  background-color: #fbf4f9;\n",
       "  color: #000000;\n",
       "}\n",
       "#T_63162_row3_col1, #T_63162_row4_col1 {\n",
       "  background-color: #fef6fa;\n",
       "  color: #000000;\n",
       "}\n",
       "#T_63162_row5_col0, #T_63162_row5_col1, #T_63162_row5_col2, #T_63162_row6_col0, #T_63162_row6_col1, #T_63162_row6_col2 {\n",
       "  background-color: #fff7fb;\n",
       "  color: #000000;\n",
       "}\n",
       "#T_63162_row7_col0, #T_63162_row7_col1, #T_63162_row7_col2 {\n",
       "  background-color: #023858;\n",
       "  color: #f1f1f1;\n",
       "}\n",
       "</style>\n",
       "<table id=\"T_63162_\">\n",
       "  <thead>\n",
       "    <tr>\n",
       "      <th class=\"index_name level0\" >Survived</th>\n",
       "      <th class=\"col_heading level0 col0\" >0</th>\n",
       "      <th class=\"col_heading level0 col1\" >1</th>\n",
       "      <th class=\"col_heading level0 col2\" >All</th>\n",
       "    </tr>\n",
       "    <tr>\n",
       "      <th class=\"index_name level0\" >SibSp</th>\n",
       "      <th class=\"blank col0\" >&nbsp;</th>\n",
       "      <th class=\"blank col1\" >&nbsp;</th>\n",
       "      <th class=\"blank col2\" >&nbsp;</th>\n",
       "    </tr>\n",
       "  </thead>\n",
       "  <tbody>\n",
       "    <tr>\n",
       "      <th id=\"T_63162_level0_row0\" class=\"row_heading level0 row0\" >0</th>\n",
       "      <td id=\"T_63162_row0_col0\" class=\"data row0 col0\" >398</td>\n",
       "      <td id=\"T_63162_row0_col1\" class=\"data row0 col1\" >210</td>\n",
       "      <td id=\"T_63162_row0_col2\" class=\"data row0 col2\" >608</td>\n",
       "    </tr>\n",
       "    <tr>\n",
       "      <th id=\"T_63162_level0_row1\" class=\"row_heading level0 row1\" >1</th>\n",
       "      <td id=\"T_63162_row1_col0\" class=\"data row1 col0\" >97</td>\n",
       "      <td id=\"T_63162_row1_col1\" class=\"data row1 col1\" >112</td>\n",
       "      <td id=\"T_63162_row1_col2\" class=\"data row1 col2\" >209</td>\n",
       "    </tr>\n",
       "    <tr>\n",
       "      <th id=\"T_63162_level0_row2\" class=\"row_heading level0 row2\" >2</th>\n",
       "      <td id=\"T_63162_row2_col0\" class=\"data row2 col0\" >15</td>\n",
       "      <td id=\"T_63162_row2_col1\" class=\"data row2 col1\" >13</td>\n",
       "      <td id=\"T_63162_row2_col2\" class=\"data row2 col2\" >28</td>\n",
       "    </tr>\n",
       "    <tr>\n",
       "      <th id=\"T_63162_level0_row3\" class=\"row_heading level0 row3\" >3</th>\n",
       "      <td id=\"T_63162_row3_col0\" class=\"data row3 col0\" >12</td>\n",
       "      <td id=\"T_63162_row3_col1\" class=\"data row3 col1\" >4</td>\n",
       "      <td id=\"T_63162_row3_col2\" class=\"data row3 col2\" >16</td>\n",
       "    </tr>\n",
       "    <tr>\n",
       "      <th id=\"T_63162_level0_row4\" class=\"row_heading level0 row4\" >4</th>\n",
       "      <td id=\"T_63162_row4_col0\" class=\"data row4 col0\" >15</td>\n",
       "      <td id=\"T_63162_row4_col1\" class=\"data row4 col1\" >3</td>\n",
       "      <td id=\"T_63162_row4_col2\" class=\"data row4 col2\" >18</td>\n",
       "    </tr>\n",
       "    <tr>\n",
       "      <th id=\"T_63162_level0_row5\" class=\"row_heading level0 row5\" >5</th>\n",
       "      <td id=\"T_63162_row5_col0\" class=\"data row5 col0\" >5</td>\n",
       "      <td id=\"T_63162_row5_col1\" class=\"data row5 col1\" >0</td>\n",
       "      <td id=\"T_63162_row5_col2\" class=\"data row5 col2\" >5</td>\n",
       "    </tr>\n",
       "    <tr>\n",
       "      <th id=\"T_63162_level0_row6\" class=\"row_heading level0 row6\" >8</th>\n",
       "      <td id=\"T_63162_row6_col0\" class=\"data row6 col0\" >7</td>\n",
       "      <td id=\"T_63162_row6_col1\" class=\"data row6 col1\" >0</td>\n",
       "      <td id=\"T_63162_row6_col2\" class=\"data row6 col2\" >7</td>\n",
       "    </tr>\n",
       "    <tr>\n",
       "      <th id=\"T_63162_level0_row7\" class=\"row_heading level0 row7\" >All</th>\n",
       "      <td id=\"T_63162_row7_col0\" class=\"data row7 col0\" >549</td>\n",
       "      <td id=\"T_63162_row7_col1\" class=\"data row7 col1\" >342</td>\n",
       "      <td id=\"T_63162_row7_col2\" class=\"data row7 col2\" >891</td>\n",
       "    </tr>\n",
       "  </tbody>\n",
       "</table>\n"
      ],
      "text/plain": [
       "<pandas.io.formats.style.Styler at 0x7f125912ba10>"
      ]
     },
     "execution_count": 20,
     "metadata": {},
     "output_type": "execute_result"
    }
   ],
   "source": [
    "pd.crosstab([train_df.SibSp],train_df.Survived, margins=True).style.background_gradient()"
   ]
  },
  {
   "cell_type": "code",
   "execution_count": 21,
   "id": "5f0d46b1",
   "metadata": {
    "execution": {
     "iopub.execute_input": "2023-01-20T05:54:52.594169Z",
     "iopub.status.busy": "2023-01-20T05:54:52.593533Z",
     "iopub.status.idle": "2023-01-20T05:54:53.233693Z",
     "shell.execute_reply": "2023-01-20T05:54:53.232218Z"
    },
    "papermill": {
     "duration": 0.664196,
     "end_time": "2023-01-20T05:54:53.236407",
     "exception": false,
     "start_time": "2023-01-20T05:54:52.572211",
     "status": "completed"
    },
    "tags": []
   },
   "outputs": [
    {
     "data": {
      "image/png": "[encoded data removed]",
      "text/plain": [
       "<Figure size 1296x576 with 2 Axes>"
      ]
     },
     "metadata": {
      "needs_background": "light"
     },
     "output_type": "display_data"
    }
   ],
   "source": [
    "f,ax=plt.subplots(1,2,figsize=(18,8))\n",
    "train_df['SibSp'].value_counts().plot.bar(ax=ax[0])\n",
    "ax[0].set_title('fig 1')\n",
    "ax[0].set_ylabel('Count')\n",
    "sns.barplot('SibSp','Survived',data=train_df,ax=ax[1])\n",
    "ax[1].set_title('fig 2')\n",
    "plt.show()"
   ]
  },
  {
   "cell_type": "markdown",
   "id": "c2b57cef",
   "metadata": {
    "papermill": {
     "duration": 0.0204,
     "end_time": "2023-01-20T05:54:53.277251",
     "exception": false,
     "start_time": "2023-01-20T05:54:53.256851",
     "status": "completed"
    },
    "tags": []
   },
   "source": [
    "*  SibSp가 0명인 승객이 67%이고 1명인 승객이 23%로 둘이 약 90%를 차지함\n",
    "*  형제, 자매가 1~2명 있는 경우 0명인 사람보다 높은 생존률을 보임"
   ]
  },
  {
   "cell_type": "markdown",
   "id": "991b1038",
   "metadata": {
    "papermill": {
     "duration": 0.019779,
     "end_time": "2023-01-20T05:54:53.317108",
     "exception": false,
     "start_time": "2023-01-20T05:54:53.297329",
     "status": "completed"
    },
    "tags": []
   },
   "source": [
    "## **Feature 6: Parch**"
   ]
  },
  {
   "cell_type": "code",
   "execution_count": 22,
   "id": "041dbf00",
   "metadata": {
    "execution": {
     "iopub.execute_input": "2023-01-20T05:54:53.359552Z",
     "iopub.status.busy": "2023-01-20T05:54:53.359135Z",
     "iopub.status.idle": "2023-01-20T05:54:53.405974Z",
     "shell.execute_reply": "2023-01-20T05:54:53.404776Z"
    },
    "papermill": {
     "duration": 0.071233,
     "end_time": "2023-01-20T05:54:53.408656",
     "exception": false,
     "start_time": "2023-01-20T05:54:53.337423",
     "status": "completed"
    },
    "tags": []
   },
   "outputs": [
    {
     "data": {
      "text/html": [
       "<style type=\"text/css\">\n",
       "#T_fad38_row0_col0 {\n",
       "  background-color: #05659f;\n",
       "  color: #f1f1f1;\n",
       "}\n",
       "#T_fad38_row0_col1 {\n",
       "  background-color: #2081b9;\n",
       "  color: #f1f1f1;\n",
       "}\n",
       "#T_fad38_row0_col2 {\n",
       "  background-color: #056ead;\n",
       "  color: #f1f1f1;\n",
       "}\n",
       "#T_fad38_row1_col0 {\n",
       "  background-color: #f1ebf4;\n",
       "  color: #000000;\n",
       "}\n",
       "#T_fad38_row1_col1 {\n",
       "  background-color: #dedcec;\n",
       "  color: #000000;\n",
       "}\n",
       "#T_fad38_row1_col2 {\n",
       "  background-color: #ebe6f2;\n",
       "  color: #000000;\n",
       "}\n",
       "#T_fad38_row2_col0 {\n",
       "  background-color: #f4eef6;\n",
       "  color: #000000;\n",
       "}\n",
       "#T_fad38_row2_col1 {\n",
       "  background-color: #eee8f3;\n",
       "  color: #000000;\n",
       "}\n",
       "#T_fad38_row2_col2 {\n",
       "  background-color: #f2ecf5;\n",
       "  color: #000000;\n",
       "}\n",
       "#T_fad38_row3_col0, #T_fad38_row4_col1, #T_fad38_row4_col2, #T_fad38_row5_col1, #T_fad38_row6_col0, #T_fad38_row6_col1, #T_fad38_row6_col2 {\n",
       "  background-color: #fff7fb;\n",
       "  color: #000000;\n",
       "}\n",
       "#T_fad38_row3_col1 {\n",
       "  background-color: #fef6fa;\n",
       "  color: #000000;\n",
       "}\n",
       "#T_fad38_row3_col2, #T_fad38_row4_col0, #T_fad38_row5_col0, #T_fad38_row5_col2 {\n",
       "  background-color: #fef6fb;\n",
       "  color: #000000;\n",
       "}\n",
       "#T_fad38_row7_col0, #T_fad38_row7_col1, #T_fad38_row7_col2 {\n",
       "  background-color: #023858;\n",
       "  color: #f1f1f1;\n",
       "}\n",
       "</style>\n",
       "<table id=\"T_fad38_\">\n",
       "  <thead>\n",
       "    <tr>\n",
       "      <th class=\"index_name level0\" >Survived</th>\n",
       "      <th class=\"col_heading level0 col0\" >0</th>\n",
       "      <th class=\"col_heading level0 col1\" >1</th>\n",
       "      <th class=\"col_heading level0 col2\" >All</th>\n",
       "    </tr>\n",
       "    <tr>\n",
       "      <th class=\"index_name level0\" >Parch</th>\n",
       "      <th class=\"blank col0\" >&nbsp;</th>\n",
       "      <th class=\"blank col1\" >&nbsp;</th>\n",
       "      <th class=\"blank col2\" >&nbsp;</th>\n",
       "    </tr>\n",
       "  </thead>\n",
       "  <tbody>\n",
       "    <tr>\n",
       "      <th id=\"T_fad38_level0_row0\" class=\"row_heading level0 row0\" >0</th>\n",
       "      <td id=\"T_fad38_row0_col0\" class=\"data row0 col0\" >445</td>\n",
       "      <td id=\"T_fad38_row0_col1\" class=\"data row0 col1\" >233</td>\n",
       "      <td id=\"T_fad38_row0_col2\" class=\"data row0 col2\" >678</td>\n",
       "    </tr>\n",
       "    <tr>\n",
       "      <th id=\"T_fad38_level0_row1\" class=\"row_heading level0 row1\" >1</th>\n",
       "      <td id=\"T_fad38_row1_col0\" class=\"data row1 col0\" >53</td>\n",
       "      <td id=\"T_fad38_row1_col1\" class=\"data row1 col1\" >65</td>\n",
       "      <td id=\"T_fad38_row1_col2\" class=\"data row1 col2\" >118</td>\n",
       "    </tr>\n",
       "    <tr>\n",
       "      <th id=\"T_fad38_level0_row2\" class=\"row_heading level0 row2\" >2</th>\n",
       "      <td id=\"T_fad38_row2_col0\" class=\"data row2 col0\" >40</td>\n",
       "      <td id=\"T_fad38_row2_col1\" class=\"data row2 col1\" >40</td>\n",
       "      <td id=\"T_fad38_row2_col2\" class=\"data row2 col2\" >80</td>\n",
       "    </tr>\n",
       "    <tr>\n",
       "      <th id=\"T_fad38_level0_row3\" class=\"row_heading level0 row3\" >3</th>\n",
       "      <td id=\"T_fad38_row3_col0\" class=\"data row3 col0\" >2</td>\n",
       "      <td id=\"T_fad38_row3_col1\" class=\"data row3 col1\" >3</td>\n",
       "      <td id=\"T_fad38_row3_col2\" class=\"data row3 col2\" >5</td>\n",
       "    </tr>\n",
       "    <tr>\n",
       "      <th id=\"T_fad38_level0_row4\" class=\"row_heading level0 row4\" >4</th>\n",
       "      <td id=\"T_fad38_row4_col0\" class=\"data row4 col0\" >4</td>\n",
       "      <td id=\"T_fad38_row4_col1\" class=\"data row4 col1\" >0</td>\n",
       "      <td id=\"T_fad38_row4_col2\" class=\"data row4 col2\" >4</td>\n",
       "    </tr>\n",
       "    <tr>\n",
       "      <th id=\"T_fad38_level0_row5\" class=\"row_heading level0 row5\" >5</th>\n",
       "      <td id=\"T_fad38_row5_col0\" class=\"data row5 col0\" >4</td>\n",
       "      <td id=\"T_fad38_row5_col1\" class=\"data row5 col1\" >1</td>\n",
       "      <td id=\"T_fad38_row5_col2\" class=\"data row5 col2\" >5</td>\n",
       "    </tr>\n",
       "    <tr>\n",
       "      <th id=\"T_fad38_level0_row6\" class=\"row_heading level0 row6\" >6</th>\n",
       "      <td id=\"T_fad38_row6_col0\" class=\"data row6 col0\" >1</td>\n",
       "      <td id=\"T_fad38_row6_col1\" class=\"data row6 col1\" >0</td>\n",
       "      <td id=\"T_fad38_row6_col2\" class=\"data row6 col2\" >1</td>\n",
       "    </tr>\n",
       "    <tr>\n",
       "      <th id=\"T_fad38_level0_row7\" class=\"row_heading level0 row7\" >All</th>\n",
       "      <td id=\"T_fad38_row7_col0\" class=\"data row7 col0\" >549</td>\n",
       "      <td id=\"T_fad38_row7_col1\" class=\"data row7 col1\" >342</td>\n",
       "      <td id=\"T_fad38_row7_col2\" class=\"data row7 col2\" >891</td>\n",
       "    </tr>\n",
       "  </tbody>\n",
       "</table>\n"
      ],
      "text/plain": [
       "<pandas.io.formats.style.Styler at 0x7f125905ecd0>"
      ]
     },
     "execution_count": 22,
     "metadata": {},
     "output_type": "execute_result"
    }
   ],
   "source": [
    "pd.crosstab([train_df.Parch],train_df.Survived, margins=True).style.background_gradient()"
   ]
  },
  {
   "cell_type": "code",
   "execution_count": 23,
   "id": "6585524b",
   "metadata": {
    "execution": {
     "iopub.execute_input": "2023-01-20T05:54:53.453941Z",
     "iopub.status.busy": "2023-01-20T05:54:53.452764Z",
     "iopub.status.idle": "2023-01-20T05:54:53.917264Z",
     "shell.execute_reply": "2023-01-20T05:54:53.916297Z"
    },
    "papermill": {
     "duration": 0.49006,
     "end_time": "2023-01-20T05:54:53.919812",
     "exception": false,
     "start_time": "2023-01-20T05:54:53.429752",
     "status": "completed"
    },
    "tags": []
   },
   "outputs": [
    {
     "data": {
      "image/png": "[encoded data removed]",
      "text/plain": [
       "<Figure size 1296x576 with 2 Axes>"
      ]
     },
     "metadata": {
      "needs_background": "light"
     },
     "output_type": "display_data"
    }
   ],
   "source": [
    "f,ax=plt.subplots(1,2,figsize=(18,8))\n",
    "train_df['Parch'].value_counts().plot.bar(ax=ax[0])\n",
    "ax[0].set_title('fig 1')\n",
    "ax[0].set_ylabel('Count')\n",
    "sns.barplot('Parch','Survived',data=train_df,ax=ax[1])\n",
    "ax[1].set_title('fig 2')\n",
    "plt.show()"
   ]
  },
  {
   "cell_type": "markdown",
   "id": "7801340d",
   "metadata": {
    "papermill": {
     "duration": 0.021938,
     "end_time": "2023-01-20T05:54:53.963942",
     "exception": false,
     "start_time": "2023-01-20T05:54:53.942004",
     "status": "completed"
    },
    "tags": []
   },
   "source": [
    "* Parch 역시 0과 1 값이 주를 이루고 있음\n",
    "* Parch 역시 SibSp과 마찬가지로 1명이상인 경우가 0명보다 생존률이 높음 "
   ]
  },
  {
   "cell_type": "markdown",
   "id": "0e80d749",
   "metadata": {
    "papermill": {
     "duration": 0.021163,
     "end_time": "2023-01-20T05:54:54.006743",
     "exception": false,
     "start_time": "2023-01-20T05:54:53.985580",
     "status": "completed"
    },
    "tags": []
   },
   "source": [
    "## **Feature 7: Fare (Continous Feature)**"
   ]
  },
  {
   "cell_type": "code",
   "execution_count": 24,
   "id": "fb2fae85",
   "metadata": {
    "execution": {
     "iopub.execute_input": "2023-01-20T05:54:54.051089Z",
     "iopub.status.busy": "2023-01-20T05:54:54.050651Z",
     "iopub.status.idle": "2023-01-20T05:54:54.059209Z",
     "shell.execute_reply": "2023-01-20T05:54:54.057860Z"
    },
    "papermill": {
     "duration": 0.034134,
     "end_time": "2023-01-20T05:54:54.061863",
     "exception": false,
     "start_time": "2023-01-20T05:54:54.027729",
     "status": "completed"
    },
    "tags": []
   },
   "outputs": [
    {
     "name": "stdout",
     "output_type": "stream",
     "text": [
      "Min Fare : 0.0\n",
      "Max Fare : 512.3292\n",
      "Average Fare : 32.2\n"
     ]
    }
   ],
   "source": [
    "print(\"Min Fare :\", train_df['Fare'].min())\n",
    "print(\"Max Fare :\", train_df['Fare'].max())\n",
    "print(\"Average Fare :\", round(train_df['Fare'].mean(),2))"
   ]
  },
  {
   "cell_type": "code",
   "execution_count": 25,
   "id": "f6e3f57e",
   "metadata": {
    "execution": {
     "iopub.execute_input": "2023-01-20T05:54:54.107479Z",
     "iopub.status.busy": "2023-01-20T05:54:54.106975Z",
     "iopub.status.idle": "2023-01-20T05:54:54.690421Z",
     "shell.execute_reply": "2023-01-20T05:54:54.689401Z"
    },
    "papermill": {
     "duration": 0.610122,
     "end_time": "2023-01-20T05:54:54.693035",
     "exception": false,
     "start_time": "2023-01-20T05:54:54.082913",
     "status": "completed"
    },
    "tags": []
   },
   "outputs": [
    {
     "data": {
      "image/png": "[encoded data removed]",
      "text/plain": [
       "<Figure size 1440x576 with 3 Axes>"
      ]
     },
     "metadata": {
      "needs_background": "light"
     },
     "output_type": "display_data"
    }
   ],
   "source": [
    "f,ax=plt.subplots(1,3,figsize=(20,8))\n",
    "sns.distplot(train_df[train_df['Pclass']==1].Fare,ax=ax[0])\n",
    "ax[0].set_title('Fares in Pclass 1')\n",
    "sns.distplot(train_df[train_df['Pclass']==2].Fare,ax=ax[1])\n",
    "ax[1].set_title('Fares in Pclass 2')\n",
    "sns.distplot(train_df[train_df['Pclass']==3].Fare,ax=ax[2])\n",
    "ax[2].set_title('Fares in Pclass 3')\n",
    "plt.show()"
   ]
  },
  {
   "cell_type": "markdown",
   "id": "32fb1c10",
   "metadata": {
    "papermill": {
     "duration": 0.021176,
     "end_time": "2023-01-20T05:54:54.736614",
     "exception": false,
     "start_time": "2023-01-20T05:54:54.715438",
     "status": "completed"
    },
    "tags": []
   },
   "source": [
    "# **Feature Result** "
   ]
  },
  {
   "cell_type": "markdown",
   "id": "c10ab5de",
   "metadata": {
    "papermill": {
     "duration": 0.021235,
     "end_time": "2023-01-20T05:54:54.779317",
     "exception": false,
     "start_time": "2023-01-20T05:54:54.758082",
     "status": "completed"
    },
    "tags": []
   },
   "source": [
    "* **Sex**: 여성이 남성보다 생존률이 높음\n",
    "* **Pclass**: 좋은 등석일수록 생존률이 높음\n",
    "* **Age**: 어린아이(age<=5)가 생존률이 높고, 14~25세가 가장 많이 사망함\n",
    "* **Embarked**: 'S'가 가장 많고 그 안에서 Pclass가 1<2<3등석 인원순으로 분포함 \n",
    "* **Fare**: Pclass의 1,2,3등석에 따라 요금도 그에 상응하는 결과를 보임\n",
    "* **SibSp,Parch**: 둘 모두 0명보다 1~3명정도 존재할 때 생존률이 높음"
   ]
  },
  {
   "cell_type": "code",
   "execution_count": 26,
   "id": "30e3ce7b",
   "metadata": {
    "execution": {
     "iopub.execute_input": "2023-01-20T05:54:54.824578Z",
     "iopub.status.busy": "2023-01-20T05:54:54.824133Z",
     "iopub.status.idle": "2023-01-20T05:54:55.292098Z",
     "shell.execute_reply": "2023-01-20T05:54:55.291218Z"
    },
    "papermill": {
     "duration": 0.493583,
     "end_time": "2023-01-20T05:54:55.294350",
     "exception": false,
     "start_time": "2023-01-20T05:54:54.800767",
     "status": "completed"
    },
    "tags": []
   },
   "outputs": [
    {
     "data": {
      "image/png": "[encoded data removed]",
      "text/plain": [
       "<Figure size 1440x720 with 2 Axes>"
      ]
     },
     "metadata": {
      "needs_background": "light"
     },
     "output_type": "display_data"
    }
   ],
   "source": [
    "sns.heatmap(train_df.corr(), annot=True, cmap='RdYlGn', linewidths=0.2)\n",
    "fig=plt.gcf()\n",
    "fig.set_size_inches(20,10)\n",
    "plt.show()"
   ]
  },
  {
   "cell_type": "markdown",
   "id": "1d938c93",
   "metadata": {
    "papermill": {
     "duration": 0.022745,
     "end_time": "2023-01-20T05:54:55.339802",
     "exception": false,
     "start_time": "2023-01-20T05:54:55.317057",
     "status": "completed"
    },
    "tags": []
   },
   "source": [
    "*  SibSp와 Parch는 상관계수가 높음을 알 수 있음\n",
    "*  상관계수가 매우 높은 두 feature면 둘 중 하나만 선택하는 것도 방법"
   ]
  },
  {
   "cell_type": "markdown",
   "id": "981d46ae",
   "metadata": {
    "papermill": {
     "duration": 0.022495,
     "end_time": "2023-01-20T05:54:55.386097",
     "exception": false,
     "start_time": "2023-01-20T05:54:55.363602",
     "status": "completed"
    },
    "tags": []
   },
   "source": [
    "# **데이터 전처리**"
   ]
  },
  {
   "cell_type": "code",
   "execution_count": 27,
   "id": "06d8a278",
   "metadata": {
    "execution": {
     "iopub.execute_input": "2023-01-20T05:54:55.433794Z",
     "iopub.status.busy": "2023-01-20T05:54:55.433001Z",
     "iopub.status.idle": "2023-01-20T05:54:55.441199Z",
     "shell.execute_reply": "2023-01-20T05:54:55.440137Z"
    },
    "papermill": {
     "duration": 0.0351,
     "end_time": "2023-01-20T05:54:55.444014",
     "exception": false,
     "start_time": "2023-01-20T05:54:55.408914",
     "status": "completed"
    },
    "tags": []
   },
   "outputs": [],
   "source": [
    "# 불필요한 특성 제거\n",
    "def drop(df):\n",
    "    df.drop(['PassengerId', 'Name', 'Ticket', 'Cabin'], axis=1, inplace=True)\n",
    "    return df\n",
    "\n",
    "# 문자형을 숫자로 변환 \n",
    "def encode(df):\n",
    "    df['Sex'].replace(['male','female'],[0,1],inplace=True)\n",
    "    df['Embarked'].replace(['S','C','Q'],[0,1,2],inplace=True)\n",
    "    return df\n",
    "\n",
    "# 결측치 채우기\n",
    "def fillna(df):\n",
    "    df['Age'].fillna(df['Age'].mean(), inplace=True)\n",
    "    df['Embarked'].fillna('S', inplace=True)\n",
    "    df['Fare'].fillna(df['Fare'].mean(), inplace=True)\n",
    "    return df\n",
    "\n"
   ]
  },
  {
   "cell_type": "code",
   "execution_count": 28,
   "id": "e3a2561e",
   "metadata": {
    "execution": {
     "iopub.execute_input": "2023-01-20T05:54:55.492783Z",
     "iopub.status.busy": "2023-01-20T05:54:55.491858Z",
     "iopub.status.idle": "2023-01-20T05:54:55.512185Z",
     "shell.execute_reply": "2023-01-20T05:54:55.511274Z"
    },
    "papermill": {
     "duration": 0.048032,
     "end_time": "2023-01-20T05:54:55.514585",
     "exception": false,
     "start_time": "2023-01-20T05:54:55.466553",
     "status": "completed"
    },
    "tags": []
   },
   "outputs": [
    {
     "data": {
      "text/html": [
       "<div>\n",
       "<style scoped>\n",
       "    .dataframe tbody tr th:only-of-type {\n",
       "        vertical-align: middle;\n",
       "    }\n",
       "\n",
       "    .dataframe tbody tr th {\n",
       "        vertical-align: top;\n",
       "    }\n",
       "\n",
       "    .dataframe thead th {\n",
       "        text-align: right;\n",
       "    }\n",
       "</style>\n",
       "<table border=\"1\" class=\"dataframe\">\n",
       "  <thead>\n",
       "    <tr style=\"text-align: right;\">\n",
       "      <th></th>\n",
       "      <th>Pclass</th>\n",
       "      <th>Sex</th>\n",
       "      <th>Age</th>\n",
       "      <th>SibSp</th>\n",
       "      <th>Parch</th>\n",
       "      <th>Fare</th>\n",
       "      <th>Embarked</th>\n",
       "    </tr>\n",
       "  </thead>\n",
       "  <tbody>\n",
       "    <tr>\n",
       "      <th>0</th>\n",
       "      <td>3</td>\n",
       "      <td>0</td>\n",
       "      <td>22.0</td>\n",
       "      <td>1</td>\n",
       "      <td>0</td>\n",
       "      <td>7.2500</td>\n",
       "      <td>0</td>\n",
       "    </tr>\n",
       "    <tr>\n",
       "      <th>1</th>\n",
       "      <td>1</td>\n",
       "      <td>1</td>\n",
       "      <td>38.0</td>\n",
       "      <td>1</td>\n",
       "      <td>0</td>\n",
       "      <td>71.2833</td>\n",
       "      <td>1</td>\n",
       "    </tr>\n",
       "    <tr>\n",
       "      <th>2</th>\n",
       "      <td>3</td>\n",
       "      <td>1</td>\n",
       "      <td>26.0</td>\n",
       "      <td>0</td>\n",
       "      <td>0</td>\n",
       "      <td>7.9250</td>\n",
       "      <td>0</td>\n",
       "    </tr>\n",
       "    <tr>\n",
       "      <th>3</th>\n",
       "      <td>1</td>\n",
       "      <td>1</td>\n",
       "      <td>35.0</td>\n",
       "      <td>1</td>\n",
       "      <td>0</td>\n",
       "      <td>53.1000</td>\n",
       "      <td>0</td>\n",
       "    </tr>\n",
       "    <tr>\n",
       "      <th>4</th>\n",
       "      <td>3</td>\n",
       "      <td>0</td>\n",
       "      <td>35.0</td>\n",
       "      <td>0</td>\n",
       "      <td>0</td>\n",
       "      <td>8.0500</td>\n",
       "      <td>0</td>\n",
       "    </tr>\n",
       "  </tbody>\n",
       "</table>\n",
       "</div>"
      ],
      "text/plain": [
       "   Pclass  Sex   Age  SibSp  Parch     Fare  Embarked\n",
       "0       3    0  22.0      1      0   7.2500         0\n",
       "1       1    1  38.0      1      0  71.2833         1\n",
       "2       3    1  26.0      0      0   7.9250         0\n",
       "3       1    1  35.0      1      0  53.1000         0\n",
       "4       3    0  35.0      0      0   8.0500         0"
      ]
     },
     "execution_count": 28,
     "metadata": {},
     "output_type": "execute_result"
    }
   ],
   "source": [
    "y_titanic=train_df['Survived']\n",
    "X_titanic=train_df.drop('Survived', axis=1)\n",
    "drop(X_titanic)\n",
    "encode(X_titanic)\n",
    "fillna(X_titanic)\n",
    "X_titanic.head()\n"
   ]
  },
  {
   "cell_type": "code",
   "execution_count": 29,
   "id": "31fbf53d",
   "metadata": {
    "execution": {
     "iopub.execute_input": "2023-01-20T05:54:55.562503Z",
     "iopub.status.busy": "2023-01-20T05:54:55.561735Z",
     "iopub.status.idle": "2023-01-20T05:54:55.765995Z",
     "shell.execute_reply": "2023-01-20T05:54:55.764652Z"
    },
    "papermill": {
     "duration": 0.231237,
     "end_time": "2023-01-20T05:54:55.768817",
     "exception": false,
     "start_time": "2023-01-20T05:54:55.537580",
     "status": "completed"
    },
    "tags": []
   },
   "outputs": [],
   "source": [
    "from sklearn.model_selection import train_test_split\n",
    "X_train, X_test, y_train, y_test=train_test_split(X_titanic, y_titanic, test_size=0.2)"
   ]
  },
  {
   "cell_type": "code",
   "execution_count": 30,
   "id": "4b3e1401",
   "metadata": {
    "execution": {
     "iopub.execute_input": "2023-01-20T05:54:55.816818Z",
     "iopub.status.busy": "2023-01-20T05:54:55.815763Z",
     "iopub.status.idle": "2023-01-20T05:54:56.053833Z",
     "shell.execute_reply": "2023-01-20T05:54:56.052787Z"
    },
    "papermill": {
     "duration": 0.265858,
     "end_time": "2023-01-20T05:54:56.057498",
     "exception": false,
     "start_time": "2023-01-20T05:54:55.791640",
     "status": "completed"
    },
    "tags": []
   },
   "outputs": [],
   "source": [
    "from sklearn.linear_model import LogisticRegression\n",
    "from sklearn.ensemble import RandomForestClassifier\n",
    "from sklearn.tree import DecisionTreeClassifier\n",
    "from sklearn.metrics import accuracy_score\n",
    "from sklearn.model_selection import GridSearchCV"
   ]
  },
  {
   "cell_type": "markdown",
   "id": "d218c424",
   "metadata": {
    "papermill": {
     "duration": 0.025725,
     "end_time": "2023-01-20T05:54:56.114828",
     "exception": false,
     "start_time": "2023-01-20T05:54:56.089103",
     "status": "completed"
    },
    "tags": []
   },
   "source": [
    "# **이진분류 수행(최적화 X)**"
   ]
  },
  {
   "cell_type": "markdown",
   "id": "a09bb59a",
   "metadata": {
    "papermill": {
     "duration": 0.023034,
     "end_time": "2023-01-20T05:54:56.165412",
     "exception": false,
     "start_time": "2023-01-20T05:54:56.142378",
     "status": "completed"
    },
    "tags": []
   },
   "source": [
    "## 1. LogisticRegression"
   ]
  },
  {
   "cell_type": "code",
   "execution_count": 31,
   "id": "4875d8fe",
   "metadata": {
    "execution": {
     "iopub.execute_input": "2023-01-20T05:54:56.214332Z",
     "iopub.status.busy": "2023-01-20T05:54:56.213677Z",
     "iopub.status.idle": "2023-01-20T05:54:56.253583Z",
     "shell.execute_reply": "2023-01-20T05:54:56.252152Z"
    },
    "papermill": {
     "duration": 0.067409,
     "end_time": "2023-01-20T05:54:56.256480",
     "exception": false,
     "start_time": "2023-01-20T05:54:56.189071",
     "status": "completed"
    },
    "tags": []
   },
   "outputs": [
    {
     "name": "stdout",
     "output_type": "stream",
     "text": [
      "Train_scores:  0.800561797752809\n",
      "Test_scores:  0.7988826815642458\n"
     ]
    }
   ],
   "source": [
    "# 로지스틱 회귀\n",
    "lr=LogisticRegression()\n",
    "lr.fit(X_train, y_train)\n",
    "print(\"Train_scores: \", lr.score(X_train, y_train))\n",
    "print(\"Test_scores: \", lr.score(X_test, y_test))"
   ]
  },
  {
   "cell_type": "markdown",
   "id": "a7b4f74a",
   "metadata": {
    "papermill": {
     "duration": 0.02293,
     "end_time": "2023-01-20T05:54:56.303590",
     "exception": false,
     "start_time": "2023-01-20T05:54:56.280660",
     "status": "completed"
    },
    "tags": []
   },
   "source": [
    "## 2. Decision Tree"
   ]
  },
  {
   "cell_type": "code",
   "execution_count": 32,
   "id": "0637b8e4",
   "metadata": {
    "execution": {
     "iopub.execute_input": "2023-01-20T05:54:56.351339Z",
     "iopub.status.busy": "2023-01-20T05:54:56.350941Z",
     "iopub.status.idle": "2023-01-20T05:54:56.367421Z",
     "shell.execute_reply": "2023-01-20T05:54:56.365959Z"
    },
    "papermill": {
     "duration": 0.043698,
     "end_time": "2023-01-20T05:54:56.370119",
     "exception": false,
     "start_time": "2023-01-20T05:54:56.326421",
     "status": "completed"
    },
    "tags": []
   },
   "outputs": [
    {
     "name": "stdout",
     "output_type": "stream",
     "text": [
      "Train_scores:  0.9859550561797753\n",
      "Test_scores:  0.776536312849162\n",
      "[0.07283768 0.30228295 0.24793114 0.0725769  0.02027181 0.25711877\n",
      " 0.02698075]\n"
     ]
    }
   ],
   "source": [
    "# 결정트리\n",
    "dt=DecisionTreeClassifier(random_state=10)\n",
    "dt.fit(X_train, y_train)\n",
    "print(\"Train_scores: \", dt.score(X_train, y_train))\n",
    "print(\"Test_scores: \", dt.score(X_test, y_test))\n",
    "print(dt.feature_importances_)"
   ]
  },
  {
   "cell_type": "markdown",
   "id": "3f649f72",
   "metadata": {
    "papermill": {
     "duration": 0.02325,
     "end_time": "2023-01-20T05:54:56.416710",
     "exception": false,
     "start_time": "2023-01-20T05:54:56.393460",
     "status": "completed"
    },
    "tags": []
   },
   "source": [
    "## 3. Random Forest"
   ]
  },
  {
   "cell_type": "code",
   "execution_count": 33,
   "id": "7579fcc3",
   "metadata": {
    "execution": {
     "iopub.execute_input": "2023-01-20T05:54:56.465883Z",
     "iopub.status.busy": "2023-01-20T05:54:56.464798Z",
     "iopub.status.idle": "2023-01-20T05:54:56.715132Z",
     "shell.execute_reply": "2023-01-20T05:54:56.713455Z"
    },
    "papermill": {
     "duration": 0.277694,
     "end_time": "2023-01-20T05:54:56.717939",
     "exception": false,
     "start_time": "2023-01-20T05:54:56.440245",
     "status": "completed"
    },
    "tags": []
   },
   "outputs": [
    {
     "name": "stdout",
     "output_type": "stream",
     "text": [
      "Train_scores:  0.9859550561797753\n",
      "Test_scores:  0.8379888268156425\n",
      "[0.07283768 0.30228295 0.24793114 0.0725769  0.02027181 0.25711877\n",
      " 0.02698075]\n"
     ]
    }
   ],
   "source": [
    "rf=RandomForestClassifier(random_state=10)\n",
    "rf.fit(X_train, y_train)\n",
    "print(\"Train_scores: \", rf.score(X_train, y_train))\n",
    "print(\"Test_scores: \", rf.score(X_test, y_test))\n",
    "print(dt.feature_importances_)"
   ]
  },
  {
   "cell_type": "markdown",
   "id": "2c340f7f",
   "metadata": {
    "papermill": {
     "duration": 0.022927,
     "end_time": "2023-01-20T05:54:56.764549",
     "exception": false,
     "start_time": "2023-01-20T05:54:56.741622",
     "status": "completed"
    },
    "tags": []
   },
   "source": [
    "# **GridSearch**"
   ]
  },
  {
   "cell_type": "markdown",
   "id": "df7c568b",
   "metadata": {
    "papermill": {
     "duration": 0.022923,
     "end_time": "2023-01-20T05:54:56.810954",
     "exception": false,
     "start_time": "2023-01-20T05:54:56.788031",
     "status": "completed"
    },
    "tags": []
   },
   "source": [
    "## 1. Logistic Regression"
   ]
  },
  {
   "cell_type": "code",
   "execution_count": 34,
   "id": "4fb3cc48",
   "metadata": {
    "execution": {
     "iopub.execute_input": "2023-01-20T05:54:56.860263Z",
     "iopub.status.busy": "2023-01-20T05:54:56.859558Z",
     "iopub.status.idle": "2023-01-20T05:55:01.170685Z",
     "shell.execute_reply": "2023-01-20T05:55:01.168825Z"
    },
    "papermill": {
     "duration": 4.338941,
     "end_time": "2023-01-20T05:55:01.173607",
     "exception": false,
     "start_time": "2023-01-20T05:54:56.834666",
     "status": "completed"
    },
    "tags": []
   },
   "outputs": [
    {
     "name": "stdout",
     "output_type": "stream",
     "text": [
      "0.7962868117797696\n",
      "LogisticRegression(C=2, max_iter=200)\n"
     ]
    }
   ],
   "source": [
    "params={\n",
    "    \"C\":[2, 4, 6, 8, 10],\n",
    "    \"max_iter\":[100, 200, 300, 400, 500]\n",
    "}\n",
    "lr=LogisticRegression()\n",
    "lr_grid=GridSearchCV(lr, param_grid=params, cv=5)\n",
    "lr_grid.fit(X_train, y_train)\n",
    "print(lr_grid.best_score_)\n",
    "print(lr_grid.best_estimator_)"
   ]
  },
  {
   "cell_type": "markdown",
   "id": "b85bc7a9",
   "metadata": {
    "papermill": {
     "duration": 0.022682,
     "end_time": "2023-01-20T05:55:01.220019",
     "exception": false,
     "start_time": "2023-01-20T05:55:01.197337",
     "status": "completed"
    },
    "tags": []
   },
   "source": [
    "## 2. Random Forest"
   ]
  },
  {
   "cell_type": "code",
   "execution_count": 35,
   "id": "a65e9f22",
   "metadata": {
    "execution": {
     "iopub.execute_input": "2023-01-20T05:55:01.268942Z",
     "iopub.status.busy": "2023-01-20T05:55:01.268482Z",
     "iopub.status.idle": "2023-01-20T06:00:34.352885Z",
     "shell.execute_reply": "2023-01-20T06:00:34.351495Z"
    },
    "papermill": {
     "duration": 333.136605,
     "end_time": "2023-01-20T06:00:34.379873",
     "exception": false,
     "start_time": "2023-01-20T05:55:01.243268",
     "status": "completed"
    },
    "tags": []
   },
   "outputs": [
    {
     "name": "stdout",
     "output_type": "stream",
     "text": [
      "Fitting 5 folds for each of 576 candidates, totalling 2880 fits\n",
      "0.8313995863291638\n",
      "RandomForestClassifier(bootstrap=False, max_depth=5, max_features=3,\n",
      "                       random_state=10)\n"
     ]
    }
   ],
   "source": [
    "params={\"max_depth\": [2, 3, 4, 5],\n",
    "              \"max_features\": [1, 3, 5, 7],\n",
    "              \"min_samples_split\": [2, 3, 4, 5],\n",
    "              \"min_samples_leaf\": [1, 3, 5],\n",
    "              \"bootstrap\": [False],\n",
    "              \"n_estimators\" :[100,200,300],\n",
    "              \"criterion\": [\"gini\"]\n",
    "       }\n",
    "rf=RandomForestClassifier(random_state=10)\n",
    "gd=GridSearchCV(rf,param_grid=params,verbose=True, n_jobs=-1)\n",
    "gd.fit(X_train,y_train)\n",
    "print(gd.best_score_)\n",
    "print(gd.best_estimator_)\n",
    "# tunning model\n",
    "rfc=gd.best_estimator_"
   ]
  },
  {
   "cell_type": "code",
   "execution_count": 36,
   "id": "548938f2",
   "metadata": {
    "execution": {
     "iopub.execute_input": "2023-01-20T06:00:34.432783Z",
     "iopub.status.busy": "2023-01-20T06:00:34.431200Z",
     "iopub.status.idle": "2023-01-20T06:00:34.441519Z",
     "shell.execute_reply": "2023-01-20T06:00:34.440476Z"
    },
    "papermill": {
     "duration": 0.039281,
     "end_time": "2023-01-20T06:00:34.444140",
     "exception": false,
     "start_time": "2023-01-20T06:00:34.404859",
     "status": "completed"
    },
    "tags": []
   },
   "outputs": [
    {
     "data": {
      "text/plain": [
       "{'bootstrap': False,\n",
       " 'criterion': 'gini',\n",
       " 'max_depth': 5,\n",
       " 'max_features': 3,\n",
       " 'min_samples_leaf': 1,\n",
       " 'min_samples_split': 2,\n",
       " 'n_estimators': 100}"
      ]
     },
     "execution_count": 36,
     "metadata": {},
     "output_type": "execute_result"
    }
   ],
   "source": [
    "gd.best_params_"
   ]
  },
  {
   "cell_type": "markdown",
   "id": "9fad0a01",
   "metadata": {
    "papermill": {
     "duration": 0.026407,
     "end_time": "2023-01-20T06:00:34.494810",
     "exception": false,
     "start_time": "2023-01-20T06:00:34.468403",
     "status": "completed"
    },
    "tags": []
   },
   "source": [
    "# **Testing**"
   ]
  },
  {
   "cell_type": "code",
   "execution_count": 37,
   "id": "c3f24636",
   "metadata": {
    "execution": {
     "iopub.execute_input": "2023-01-20T06:00:34.548325Z",
     "iopub.status.busy": "2023-01-20T06:00:34.547868Z",
     "iopub.status.idle": "2023-01-20T06:00:34.568020Z",
     "shell.execute_reply": "2023-01-20T06:00:34.566750Z"
    },
    "papermill": {
     "duration": 0.050063,
     "end_time": "2023-01-20T06:00:34.570989",
     "exception": false,
     "start_time": "2023-01-20T06:00:34.520926",
     "status": "completed"
    },
    "tags": []
   },
   "outputs": [
    {
     "data": {
      "text/html": [
       "<div>\n",
       "<style scoped>\n",
       "    .dataframe tbody tr th:only-of-type {\n",
       "        vertical-align: middle;\n",
       "    }\n",
       "\n",
       "    .dataframe tbody tr th {\n",
       "        vertical-align: top;\n",
       "    }\n",
       "\n",
       "    .dataframe thead th {\n",
       "        text-align: right;\n",
       "    }\n",
       "</style>\n",
       "<table border=\"1\" class=\"dataframe\">\n",
       "  <thead>\n",
       "    <tr style=\"text-align: right;\">\n",
       "      <th></th>\n",
       "      <th>PassengerId</th>\n",
       "      <th>Pclass</th>\n",
       "      <th>Name</th>\n",
       "      <th>Sex</th>\n",
       "      <th>Age</th>\n",
       "      <th>SibSp</th>\n",
       "      <th>Parch</th>\n",
       "      <th>Ticket</th>\n",
       "      <th>Fare</th>\n",
       "      <th>Cabin</th>\n",
       "      <th>Embarked</th>\n",
       "    </tr>\n",
       "  </thead>\n",
       "  <tbody>\n",
       "    <tr>\n",
       "      <th>0</th>\n",
       "      <td>892</td>\n",
       "      <td>3</td>\n",
       "      <td>Kelly, Mr. James</td>\n",
       "      <td>male</td>\n",
       "      <td>34.5</td>\n",
       "      <td>0</td>\n",
       "      <td>0</td>\n",
       "      <td>330911</td>\n",
       "      <td>7.8292</td>\n",
       "      <td>NaN</td>\n",
       "      <td>Q</td>\n",
       "    </tr>\n",
       "    <tr>\n",
       "      <th>1</th>\n",
       "      <td>893</td>\n",
       "      <td>3</td>\n",
       "      <td>Wilkes, Mrs. James (Ellen Needs)</td>\n",
       "      <td>female</td>\n",
       "      <td>47.0</td>\n",
       "      <td>1</td>\n",
       "      <td>0</td>\n",
       "      <td>363272</td>\n",
       "      <td>7.0000</td>\n",
       "      <td>NaN</td>\n",
       "      <td>S</td>\n",
       "    </tr>\n",
       "    <tr>\n",
       "      <th>2</th>\n",
       "      <td>894</td>\n",
       "      <td>2</td>\n",
       "      <td>Myles, Mr. Thomas Francis</td>\n",
       "      <td>male</td>\n",
       "      <td>62.0</td>\n",
       "      <td>0</td>\n",
       "      <td>0</td>\n",
       "      <td>240276</td>\n",
       "      <td>9.6875</td>\n",
       "      <td>NaN</td>\n",
       "      <td>Q</td>\n",
       "    </tr>\n",
       "    <tr>\n",
       "      <th>3</th>\n",
       "      <td>895</td>\n",
       "      <td>3</td>\n",
       "      <td>Wirz, Mr. Albert</td>\n",
       "      <td>male</td>\n",
       "      <td>27.0</td>\n",
       "      <td>0</td>\n",
       "      <td>0</td>\n",
       "      <td>315154</td>\n",
       "      <td>8.6625</td>\n",
       "      <td>NaN</td>\n",
       "      <td>S</td>\n",
       "    </tr>\n",
       "    <tr>\n",
       "      <th>4</th>\n",
       "      <td>896</td>\n",
       "      <td>3</td>\n",
       "      <td>Hirvonen, Mrs. Alexander (Helga E Lindqvist)</td>\n",
       "      <td>female</td>\n",
       "      <td>22.0</td>\n",
       "      <td>1</td>\n",
       "      <td>1</td>\n",
       "      <td>3101298</td>\n",
       "      <td>12.2875</td>\n",
       "      <td>NaN</td>\n",
       "      <td>S</td>\n",
       "    </tr>\n",
       "  </tbody>\n",
       "</table>\n",
       "</div>"
      ],
      "text/plain": [
       "   PassengerId  Pclass                                          Name     Sex  \\\n",
       "0          892       3                              Kelly, Mr. James    male   \n",
       "1          893       3              Wilkes, Mrs. James (Ellen Needs)  female   \n",
       "2          894       2                     Myles, Mr. Thomas Francis    male   \n",
       "3          895       3                              Wirz, Mr. Albert    male   \n",
       "4          896       3  Hirvonen, Mrs. Alexander (Helga E Lindqvist)  female   \n",
       "\n",
       "    Age  SibSp  Parch   Ticket     Fare Cabin Embarked  \n",
       "0  34.5      0      0   330911   7.8292   NaN        Q  \n",
       "1  47.0      1      0   363272   7.0000   NaN        S  \n",
       "2  62.0      0      0   240276   9.6875   NaN        Q  \n",
       "3  27.0      0      0   315154   8.6625   NaN        S  \n",
       "4  22.0      1      1  3101298  12.2875   NaN        S  "
      ]
     },
     "execution_count": 37,
     "metadata": {},
     "output_type": "execute_result"
    }
   ],
   "source": [
    "test_df.head()"
   ]
  },
  {
   "cell_type": "code",
   "execution_count": 38,
   "id": "70b58188",
   "metadata": {
    "execution": {
     "iopub.execute_input": "2023-01-20T06:00:34.623226Z",
     "iopub.status.busy": "2023-01-20T06:00:34.622491Z",
     "iopub.status.idle": "2023-01-20T06:00:34.639427Z",
     "shell.execute_reply": "2023-01-20T06:00:34.637469Z"
    },
    "papermill": {
     "duration": 0.046284,
     "end_time": "2023-01-20T06:00:34.642375",
     "exception": false,
     "start_time": "2023-01-20T06:00:34.596091",
     "status": "completed"
    },
    "tags": []
   },
   "outputs": [
    {
     "name": "stdout",
     "output_type": "stream",
     "text": [
      "   Pclass  Sex   Age  SibSp  Parch     Fare  Embarked\n",
      "0       3    0  34.5      0      0   7.8292         2\n",
      "1       3    1  47.0      1      0   7.0000         0\n",
      "2       2    0  62.0      0      0   9.6875         2\n",
      "3       3    0  27.0      0      0   8.6625         0\n",
      "4       3    1  22.0      1      1  12.2875         0\n"
     ]
    }
   ],
   "source": [
    "ID=test_df['PassengerId']\n",
    "drop(test_df)\n",
    "encode(test_df)\n",
    "fillna(test_df)\n",
    "print(test_df.head())"
   ]
  },
  {
   "cell_type": "code",
   "execution_count": 39,
   "id": "4479e29b",
   "metadata": {
    "execution": {
     "iopub.execute_input": "2023-01-20T06:00:34.693534Z",
     "iopub.status.busy": "2023-01-20T06:00:34.692776Z",
     "iopub.status.idle": "2023-01-20T06:00:34.739350Z",
     "shell.execute_reply": "2023-01-20T06:00:34.737630Z"
    },
    "papermill": {
     "duration": 0.07643,
     "end_time": "2023-01-20T06:00:34.743398",
     "exception": false,
     "start_time": "2023-01-20T06:00:34.666968",
     "status": "completed"
    },
    "tags": []
   },
   "outputs": [
    {
     "name": "stdout",
     "output_type": "stream",
     "text": [
      "Train_scores:  0.8581460674157303\n",
      "Test_scores:  0.8435754189944135\n"
     ]
    }
   ],
   "source": [
    "print(\"Train_scores: \", rfc.score(X_train, y_train))\n",
    "print(\"Test_scores: \", rfc.score(X_test, y_test))"
   ]
  },
  {
   "cell_type": "code",
   "execution_count": 40,
   "id": "8f8c586b",
   "metadata": {
    "execution": {
     "iopub.execute_input": "2023-01-20T06:00:34.794600Z",
     "iopub.status.busy": "2023-01-20T06:00:34.794136Z",
     "iopub.status.idle": "2023-01-20T06:00:34.828948Z",
     "shell.execute_reply": "2023-01-20T06:00:34.827744Z"
    },
    "papermill": {
     "duration": 0.063444,
     "end_time": "2023-01-20T06:00:34.831657",
     "exception": false,
     "start_time": "2023-01-20T06:00:34.768213",
     "status": "completed"
    },
    "tags": []
   },
   "outputs": [
    {
     "data": {
      "text/plain": [
       "(418, 2)"
      ]
     },
     "execution_count": 40,
     "metadata": {},
     "output_type": "execute_result"
    }
   ],
   "source": [
    "result = pd.DataFrame({ 'PassengerId': ID, 'Survived': rfc.predict(test_df) })\n",
    "result.to_csv(\"titanic_RandomForest.csv\", index=False)\n",
    "result.head(10)\n",
    "result.shape"
   ]
  }
 ],
 "metadata": {
  "kernelspec": {
   "display_name": "Python 3",
   "language": "python",
   "name": "python3"
  },
  "language_info": {
   "codemirror_mode": {
    "name": "ipython",
    "version": 3
   },
   "file_extension": ".py",
   "mimetype": "text/x-python",
   "name": "python",
   "nbconvert_exporter": "python",
   "pygments_lexer": "ipython3",
   "version": "3.7.12"
  },
  "papermill": {
   "default_parameters": {},
   "duration": 360.647978,
   "end_time": "2023-01-20T06:00:37.481131",
   "environment_variables": {},
   "exception": null,
   "input_path": "__notebook__.ipynb",
   "output_path": "__notebook__.ipynb",
   "parameters": {},
   "start_time": "2023-01-20T05:54:36.833153",
   "version": "2.3.4"
  }
 },
 "nbformat": 4,
 "nbformat_minor": 5
}
