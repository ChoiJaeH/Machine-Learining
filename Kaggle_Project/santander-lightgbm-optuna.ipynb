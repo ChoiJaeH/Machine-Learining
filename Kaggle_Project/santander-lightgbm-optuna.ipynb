{
 "cells": [
  {
   "cell_type": "markdown",
   "id": "183c70e6",
   "metadata": {
    "papermill": {
     "duration": 0.010569,
     "end_time": "2023-02-13T06:40:08.527381",
     "exception": false,
     "start_time": "2023-02-13T06:40:08.516812",
     "status": "completed"
    },
    "tags": []
   },
   "source": [
    "# Santander Project"
   ]
  },
  {
   "cell_type": "markdown",
   "id": "8654fe6c",
   "metadata": {
    "papermill": {
     "duration": 0.008572,
     "end_time": "2023-02-13T06:40:08.545123",
     "exception": false,
     "start_time": "2023-02-13T06:40:08.536551",
     "status": "completed"
    },
    "tags": []
   },
   "source": [
    "### We predict Satisfied(0), or Not(1)  \n",
    "### label -> \"TARGET\"  \n",
    "### Evaluation : ROC-AUC <- More suitable than accuracy"
   ]
  },
  {
   "cell_type": "markdown",
   "id": "f59159d2",
   "metadata": {
    "papermill": {
     "duration": 0.008758,
     "end_time": "2023-02-13T06:40:08.562833",
     "exception": false,
     "start_time": "2023-02-13T06:40:08.554075",
     "status": "completed"
    },
    "tags": []
   },
   "source": [
    "# import "
   ]
  },
  {
   "cell_type": "code",
   "execution_count": 1,
   "id": "1a52250b",
   "metadata": {
    "execution": {
     "iopub.execute_input": "2023-02-13T06:40:08.584620Z",
     "iopub.status.busy": "2023-02-13T06:40:08.583054Z",
     "iopub.status.idle": "2023-02-13T06:40:16.449287Z",
     "shell.execute_reply": "2023-02-13T06:40:16.447546Z"
    },
    "papermill": {
     "duration": 7.879689,
     "end_time": "2023-02-13T06:40:16.452187",
     "exception": false,
     "start_time": "2023-02-13T06:40:08.572498",
     "status": "completed"
    },
    "tags": []
   },
   "outputs": [
    {
     "data": {
      "text/plain": [
       "((76020, 371), (75818, 370))"
      ]
     },
     "execution_count": 1,
     "metadata": {},
     "output_type": "execute_result"
    }
   ],
   "source": [
    "import numpy as np\n",
    "import pandas as pd\n",
    "import matplotlib.pylab as plt\n",
    "import matplotlib\n",
    "import seaborn as sns\n",
    "import warnings\n",
    "warnings.filterwarnings('ignore')\n",
    "path='/kaggle/input/santander-customer-satisfaction/'\n",
    "train=pd.read_csv(path+'train.csv')\n",
    "test=pd.read_csv(path+'test.csv')\n",
    "submission=pd.read_csv(path+'sample_submission.csv')\n",
    "train.shape, test.shape"
   ]
  },
  {
   "cell_type": "markdown",
   "id": "28a81dfb",
   "metadata": {
    "papermill": {
     "duration": 0.008463,
     "end_time": "2023-02-13T06:40:16.469556",
     "exception": false,
     "start_time": "2023-02-13T06:40:16.461093",
     "status": "completed"
    },
    "tags": []
   },
   "source": [
    "# See DataFrame"
   ]
  },
  {
   "cell_type": "code",
   "execution_count": 2,
   "id": "9ecb4864",
   "metadata": {
    "execution": {
     "iopub.execute_input": "2023-02-13T06:40:16.488984Z",
     "iopub.status.busy": "2023-02-13T06:40:16.488569Z",
     "iopub.status.idle": "2023-02-13T06:40:16.530450Z",
     "shell.execute_reply": "2023-02-13T06:40:16.529482Z"
    },
    "papermill": {
     "duration": 0.05427,
     "end_time": "2023-02-13T06:40:16.532645",
     "exception": false,
     "start_time": "2023-02-13T06:40:16.478375",
     "status": "completed"
    },
    "tags": []
   },
   "outputs": [
    {
     "data": {
      "text/html": [
       "<div>\n",
       "<style scoped>\n",
       "    .dataframe tbody tr th:only-of-type {\n",
       "        vertical-align: middle;\n",
       "    }\n",
       "\n",
       "    .dataframe tbody tr th {\n",
       "        vertical-align: top;\n",
       "    }\n",
       "\n",
       "    .dataframe thead th {\n",
       "        text-align: right;\n",
       "    }\n",
       "</style>\n",
       "<table border=\"1\" class=\"dataframe\">\n",
       "  <thead>\n",
       "    <tr style=\"text-align: right;\">\n",
       "      <th></th>\n",
       "      <th>ID</th>\n",
       "      <th>var3</th>\n",
       "      <th>var15</th>\n",
       "      <th>imp_ent_var16_ult1</th>\n",
       "      <th>imp_op_var39_comer_ult1</th>\n",
       "      <th>imp_op_var39_comer_ult3</th>\n",
       "      <th>imp_op_var40_comer_ult1</th>\n",
       "      <th>imp_op_var40_comer_ult3</th>\n",
       "      <th>imp_op_var40_efect_ult1</th>\n",
       "      <th>imp_op_var40_efect_ult3</th>\n",
       "      <th>...</th>\n",
       "      <th>saldo_medio_var33_hace2</th>\n",
       "      <th>saldo_medio_var33_hace3</th>\n",
       "      <th>saldo_medio_var33_ult1</th>\n",
       "      <th>saldo_medio_var33_ult3</th>\n",
       "      <th>saldo_medio_var44_hace2</th>\n",
       "      <th>saldo_medio_var44_hace3</th>\n",
       "      <th>saldo_medio_var44_ult1</th>\n",
       "      <th>saldo_medio_var44_ult3</th>\n",
       "      <th>var38</th>\n",
       "      <th>TARGET</th>\n",
       "    </tr>\n",
       "  </thead>\n",
       "  <tbody>\n",
       "    <tr>\n",
       "      <th>0</th>\n",
       "      <td>1</td>\n",
       "      <td>2</td>\n",
       "      <td>23</td>\n",
       "      <td>0.0</td>\n",
       "      <td>0.0</td>\n",
       "      <td>0.0</td>\n",
       "      <td>0.0</td>\n",
       "      <td>0.0</td>\n",
       "      <td>0.0</td>\n",
       "      <td>0.0</td>\n",
       "      <td>...</td>\n",
       "      <td>0.0</td>\n",
       "      <td>0.0</td>\n",
       "      <td>0.0</td>\n",
       "      <td>0.0</td>\n",
       "      <td>0.0</td>\n",
       "      <td>0.0</td>\n",
       "      <td>0.0</td>\n",
       "      <td>0.0</td>\n",
       "      <td>39205.170000</td>\n",
       "      <td>0</td>\n",
       "    </tr>\n",
       "    <tr>\n",
       "      <th>1</th>\n",
       "      <td>3</td>\n",
       "      <td>2</td>\n",
       "      <td>34</td>\n",
       "      <td>0.0</td>\n",
       "      <td>0.0</td>\n",
       "      <td>0.0</td>\n",
       "      <td>0.0</td>\n",
       "      <td>0.0</td>\n",
       "      <td>0.0</td>\n",
       "      <td>0.0</td>\n",
       "      <td>...</td>\n",
       "      <td>0.0</td>\n",
       "      <td>0.0</td>\n",
       "      <td>0.0</td>\n",
       "      <td>0.0</td>\n",
       "      <td>0.0</td>\n",
       "      <td>0.0</td>\n",
       "      <td>0.0</td>\n",
       "      <td>0.0</td>\n",
       "      <td>49278.030000</td>\n",
       "      <td>0</td>\n",
       "    </tr>\n",
       "    <tr>\n",
       "      <th>2</th>\n",
       "      <td>4</td>\n",
       "      <td>2</td>\n",
       "      <td>23</td>\n",
       "      <td>0.0</td>\n",
       "      <td>0.0</td>\n",
       "      <td>0.0</td>\n",
       "      <td>0.0</td>\n",
       "      <td>0.0</td>\n",
       "      <td>0.0</td>\n",
       "      <td>0.0</td>\n",
       "      <td>...</td>\n",
       "      <td>0.0</td>\n",
       "      <td>0.0</td>\n",
       "      <td>0.0</td>\n",
       "      <td>0.0</td>\n",
       "      <td>0.0</td>\n",
       "      <td>0.0</td>\n",
       "      <td>0.0</td>\n",
       "      <td>0.0</td>\n",
       "      <td>67333.770000</td>\n",
       "      <td>0</td>\n",
       "    </tr>\n",
       "    <tr>\n",
       "      <th>3</th>\n",
       "      <td>8</td>\n",
       "      <td>2</td>\n",
       "      <td>37</td>\n",
       "      <td>0.0</td>\n",
       "      <td>195.0</td>\n",
       "      <td>195.0</td>\n",
       "      <td>0.0</td>\n",
       "      <td>0.0</td>\n",
       "      <td>0.0</td>\n",
       "      <td>0.0</td>\n",
       "      <td>...</td>\n",
       "      <td>0.0</td>\n",
       "      <td>0.0</td>\n",
       "      <td>0.0</td>\n",
       "      <td>0.0</td>\n",
       "      <td>0.0</td>\n",
       "      <td>0.0</td>\n",
       "      <td>0.0</td>\n",
       "      <td>0.0</td>\n",
       "      <td>64007.970000</td>\n",
       "      <td>0</td>\n",
       "    </tr>\n",
       "    <tr>\n",
       "      <th>4</th>\n",
       "      <td>10</td>\n",
       "      <td>2</td>\n",
       "      <td>39</td>\n",
       "      <td>0.0</td>\n",
       "      <td>0.0</td>\n",
       "      <td>0.0</td>\n",
       "      <td>0.0</td>\n",
       "      <td>0.0</td>\n",
       "      <td>0.0</td>\n",
       "      <td>0.0</td>\n",
       "      <td>...</td>\n",
       "      <td>0.0</td>\n",
       "      <td>0.0</td>\n",
       "      <td>0.0</td>\n",
       "      <td>0.0</td>\n",
       "      <td>0.0</td>\n",
       "      <td>0.0</td>\n",
       "      <td>0.0</td>\n",
       "      <td>0.0</td>\n",
       "      <td>117310.979016</td>\n",
       "      <td>0</td>\n",
       "    </tr>\n",
       "  </tbody>\n",
       "</table>\n",
       "<p>5 rows × 371 columns</p>\n",
       "</div>"
      ],
      "text/plain": [
       "   ID  var3  var15  imp_ent_var16_ult1  imp_op_var39_comer_ult1  \\\n",
       "0   1     2     23                 0.0                      0.0   \n",
       "1   3     2     34                 0.0                      0.0   \n",
       "2   4     2     23                 0.0                      0.0   \n",
       "3   8     2     37                 0.0                    195.0   \n",
       "4  10     2     39                 0.0                      0.0   \n",
       "\n",
       "   imp_op_var39_comer_ult3  imp_op_var40_comer_ult1  imp_op_var40_comer_ult3  \\\n",
       "0                      0.0                      0.0                      0.0   \n",
       "1                      0.0                      0.0                      0.0   \n",
       "2                      0.0                      0.0                      0.0   \n",
       "3                    195.0                      0.0                      0.0   \n",
       "4                      0.0                      0.0                      0.0   \n",
       "\n",
       "   imp_op_var40_efect_ult1  imp_op_var40_efect_ult3  ...  \\\n",
       "0                      0.0                      0.0  ...   \n",
       "1                      0.0                      0.0  ...   \n",
       "2                      0.0                      0.0  ...   \n",
       "3                      0.0                      0.0  ...   \n",
       "4                      0.0                      0.0  ...   \n",
       "\n",
       "   saldo_medio_var33_hace2  saldo_medio_var33_hace3  saldo_medio_var33_ult1  \\\n",
       "0                      0.0                      0.0                     0.0   \n",
       "1                      0.0                      0.0                     0.0   \n",
       "2                      0.0                      0.0                     0.0   \n",
       "3                      0.0                      0.0                     0.0   \n",
       "4                      0.0                      0.0                     0.0   \n",
       "\n",
       "   saldo_medio_var33_ult3  saldo_medio_var44_hace2  saldo_medio_var44_hace3  \\\n",
       "0                     0.0                      0.0                      0.0   \n",
       "1                     0.0                      0.0                      0.0   \n",
       "2                     0.0                      0.0                      0.0   \n",
       "3                     0.0                      0.0                      0.0   \n",
       "4                     0.0                      0.0                      0.0   \n",
       "\n",
       "   saldo_medio_var44_ult1  saldo_medio_var44_ult3          var38  TARGET  \n",
       "0                     0.0                     0.0   39205.170000       0  \n",
       "1                     0.0                     0.0   49278.030000       0  \n",
       "2                     0.0                     0.0   67333.770000       0  \n",
       "3                     0.0                     0.0   64007.970000       0  \n",
       "4                     0.0                     0.0  117310.979016       0  \n",
       "\n",
       "[5 rows x 371 columns]"
      ]
     },
     "execution_count": 2,
     "metadata": {},
     "output_type": "execute_result"
    }
   ],
   "source": [
    "train.head()"
   ]
  },
  {
   "cell_type": "code",
   "execution_count": 3,
   "id": "2746a2c7",
   "metadata": {
    "execution": {
     "iopub.execute_input": "2023-02-13T06:40:16.554312Z",
     "iopub.status.busy": "2023-02-13T06:40:16.553823Z",
     "iopub.status.idle": "2023-02-13T06:40:16.592341Z",
     "shell.execute_reply": "2023-02-13T06:40:16.590463Z"
    },
    "papermill": {
     "duration": 0.053939,
     "end_time": "2023-02-13T06:40:16.595578",
     "exception": false,
     "start_time": "2023-02-13T06:40:16.541639",
     "status": "completed"
    },
    "tags": []
   },
   "outputs": [
    {
     "name": "stdout",
     "output_type": "stream",
     "text": [
      "<class 'pandas.core.frame.DataFrame'>\n",
      "RangeIndex: 76020 entries, 0 to 76019\n",
      "Columns: 371 entries, ID to TARGET\n",
      "dtypes: float64(111), int64(260)\n",
      "memory usage: 215.2 MB\n"
     ]
    }
   ],
   "source": [
    "train.info()"
   ]
  },
  {
   "cell_type": "markdown",
   "id": "5e3de8eb",
   "metadata": {
    "papermill": {
     "duration": 0.009169,
     "end_time": "2023-02-13T06:40:16.614433",
     "exception": false,
     "start_time": "2023-02-13T06:40:16.605264",
     "status": "completed"
    },
    "tags": []
   },
   "source": [
    "#### float과 int로만 이루어져 있다"
   ]
  },
  {
   "cell_type": "code",
   "execution_count": 4,
   "id": "368a2977",
   "metadata": {
    "execution": {
     "iopub.execute_input": "2023-02-13T06:40:16.635253Z",
     "iopub.status.busy": "2023-02-13T06:40:16.634765Z",
     "iopub.status.idle": "2023-02-13T06:40:16.646350Z",
     "shell.execute_reply": "2023-02-13T06:40:16.644929Z"
    },
    "papermill": {
     "duration": 0.025344,
     "end_time": "2023-02-13T06:40:16.649178",
     "exception": false,
     "start_time": "2023-02-13T06:40:16.623834",
     "status": "completed"
    },
    "tags": []
   },
   "outputs": [
    {
     "data": {
      "text/plain": [
       "0    73012\n",
       "1     3008\n",
       "Name: TARGET, dtype: int64"
      ]
     },
     "execution_count": 4,
     "metadata": {},
     "output_type": "execute_result"
    }
   ],
   "source": [
    "train['TARGET'].value_counts()"
   ]
  },
  {
   "cell_type": "code",
   "execution_count": 5,
   "id": "831bff73",
   "metadata": {
    "execution": {
     "iopub.execute_input": "2023-02-13T06:40:16.670638Z",
     "iopub.status.busy": "2023-02-13T06:40:16.670218Z",
     "iopub.status.idle": "2023-02-13T06:40:18.201017Z",
     "shell.execute_reply": "2023-02-13T06:40:18.199536Z"
    },
    "papermill": {
     "duration": 1.545002,
     "end_time": "2023-02-13T06:40:18.203826",
     "exception": false,
     "start_time": "2023-02-13T06:40:16.658824",
     "status": "completed"
    },
    "tags": []
   },
   "outputs": [
    {
     "data": {
      "text/html": [
       "<div>\n",
       "<style scoped>\n",
       "    .dataframe tbody tr th:only-of-type {\n",
       "        vertical-align: middle;\n",
       "    }\n",
       "\n",
       "    .dataframe tbody tr th {\n",
       "        vertical-align: top;\n",
       "    }\n",
       "\n",
       "    .dataframe thead th {\n",
       "        text-align: right;\n",
       "    }\n",
       "</style>\n",
       "<table border=\"1\" class=\"dataframe\">\n",
       "  <thead>\n",
       "    <tr style=\"text-align: right;\">\n",
       "      <th></th>\n",
       "      <th>ID</th>\n",
       "      <th>var3</th>\n",
       "      <th>var15</th>\n",
       "      <th>imp_ent_var16_ult1</th>\n",
       "      <th>imp_op_var39_comer_ult1</th>\n",
       "      <th>imp_op_var39_comer_ult3</th>\n",
       "      <th>imp_op_var40_comer_ult1</th>\n",
       "      <th>imp_op_var40_comer_ult3</th>\n",
       "      <th>imp_op_var40_efect_ult1</th>\n",
       "      <th>imp_op_var40_efect_ult3</th>\n",
       "      <th>...</th>\n",
       "      <th>saldo_medio_var33_hace2</th>\n",
       "      <th>saldo_medio_var33_hace3</th>\n",
       "      <th>saldo_medio_var33_ult1</th>\n",
       "      <th>saldo_medio_var33_ult3</th>\n",
       "      <th>saldo_medio_var44_hace2</th>\n",
       "      <th>saldo_medio_var44_hace3</th>\n",
       "      <th>saldo_medio_var44_ult1</th>\n",
       "      <th>saldo_medio_var44_ult3</th>\n",
       "      <th>var38</th>\n",
       "      <th>TARGET</th>\n",
       "    </tr>\n",
       "  </thead>\n",
       "  <tbody>\n",
       "    <tr>\n",
       "      <th>count</th>\n",
       "      <td>76020.000000</td>\n",
       "      <td>76020.000000</td>\n",
       "      <td>76020.000000</td>\n",
       "      <td>76020.000000</td>\n",
       "      <td>76020.000000</td>\n",
       "      <td>76020.000000</td>\n",
       "      <td>76020.000000</td>\n",
       "      <td>76020.000000</td>\n",
       "      <td>76020.000000</td>\n",
       "      <td>76020.000000</td>\n",
       "      <td>...</td>\n",
       "      <td>76020.000000</td>\n",
       "      <td>76020.000000</td>\n",
       "      <td>76020.000000</td>\n",
       "      <td>76020.000000</td>\n",
       "      <td>76020.000000</td>\n",
       "      <td>76020.000000</td>\n",
       "      <td>76020.000000</td>\n",
       "      <td>76020.000000</td>\n",
       "      <td>7.602000e+04</td>\n",
       "      <td>76020.000000</td>\n",
       "    </tr>\n",
       "    <tr>\n",
       "      <th>mean</th>\n",
       "      <td>75964.050723</td>\n",
       "      <td>-1523.199277</td>\n",
       "      <td>33.212865</td>\n",
       "      <td>86.208265</td>\n",
       "      <td>72.363067</td>\n",
       "      <td>119.529632</td>\n",
       "      <td>3.559130</td>\n",
       "      <td>6.472698</td>\n",
       "      <td>0.412946</td>\n",
       "      <td>0.567352</td>\n",
       "      <td>...</td>\n",
       "      <td>7.935824</td>\n",
       "      <td>1.365146</td>\n",
       "      <td>12.215580</td>\n",
       "      <td>8.784074</td>\n",
       "      <td>31.505324</td>\n",
       "      <td>1.858575</td>\n",
       "      <td>76.026165</td>\n",
       "      <td>56.614351</td>\n",
       "      <td>1.172358e+05</td>\n",
       "      <td>0.039569</td>\n",
       "    </tr>\n",
       "    <tr>\n",
       "      <th>std</th>\n",
       "      <td>43781.947379</td>\n",
       "      <td>39033.462364</td>\n",
       "      <td>12.956486</td>\n",
       "      <td>1614.757313</td>\n",
       "      <td>339.315831</td>\n",
       "      <td>546.266294</td>\n",
       "      <td>93.155749</td>\n",
       "      <td>153.737066</td>\n",
       "      <td>30.604864</td>\n",
       "      <td>36.513513</td>\n",
       "      <td>...</td>\n",
       "      <td>455.887218</td>\n",
       "      <td>113.959637</td>\n",
       "      <td>783.207399</td>\n",
       "      <td>538.439211</td>\n",
       "      <td>2013.125393</td>\n",
       "      <td>147.786584</td>\n",
       "      <td>4040.337842</td>\n",
       "      <td>2852.579397</td>\n",
       "      <td>1.826646e+05</td>\n",
       "      <td>0.194945</td>\n",
       "    </tr>\n",
       "    <tr>\n",
       "      <th>min</th>\n",
       "      <td>1.000000</td>\n",
       "      <td>-999999.000000</td>\n",
       "      <td>5.000000</td>\n",
       "      <td>0.000000</td>\n",
       "      <td>0.000000</td>\n",
       "      <td>0.000000</td>\n",
       "      <td>0.000000</td>\n",
       "      <td>0.000000</td>\n",
       "      <td>0.000000</td>\n",
       "      <td>0.000000</td>\n",
       "      <td>...</td>\n",
       "      <td>0.000000</td>\n",
       "      <td>0.000000</td>\n",
       "      <td>0.000000</td>\n",
       "      <td>0.000000</td>\n",
       "      <td>0.000000</td>\n",
       "      <td>0.000000</td>\n",
       "      <td>0.000000</td>\n",
       "      <td>0.000000</td>\n",
       "      <td>5.163750e+03</td>\n",
       "      <td>0.000000</td>\n",
       "    </tr>\n",
       "    <tr>\n",
       "      <th>25%</th>\n",
       "      <td>38104.750000</td>\n",
       "      <td>2.000000</td>\n",
       "      <td>23.000000</td>\n",
       "      <td>0.000000</td>\n",
       "      <td>0.000000</td>\n",
       "      <td>0.000000</td>\n",
       "      <td>0.000000</td>\n",
       "      <td>0.000000</td>\n",
       "      <td>0.000000</td>\n",
       "      <td>0.000000</td>\n",
       "      <td>...</td>\n",
       "      <td>0.000000</td>\n",
       "      <td>0.000000</td>\n",
       "      <td>0.000000</td>\n",
       "      <td>0.000000</td>\n",
       "      <td>0.000000</td>\n",
       "      <td>0.000000</td>\n",
       "      <td>0.000000</td>\n",
       "      <td>0.000000</td>\n",
       "      <td>6.787061e+04</td>\n",
       "      <td>0.000000</td>\n",
       "    </tr>\n",
       "    <tr>\n",
       "      <th>50%</th>\n",
       "      <td>76043.000000</td>\n",
       "      <td>2.000000</td>\n",
       "      <td>28.000000</td>\n",
       "      <td>0.000000</td>\n",
       "      <td>0.000000</td>\n",
       "      <td>0.000000</td>\n",
       "      <td>0.000000</td>\n",
       "      <td>0.000000</td>\n",
       "      <td>0.000000</td>\n",
       "      <td>0.000000</td>\n",
       "      <td>...</td>\n",
       "      <td>0.000000</td>\n",
       "      <td>0.000000</td>\n",
       "      <td>0.000000</td>\n",
       "      <td>0.000000</td>\n",
       "      <td>0.000000</td>\n",
       "      <td>0.000000</td>\n",
       "      <td>0.000000</td>\n",
       "      <td>0.000000</td>\n",
       "      <td>1.064092e+05</td>\n",
       "      <td>0.000000</td>\n",
       "    </tr>\n",
       "    <tr>\n",
       "      <th>75%</th>\n",
       "      <td>113748.750000</td>\n",
       "      <td>2.000000</td>\n",
       "      <td>40.000000</td>\n",
       "      <td>0.000000</td>\n",
       "      <td>0.000000</td>\n",
       "      <td>0.000000</td>\n",
       "      <td>0.000000</td>\n",
       "      <td>0.000000</td>\n",
       "      <td>0.000000</td>\n",
       "      <td>0.000000</td>\n",
       "      <td>...</td>\n",
       "      <td>0.000000</td>\n",
       "      <td>0.000000</td>\n",
       "      <td>0.000000</td>\n",
       "      <td>0.000000</td>\n",
       "      <td>0.000000</td>\n",
       "      <td>0.000000</td>\n",
       "      <td>0.000000</td>\n",
       "      <td>0.000000</td>\n",
       "      <td>1.187563e+05</td>\n",
       "      <td>0.000000</td>\n",
       "    </tr>\n",
       "    <tr>\n",
       "      <th>max</th>\n",
       "      <td>151838.000000</td>\n",
       "      <td>238.000000</td>\n",
       "      <td>105.000000</td>\n",
       "      <td>210000.000000</td>\n",
       "      <td>12888.030000</td>\n",
       "      <td>21024.810000</td>\n",
       "      <td>8237.820000</td>\n",
       "      <td>11073.570000</td>\n",
       "      <td>6600.000000</td>\n",
       "      <td>6600.000000</td>\n",
       "      <td>...</td>\n",
       "      <td>50003.880000</td>\n",
       "      <td>20385.720000</td>\n",
       "      <td>138831.630000</td>\n",
       "      <td>91778.730000</td>\n",
       "      <td>438329.220000</td>\n",
       "      <td>24650.010000</td>\n",
       "      <td>681462.900000</td>\n",
       "      <td>397884.300000</td>\n",
       "      <td>2.203474e+07</td>\n",
       "      <td>1.000000</td>\n",
       "    </tr>\n",
       "  </tbody>\n",
       "</table>\n",
       "<p>8 rows × 371 columns</p>\n",
       "</div>"
      ],
      "text/plain": [
       "                  ID           var3         var15  imp_ent_var16_ult1  \\\n",
       "count   76020.000000   76020.000000  76020.000000        76020.000000   \n",
       "mean    75964.050723   -1523.199277     33.212865           86.208265   \n",
       "std     43781.947379   39033.462364     12.956486         1614.757313   \n",
       "min         1.000000 -999999.000000      5.000000            0.000000   \n",
       "25%     38104.750000       2.000000     23.000000            0.000000   \n",
       "50%     76043.000000       2.000000     28.000000            0.000000   \n",
       "75%    113748.750000       2.000000     40.000000            0.000000   \n",
       "max    151838.000000     238.000000    105.000000       210000.000000   \n",
       "\n",
       "       imp_op_var39_comer_ult1  imp_op_var39_comer_ult3  \\\n",
       "count             76020.000000             76020.000000   \n",
       "mean                 72.363067               119.529632   \n",
       "std                 339.315831               546.266294   \n",
       "min                   0.000000                 0.000000   \n",
       "25%                   0.000000                 0.000000   \n",
       "50%                   0.000000                 0.000000   \n",
       "75%                   0.000000                 0.000000   \n",
       "max               12888.030000             21024.810000   \n",
       "\n",
       "       imp_op_var40_comer_ult1  imp_op_var40_comer_ult3  \\\n",
       "count             76020.000000             76020.000000   \n",
       "mean                  3.559130                 6.472698   \n",
       "std                  93.155749               153.737066   \n",
       "min                   0.000000                 0.000000   \n",
       "25%                   0.000000                 0.000000   \n",
       "50%                   0.000000                 0.000000   \n",
       "75%                   0.000000                 0.000000   \n",
       "max                8237.820000             11073.570000   \n",
       "\n",
       "       imp_op_var40_efect_ult1  imp_op_var40_efect_ult3  ...  \\\n",
       "count             76020.000000             76020.000000  ...   \n",
       "mean                  0.412946                 0.567352  ...   \n",
       "std                  30.604864                36.513513  ...   \n",
       "min                   0.000000                 0.000000  ...   \n",
       "25%                   0.000000                 0.000000  ...   \n",
       "50%                   0.000000                 0.000000  ...   \n",
       "75%                   0.000000                 0.000000  ...   \n",
       "max                6600.000000              6600.000000  ...   \n",
       "\n",
       "       saldo_medio_var33_hace2  saldo_medio_var33_hace3  \\\n",
       "count             76020.000000             76020.000000   \n",
       "mean                  7.935824                 1.365146   \n",
       "std                 455.887218               113.959637   \n",
       "min                   0.000000                 0.000000   \n",
       "25%                   0.000000                 0.000000   \n",
       "50%                   0.000000                 0.000000   \n",
       "75%                   0.000000                 0.000000   \n",
       "max               50003.880000             20385.720000   \n",
       "\n",
       "       saldo_medio_var33_ult1  saldo_medio_var33_ult3  \\\n",
       "count            76020.000000            76020.000000   \n",
       "mean                12.215580                8.784074   \n",
       "std                783.207399              538.439211   \n",
       "min                  0.000000                0.000000   \n",
       "25%                  0.000000                0.000000   \n",
       "50%                  0.000000                0.000000   \n",
       "75%                  0.000000                0.000000   \n",
       "max             138831.630000            91778.730000   \n",
       "\n",
       "       saldo_medio_var44_hace2  saldo_medio_var44_hace3  \\\n",
       "count             76020.000000             76020.000000   \n",
       "mean                 31.505324                 1.858575   \n",
       "std                2013.125393               147.786584   \n",
       "min                   0.000000                 0.000000   \n",
       "25%                   0.000000                 0.000000   \n",
       "50%                   0.000000                 0.000000   \n",
       "75%                   0.000000                 0.000000   \n",
       "max              438329.220000             24650.010000   \n",
       "\n",
       "       saldo_medio_var44_ult1  saldo_medio_var44_ult3         var38  \\\n",
       "count            76020.000000            76020.000000  7.602000e+04   \n",
       "mean                76.026165               56.614351  1.172358e+05   \n",
       "std               4040.337842             2852.579397  1.826646e+05   \n",
       "min                  0.000000                0.000000  5.163750e+03   \n",
       "25%                  0.000000                0.000000  6.787061e+04   \n",
       "50%                  0.000000                0.000000  1.064092e+05   \n",
       "75%                  0.000000                0.000000  1.187563e+05   \n",
       "max             681462.900000           397884.300000  2.203474e+07   \n",
       "\n",
       "             TARGET  \n",
       "count  76020.000000  \n",
       "mean       0.039569  \n",
       "std        0.194945  \n",
       "min        0.000000  \n",
       "25%        0.000000  \n",
       "50%        0.000000  \n",
       "75%        0.000000  \n",
       "max        1.000000  \n",
       "\n",
       "[8 rows x 371 columns]"
      ]
     },
     "execution_count": 5,
     "metadata": {},
     "output_type": "execute_result"
    }
   ],
   "source": [
    "train.describe()"
   ]
  },
  {
   "cell_type": "markdown",
   "id": "67f01150",
   "metadata": {
    "papermill": {
     "duration": 0.009812,
     "end_time": "2023-02-13T06:40:18.224151",
     "exception": false,
     "start_time": "2023-02-13T06:40:18.214339",
     "status": "completed"
    },
    "tags": []
   },
   "source": [
    "# EDA"
   ]
  },
  {
   "cell_type": "markdown",
   "id": "9c448ebd",
   "metadata": {
    "papermill": {
     "duration": 0.00964,
     "end_time": "2023-02-13T06:40:18.243655",
     "exception": false,
     "start_time": "2023-02-13T06:40:18.234015",
     "status": "completed"
    },
    "tags": []
   },
   "source": [
    "#### var3 in -999.. has Null-data"
   ]
  },
  {
   "cell_type": "code",
   "execution_count": 6,
   "id": "3902ebd2",
   "metadata": {
    "execution": {
     "iopub.execute_input": "2023-02-13T06:40:18.265917Z",
     "iopub.status.busy": "2023-02-13T06:40:18.265428Z",
     "iopub.status.idle": "2023-02-13T06:40:18.352819Z",
     "shell.execute_reply": "2023-02-13T06:40:18.350848Z"
    },
    "papermill": {
     "duration": 0.101944,
     "end_time": "2023-02-13T06:40:18.355613",
     "exception": false,
     "start_time": "2023-02-13T06:40:18.253669",
     "status": "completed"
    },
    "tags": []
   },
   "outputs": [
    {
     "name": "stdout",
     "output_type": "stream",
     "text": [
      "var3\n"
     ]
    }
   ],
   "source": [
    "for c in train.columns:\n",
    "    if train[c].min()==-999999: print(c)"
   ]
  },
  {
   "cell_type": "markdown",
   "id": "9a6e087a",
   "metadata": {
    "papermill": {
     "duration": 0.009941,
     "end_time": "2023-02-13T06:40:18.375845",
     "exception": false,
     "start_time": "2023-02-13T06:40:18.365904",
     "status": "completed"
    },
    "tags": []
   },
   "source": [
    "#### only var3 has -999... data"
   ]
  },
  {
   "cell_type": "code",
   "execution_count": 7,
   "id": "810b47a5",
   "metadata": {
    "execution": {
     "iopub.execute_input": "2023-02-13T06:40:18.398282Z",
     "iopub.status.busy": "2023-02-13T06:40:18.397730Z",
     "iopub.status.idle": "2023-02-13T06:40:18.408807Z",
     "shell.execute_reply": "2023-02-13T06:40:18.407821Z"
    },
    "papermill": {
     "duration": 0.025277,
     "end_time": "2023-02-13T06:40:18.411100",
     "exception": false,
     "start_time": "2023-02-13T06:40:18.385823",
     "status": "completed"
    },
    "tags": []
   },
   "outputs": [
    {
     "data": {
      "text/plain": [
       " 2         74165\n",
       " 8           138\n",
       "-999999      116\n",
       " 9           110\n",
       " 3           108\n",
       " 1           105\n",
       " 13           98\n",
       " 7            97\n",
       " 4            86\n",
       " 12           85\n",
       "Name: var3, dtype: int64"
      ]
     },
     "execution_count": 7,
     "metadata": {},
     "output_type": "execute_result"
    }
   ],
   "source": [
    "train['var3'].value_counts()[:10]"
   ]
  },
  {
   "cell_type": "markdown",
   "id": "75589186",
   "metadata": {
    "papermill": {
     "duration": 0.01011,
     "end_time": "2023-02-13T06:40:18.431673",
     "exception": false,
     "start_time": "2023-02-13T06:40:18.421563",
     "status": "completed"
    },
    "tags": []
   },
   "source": [
    "#### replace 2"
   ]
  },
  {
   "cell_type": "code",
   "execution_count": 8,
   "id": "97d3a7af",
   "metadata": {
    "execution": {
     "iopub.execute_input": "2023-02-13T06:40:18.454698Z",
     "iopub.status.busy": "2023-02-13T06:40:18.454262Z",
     "iopub.status.idle": "2023-02-13T06:40:18.655680Z",
     "shell.execute_reply": "2023-02-13T06:40:18.654050Z"
    },
    "papermill": {
     "duration": 0.216514,
     "end_time": "2023-02-13T06:40:18.658613",
     "exception": false,
     "start_time": "2023-02-13T06:40:18.442099",
     "status": "completed"
    },
    "tags": []
   },
   "outputs": [],
   "source": [
    "drop_list=[]\n",
    "for c in train.columns:\n",
    "    if train[c].std()==0: drop_list.append(c)"
   ]
  },
  {
   "cell_type": "markdown",
   "id": "b0da6366",
   "metadata": {
    "papermill": {
     "duration": 0.011897,
     "end_time": "2023-02-13T06:40:18.680852",
     "exception": false,
     "start_time": "2023-02-13T06:40:18.668955",
     "status": "completed"
    },
    "tags": []
   },
   "source": [
    "#### We delete drop_list feature"
   ]
  },
  {
   "cell_type": "code",
   "execution_count": 9,
   "id": "c665b4e5",
   "metadata": {
    "execution": {
     "iopub.execute_input": "2023-02-13T06:40:18.711770Z",
     "iopub.status.busy": "2023-02-13T06:40:18.710386Z",
     "iopub.status.idle": "2023-02-13T06:40:18.718867Z",
     "shell.execute_reply": "2023-02-13T06:40:18.717690Z"
    },
    "papermill": {
     "duration": 0.028517,
     "end_time": "2023-02-13T06:40:18.721252",
     "exception": false,
     "start_time": "2023-02-13T06:40:18.692735",
     "status": "completed"
    },
    "tags": []
   },
   "outputs": [
    {
     "data": {
      "text/plain": [
       "34"
      ]
     },
     "execution_count": 9,
     "metadata": {},
     "output_type": "execute_result"
    }
   ],
   "source": [
    "len(drop_list)"
   ]
  },
  {
   "cell_type": "markdown",
   "id": "b8128f9c",
   "metadata": {
    "papermill": {
     "duration": 0.012267,
     "end_time": "2023-02-13T06:40:18.749565",
     "exception": false,
     "start_time": "2023-02-13T06:40:18.737298",
     "status": "completed"
    },
    "tags": []
   },
   "source": [
    "#### features in droplist useless predict (Because constant 0 value)  "
   ]
  },
  {
   "cell_type": "markdown",
   "id": "bb740028",
   "metadata": {
    "papermill": {
     "duration": 0.010707,
     "end_time": "2023-02-13T06:40:18.770962",
     "exception": false,
     "start_time": "2023-02-13T06:40:18.760255",
     "status": "completed"
    },
    "tags": []
   },
   "source": [
    "# DataSet "
   ]
  },
  {
   "cell_type": "code",
   "execution_count": 10,
   "id": "96fb1915",
   "metadata": {
    "execution": {
     "iopub.execute_input": "2023-02-13T06:40:18.794292Z",
     "iopub.status.busy": "2023-02-13T06:40:18.793864Z",
     "iopub.status.idle": "2023-02-13T06:40:23.189966Z",
     "shell.execute_reply": "2023-02-13T06:40:23.188594Z"
    },
    "papermill": {
     "duration": 4.411572,
     "end_time": "2023-02-13T06:40:23.193202",
     "exception": false,
     "start_time": "2023-02-13T06:40:18.781630",
     "status": "completed"
    },
    "tags": []
   },
   "outputs": [],
   "source": [
    "train=pd.read_csv(path+'train.csv')\n",
    "test=pd.read_csv(path+'test.csv')"
   ]
  },
  {
   "cell_type": "code",
   "execution_count": 11,
   "id": "36414b11",
   "metadata": {
    "execution": {
     "iopub.execute_input": "2023-02-13T06:40:23.216646Z",
     "iopub.status.busy": "2023-02-13T06:40:23.216217Z",
     "iopub.status.idle": "2023-02-13T06:40:23.317767Z",
     "shell.execute_reply": "2023-02-13T06:40:23.316109Z"
    },
    "papermill": {
     "duration": 0.117551,
     "end_time": "2023-02-13T06:40:23.321480",
     "exception": false,
     "start_time": "2023-02-13T06:40:23.203929",
     "status": "completed"
    },
    "tags": []
   },
   "outputs": [
    {
     "name": "stdout",
     "output_type": "stream",
     "text": [
      "var3\n"
     ]
    }
   ],
   "source": [
    "for c in test.columns:\n",
    "    if test[c].min()==-999999: print(c)"
   ]
  },
  {
   "cell_type": "markdown",
   "id": "2430f1f6",
   "metadata": {
    "papermill": {
     "duration": 0.01027,
     "end_time": "2023-02-13T06:40:23.342937",
     "exception": false,
     "start_time": "2023-02-13T06:40:23.332667",
     "status": "completed"
    },
    "tags": []
   },
   "source": [
    "#### test data also var3 has Null-data only"
   ]
  },
  {
   "cell_type": "code",
   "execution_count": 12,
   "id": "162b727f",
   "metadata": {
    "execution": {
     "iopub.execute_input": "2023-02-13T06:40:23.366520Z",
     "iopub.status.busy": "2023-02-13T06:40:23.366055Z",
     "iopub.status.idle": "2023-02-13T06:40:23.932819Z",
     "shell.execute_reply": "2023-02-13T06:40:23.931369Z"
    },
    "papermill": {
     "duration": 0.582146,
     "end_time": "2023-02-13T06:40:23.935752",
     "exception": false,
     "start_time": "2023-02-13T06:40:23.353606",
     "status": "completed"
    },
    "tags": []
   },
   "outputs": [
    {
     "data": {
      "text/html": [
       "<div>\n",
       "<style scoped>\n",
       "    .dataframe tbody tr th:only-of-type {\n",
       "        vertical-align: middle;\n",
       "    }\n",
       "\n",
       "    .dataframe tbody tr th {\n",
       "        vertical-align: top;\n",
       "    }\n",
       "\n",
       "    .dataframe thead th {\n",
       "        text-align: right;\n",
       "    }\n",
       "</style>\n",
       "<table border=\"1\" class=\"dataframe\">\n",
       "  <thead>\n",
       "    <tr style=\"text-align: right;\">\n",
       "      <th></th>\n",
       "      <th>ID</th>\n",
       "      <th>var3</th>\n",
       "      <th>var15</th>\n",
       "      <th>imp_ent_var16_ult1</th>\n",
       "      <th>imp_op_var39_comer_ult1</th>\n",
       "      <th>imp_op_var39_comer_ult3</th>\n",
       "      <th>imp_op_var40_comer_ult1</th>\n",
       "      <th>imp_op_var40_comer_ult3</th>\n",
       "      <th>imp_op_var40_efect_ult1</th>\n",
       "      <th>imp_op_var40_efect_ult3</th>\n",
       "      <th>...</th>\n",
       "      <th>saldo_medio_var29_ult3</th>\n",
       "      <th>saldo_medio_var33_hace2</th>\n",
       "      <th>saldo_medio_var33_hace3</th>\n",
       "      <th>saldo_medio_var33_ult1</th>\n",
       "      <th>saldo_medio_var33_ult3</th>\n",
       "      <th>saldo_medio_var44_hace2</th>\n",
       "      <th>saldo_medio_var44_hace3</th>\n",
       "      <th>saldo_medio_var44_ult1</th>\n",
       "      <th>saldo_medio_var44_ult3</th>\n",
       "      <th>var38</th>\n",
       "    </tr>\n",
       "  </thead>\n",
       "  <tbody>\n",
       "    <tr>\n",
       "      <th>0</th>\n",
       "      <td>1</td>\n",
       "      <td>2</td>\n",
       "      <td>23</td>\n",
       "      <td>0.0</td>\n",
       "      <td>0.0</td>\n",
       "      <td>0.0</td>\n",
       "      <td>0.0</td>\n",
       "      <td>0.0</td>\n",
       "      <td>0.0</td>\n",
       "      <td>0.0</td>\n",
       "      <td>...</td>\n",
       "      <td>0.0</td>\n",
       "      <td>0.0</td>\n",
       "      <td>0.0</td>\n",
       "      <td>0.0</td>\n",
       "      <td>0.0</td>\n",
       "      <td>0.0</td>\n",
       "      <td>0.0</td>\n",
       "      <td>0.0</td>\n",
       "      <td>0.0</td>\n",
       "      <td>39205.170000</td>\n",
       "    </tr>\n",
       "    <tr>\n",
       "      <th>1</th>\n",
       "      <td>3</td>\n",
       "      <td>2</td>\n",
       "      <td>34</td>\n",
       "      <td>0.0</td>\n",
       "      <td>0.0</td>\n",
       "      <td>0.0</td>\n",
       "      <td>0.0</td>\n",
       "      <td>0.0</td>\n",
       "      <td>0.0</td>\n",
       "      <td>0.0</td>\n",
       "      <td>...</td>\n",
       "      <td>0.0</td>\n",
       "      <td>0.0</td>\n",
       "      <td>0.0</td>\n",
       "      <td>0.0</td>\n",
       "      <td>0.0</td>\n",
       "      <td>0.0</td>\n",
       "      <td>0.0</td>\n",
       "      <td>0.0</td>\n",
       "      <td>0.0</td>\n",
       "      <td>49278.030000</td>\n",
       "    </tr>\n",
       "    <tr>\n",
       "      <th>2</th>\n",
       "      <td>4</td>\n",
       "      <td>2</td>\n",
       "      <td>23</td>\n",
       "      <td>0.0</td>\n",
       "      <td>0.0</td>\n",
       "      <td>0.0</td>\n",
       "      <td>0.0</td>\n",
       "      <td>0.0</td>\n",
       "      <td>0.0</td>\n",
       "      <td>0.0</td>\n",
       "      <td>...</td>\n",
       "      <td>0.0</td>\n",
       "      <td>0.0</td>\n",
       "      <td>0.0</td>\n",
       "      <td>0.0</td>\n",
       "      <td>0.0</td>\n",
       "      <td>0.0</td>\n",
       "      <td>0.0</td>\n",
       "      <td>0.0</td>\n",
       "      <td>0.0</td>\n",
       "      <td>67333.770000</td>\n",
       "    </tr>\n",
       "    <tr>\n",
       "      <th>3</th>\n",
       "      <td>8</td>\n",
       "      <td>2</td>\n",
       "      <td>37</td>\n",
       "      <td>0.0</td>\n",
       "      <td>195.0</td>\n",
       "      <td>195.0</td>\n",
       "      <td>0.0</td>\n",
       "      <td>0.0</td>\n",
       "      <td>0.0</td>\n",
       "      <td>0.0</td>\n",
       "      <td>...</td>\n",
       "      <td>0.0</td>\n",
       "      <td>0.0</td>\n",
       "      <td>0.0</td>\n",
       "      <td>0.0</td>\n",
       "      <td>0.0</td>\n",
       "      <td>0.0</td>\n",
       "      <td>0.0</td>\n",
       "      <td>0.0</td>\n",
       "      <td>0.0</td>\n",
       "      <td>64007.970000</td>\n",
       "    </tr>\n",
       "    <tr>\n",
       "      <th>4</th>\n",
       "      <td>10</td>\n",
       "      <td>2</td>\n",
       "      <td>39</td>\n",
       "      <td>0.0</td>\n",
       "      <td>0.0</td>\n",
       "      <td>0.0</td>\n",
       "      <td>0.0</td>\n",
       "      <td>0.0</td>\n",
       "      <td>0.0</td>\n",
       "      <td>0.0</td>\n",
       "      <td>...</td>\n",
       "      <td>0.0</td>\n",
       "      <td>0.0</td>\n",
       "      <td>0.0</td>\n",
       "      <td>0.0</td>\n",
       "      <td>0.0</td>\n",
       "      <td>0.0</td>\n",
       "      <td>0.0</td>\n",
       "      <td>0.0</td>\n",
       "      <td>0.0</td>\n",
       "      <td>117310.979016</td>\n",
       "    </tr>\n",
       "  </tbody>\n",
       "</table>\n",
       "<p>5 rows × 370 columns</p>\n",
       "</div>"
      ],
      "text/plain": [
       "   ID  var3  var15  imp_ent_var16_ult1  imp_op_var39_comer_ult1  \\\n",
       "0   1     2     23                 0.0                      0.0   \n",
       "1   3     2     34                 0.0                      0.0   \n",
       "2   4     2     23                 0.0                      0.0   \n",
       "3   8     2     37                 0.0                    195.0   \n",
       "4  10     2     39                 0.0                      0.0   \n",
       "\n",
       "   imp_op_var39_comer_ult3  imp_op_var40_comer_ult1  imp_op_var40_comer_ult3  \\\n",
       "0                      0.0                      0.0                      0.0   \n",
       "1                      0.0                      0.0                      0.0   \n",
       "2                      0.0                      0.0                      0.0   \n",
       "3                    195.0                      0.0                      0.0   \n",
       "4                      0.0                      0.0                      0.0   \n",
       "\n",
       "   imp_op_var40_efect_ult1  imp_op_var40_efect_ult3  ...  \\\n",
       "0                      0.0                      0.0  ...   \n",
       "1                      0.0                      0.0  ...   \n",
       "2                      0.0                      0.0  ...   \n",
       "3                      0.0                      0.0  ...   \n",
       "4                      0.0                      0.0  ...   \n",
       "\n",
       "   saldo_medio_var29_ult3  saldo_medio_var33_hace2  saldo_medio_var33_hace3  \\\n",
       "0                     0.0                      0.0                      0.0   \n",
       "1                     0.0                      0.0                      0.0   \n",
       "2                     0.0                      0.0                      0.0   \n",
       "3                     0.0                      0.0                      0.0   \n",
       "4                     0.0                      0.0                      0.0   \n",
       "\n",
       "   saldo_medio_var33_ult1  saldo_medio_var33_ult3  saldo_medio_var44_hace2  \\\n",
       "0                     0.0                     0.0                      0.0   \n",
       "1                     0.0                     0.0                      0.0   \n",
       "2                     0.0                     0.0                      0.0   \n",
       "3                     0.0                     0.0                      0.0   \n",
       "4                     0.0                     0.0                      0.0   \n",
       "\n",
       "   saldo_medio_var44_hace3  saldo_medio_var44_ult1  saldo_medio_var44_ult3  \\\n",
       "0                      0.0                     0.0                     0.0   \n",
       "1                      0.0                     0.0                     0.0   \n",
       "2                      0.0                     0.0                     0.0   \n",
       "3                      0.0                     0.0                     0.0   \n",
       "4                      0.0                     0.0                     0.0   \n",
       "\n",
       "           var38  \n",
       "0   39205.170000  \n",
       "1   49278.030000  \n",
       "2   67333.770000  \n",
       "3   64007.970000  \n",
       "4  117310.979016  \n",
       "\n",
       "[5 rows x 370 columns]"
      ]
     },
     "execution_count": 12,
     "metadata": {},
     "output_type": "execute_result"
    }
   ],
   "source": [
    "y=train['TARGET']\n",
    "train=train.iloc[:,:-1]\n",
    "X=pd.concat([train, test], ignore_index=True)\n",
    "X.head()"
   ]
  },
  {
   "cell_type": "code",
   "execution_count": 13,
   "id": "e417b40e",
   "metadata": {
    "execution": {
     "iopub.execute_input": "2023-02-13T06:40:23.960328Z",
     "iopub.status.busy": "2023-02-13T06:40:23.959859Z",
     "iopub.status.idle": "2023-02-13T06:40:23.967766Z",
     "shell.execute_reply": "2023-02-13T06:40:23.966230Z"
    },
    "papermill": {
     "duration": 0.023363,
     "end_time": "2023-02-13T06:40:23.970280",
     "exception": false,
     "start_time": "2023-02-13T06:40:23.946917",
     "status": "completed"
    },
    "tags": []
   },
   "outputs": [
    {
     "data": {
      "text/plain": [
       "(151838, 370)"
      ]
     },
     "execution_count": 13,
     "metadata": {},
     "output_type": "execute_result"
    }
   ],
   "source": [
    "X.shape"
   ]
  },
  {
   "cell_type": "markdown",
   "id": "b85e6f6d",
   "metadata": {
    "papermill": {
     "duration": 0.010923,
     "end_time": "2023-02-13T06:40:23.992327",
     "exception": false,
     "start_time": "2023-02-13T06:40:23.981404",
     "status": "completed"
    },
    "tags": []
   },
   "source": [
    "# Feature Engineering"
   ]
  },
  {
   "cell_type": "code",
   "execution_count": 14,
   "id": "0de27ebc",
   "metadata": {
    "execution": {
     "iopub.execute_input": "2023-02-13T06:40:24.019265Z",
     "iopub.status.busy": "2023-02-13T06:40:24.018791Z",
     "iopub.status.idle": "2023-02-13T06:40:40.328831Z",
     "shell.execute_reply": "2023-02-13T06:40:40.327573Z"
    },
    "papermill": {
     "duration": 16.327346,
     "end_time": "2023-02-13T06:40:40.331747",
     "exception": false,
     "start_time": "2023-02-13T06:40:24.004401",
     "status": "completed"
    },
    "tags": []
   },
   "outputs": [
    {
     "name": "stdout",
     "output_type": "stream",
     "text": [
      "27\n"
     ]
    }
   ],
   "source": [
    "X['var3'].replace(-999999, 2, inplace=True)\n",
    "X.drop(drop_list, axis=1, inplace=True)\n",
    "X.drop('ID', axis=1, inplace=True)\n",
    "remove = []\n",
    "c = X.columns\n",
    "for i in range(len(c)-1):\n",
    "    v = X[c[i]].values\n",
    "    for j in range(i+1,len(c)):\n",
    "        if np.array_equal(v,X[c[j]].values):\n",
    "            remove.append(c[j])\n",
    "print(len(remove))\n",
    "X.drop(remove, axis=1, inplace=True)"
   ]
  },
  {
   "cell_type": "code",
   "execution_count": 15,
   "id": "9ebb196f",
   "metadata": {
    "execution": {
     "iopub.execute_input": "2023-02-13T06:40:40.356369Z",
     "iopub.status.busy": "2023-02-13T06:40:40.355401Z",
     "iopub.status.idle": "2023-02-13T06:40:40.363700Z",
     "shell.execute_reply": "2023-02-13T06:40:40.362269Z"
    },
    "papermill": {
     "duration": 0.023484,
     "end_time": "2023-02-13T06:40:40.366423",
     "exception": false,
     "start_time": "2023-02-13T06:40:40.342939",
     "status": "completed"
    },
    "tags": []
   },
   "outputs": [
    {
     "data": {
      "text/plain": [
       "(151838, 308)"
      ]
     },
     "execution_count": 15,
     "metadata": {},
     "output_type": "execute_result"
    }
   ],
   "source": [
    "X.shape"
   ]
  },
  {
   "cell_type": "markdown",
   "id": "26e14507",
   "metadata": {
    "papermill": {
     "duration": 0.010947,
     "end_time": "2023-02-13T06:40:40.388783",
     "exception": false,
     "start_time": "2023-02-13T06:40:40.377836",
     "status": "completed"
    },
    "tags": []
   },
   "source": [
    "# Train/Test divid & make early stopping vaild data"
   ]
  },
  {
   "cell_type": "code",
   "execution_count": 16,
   "id": "ecdd9060",
   "metadata": {
    "execution": {
     "iopub.execute_input": "2023-02-13T06:40:40.413194Z",
     "iopub.status.busy": "2023-02-13T06:40:40.412765Z",
     "iopub.status.idle": "2023-02-13T06:40:40.421664Z",
     "shell.execute_reply": "2023-02-13T06:40:40.420301Z"
    },
    "papermill": {
     "duration": 0.023826,
     "end_time": "2023-02-13T06:40:40.424038",
     "exception": false,
     "start_time": "2023-02-13T06:40:40.400212",
     "status": "completed"
    },
    "tags": []
   },
   "outputs": [
    {
     "data": {
      "text/plain": [
       "(76020, 308)"
      ]
     },
     "execution_count": 16,
     "metadata": {},
     "output_type": "execute_result"
    }
   ],
   "source": [
    "Train, Test=X[:train.shape[0]], X[train.shape[0]:]\n",
    "Train.shape"
   ]
  },
  {
   "cell_type": "code",
   "execution_count": 17,
   "id": "a7d29e87",
   "metadata": {
    "execution": {
     "iopub.execute_input": "2023-02-13T06:40:40.448918Z",
     "iopub.status.busy": "2023-02-13T06:40:40.448502Z",
     "iopub.status.idle": "2023-02-13T06:40:40.945682Z",
     "shell.execute_reply": "2023-02-13T06:40:40.944300Z"
    },
    "papermill": {
     "duration": 0.513853,
     "end_time": "2023-02-13T06:40:40.949245",
     "exception": false,
     "start_time": "2023-02-13T06:40:40.435392",
     "status": "completed"
    },
    "tags": []
   },
   "outputs": [],
   "source": [
    "from sklearn.model_selection import train_test_split\n",
    "# early stopping valid data\n",
    "X_train, X_valid, y_train, y_valid=train_test_split(Train, y, test_size=0.2, random_state=42)"
   ]
  },
  {
   "cell_type": "markdown",
   "id": "69b72c5c",
   "metadata": {
    "papermill": {
     "duration": 0.011198,
     "end_time": "2023-02-13T06:40:40.972370",
     "exception": false,
     "start_time": "2023-02-13T06:40:40.961172",
     "status": "completed"
    },
    "tags": []
   },
   "source": [
    "# LightGBM Model + Optuna "
   ]
  },
  {
   "cell_type": "code",
   "execution_count": 18,
   "id": "8794cad2",
   "metadata": {
    "execution": {
     "iopub.execute_input": "2023-02-13T06:40:40.997448Z",
     "iopub.status.busy": "2023-02-13T06:40:40.996949Z",
     "iopub.status.idle": "2023-02-13T06:40:42.459496Z",
     "shell.execute_reply": "2023-02-13T06:40:42.458186Z"
    },
    "papermill": {
     "duration": 1.479353,
     "end_time": "2023-02-13T06:40:42.463133",
     "exception": false,
     "start_time": "2023-02-13T06:40:40.983780",
     "status": "completed"
    },
    "tags": []
   },
   "outputs": [
    {
     "data": {
      "text/html": [
       "<style type='text/css'>\n",
       ".datatable table.frame { margin-bottom: 0; }\n",
       ".datatable table.frame thead { border-bottom: none; }\n",
       ".datatable table.frame tr.coltypes td {  color: #FFFFFF;  line-height: 6px;  padding: 0 0.5em;}\n",
       ".datatable .bool    { background: #DDDD99; }\n",
       ".datatable .object  { background: #565656; }\n",
       ".datatable .int     { background: #5D9E5D; }\n",
       ".datatable .float   { background: #4040CC; }\n",
       ".datatable .str     { background: #CC4040; }\n",
       ".datatable .time    { background: #40CC40; }\n",
       ".datatable .row_index {  background: var(--jp-border-color3);  border-right: 1px solid var(--jp-border-color0);  color: var(--jp-ui-font-color3);  font-size: 9px;}\n",
       ".datatable .frame tbody td { text-align: left; }\n",
       ".datatable .frame tr.coltypes .row_index {  background: var(--jp-border-color0);}\n",
       ".datatable th:nth-child(2) { padding-left: 12px; }\n",
       ".datatable .hellipsis {  color: var(--jp-cell-editor-border-color);}\n",
       ".datatable .vellipsis {  background: var(--jp-layout-color0);  color: var(--jp-cell-editor-border-color);}\n",
       ".datatable .na {  color: var(--jp-cell-editor-border-color);  font-size: 80%;}\n",
       ".datatable .sp {  opacity: 0.25;}\n",
       ".datatable .footer { font-size: 9px; }\n",
       ".datatable .frame_dimensions {  background: var(--jp-border-color3);  border-top: 1px solid var(--jp-border-color0);  color: var(--jp-ui-font-color3);  display: inline-block;  opacity: 0.6;  padding: 1px 10px 1px 5px;}\n",
       "</style>\n"
      ],
      "text/plain": [
       "<IPython.core.display.HTML object>"
      ]
     },
     "metadata": {},
     "output_type": "display_data"
    }
   ],
   "source": [
    "from lightgbm import LGBMClassifier\n",
    "import optuna\n",
    "from optuna.samplers import TPESampler\n",
    "from sklearn.metrics import roc_auc_score\n",
    "\n",
    "def objective_func(trial):\n",
    "    params = {\n",
    "        'num_leaves': trial.suggest_int('num_leaves',10, 40),\n",
    "        'max_depth': trial.suggest_int('max_depth',30, 70),\n",
    "        'learning_rate': trial.suggest_loguniform(\"learning_rate\", 1e-6, 1e-1),\n",
    "        'n_estimators': trial.suggest_int('n_estimators', 100, 700),\n",
    "        'min_child_samples': trial.suggest_int('min_child_samples', 70, 160),\n",
    "        'subsample': trial.suggest_discrete_uniform('subsample', 0.5, 1, 0.1)\n",
    "    }\n",
    "    model=LGBMClassifier(**params)\n",
    "    lgbm_model = model.fit(X_train, y_train, eval_set=[(X_valid, y_valid)], eval_metric='auc', verbose=False, early_stopping_rounds=25)\n",
    "    score = roc_auc_score(y_valid, lgbm_model.predict_proba(X_valid)[:,1])\n",
    "    return score "
   ]
  },
  {
   "cell_type": "code",
   "execution_count": 19,
   "id": "adaf0444",
   "metadata": {
    "execution": {
     "iopub.execute_input": "2023-02-13T06:40:42.489315Z",
     "iopub.status.busy": "2023-02-13T06:40:42.488814Z",
     "iopub.status.idle": "2023-02-13T06:44:34.770194Z",
     "shell.execute_reply": "2023-02-13T06:44:34.769165Z"
    },
    "papermill": {
     "duration": 232.297653,
     "end_time": "2023-02-13T06:44:34.773161",
     "exception": false,
     "start_time": "2023-02-13T06:40:42.475508",
     "status": "completed"
    },
    "tags": []
   },
   "outputs": [
    {
     "name": "stderr",
     "output_type": "stream",
     "text": [
      "\u001b[32m[I 2023-02-13 06:40:42,493]\u001b[0m A new study created in memory with name: no-name-822777c5-99da-4264-abbf-3df6df066ba2\u001b[0m\n",
      "\u001b[32m[I 2023-02-13 06:40:50,975]\u001b[0m Trial 0 finished with value: 0.8359378306503592 and parameters: {'num_leaves': 33, 'max_depth': 30, 'learning_rate': 0.0014731303415988814, 'n_estimators': 550, 'min_child_samples': 115, 'subsample': 0.6}. Best is trial 0 with value: 0.8359378306503592.\u001b[0m\n",
      "\u001b[32m[I 2023-02-13 06:40:52,199]\u001b[0m Trial 1 finished with value: 0.8073520895663717 and parameters: {'num_leaves': 16, 'max_depth': 61, 'learning_rate': 7.007356015618791e-06, 'n_estimators': 153, 'min_child_samples': 132, 'subsample': 1.0}. Best is trial 0 with value: 0.8359378306503592.\u001b[0m\n",
      "\u001b[32m[I 2023-02-13 06:40:58,248]\u001b[0m Trial 2 finished with value: 0.8412778392436712 and parameters: {'num_leaves': 10, 'max_depth': 50, 'learning_rate': 0.011563912803570744, 'n_estimators': 468, 'min_child_samples': 135, 'subsample': 0.6}. Best is trial 2 with value: 0.8412778392436712.\u001b[0m\n",
      "\u001b[32m[I 2023-02-13 06:41:02,028]\u001b[0m Trial 3 finished with value: 0.821248052707452 and parameters: {'num_leaves': 38, 'max_depth': 59, 'learning_rate': 0.0005160857172325047, 'n_estimators': 185, 'min_child_samples': 103, 'subsample': 0.9}. Best is trial 2 with value: 0.8412778392436712.\u001b[0m\n",
      "\u001b[32m[I 2023-02-13 06:41:08,265]\u001b[0m Trial 4 finished with value: 0.8315999236601505 and parameters: {'num_leaves': 23, 'max_depth': 47, 'learning_rate': 0.001226972678850034, 'n_estimators': 408, 'min_child_samples': 129, 'subsample': 0.8}. Best is trial 2 with value: 0.8412778392436712.\u001b[0m\n",
      "\u001b[32m[I 2023-02-13 06:41:11,263]\u001b[0m Trial 5 finished with value: 0.8444903429074535 and parameters: {'num_leaves': 34, 'max_depth': 51, 'learning_rate': 0.03493368533657286, 'n_estimators': 291, 'min_child_samples': 78, 'subsample': 0.6}. Best is trial 5 with value: 0.8444903429074535.\u001b[0m\n",
      "\u001b[32m[I 2023-02-13 06:41:12,293]\u001b[0m Trial 6 finished with value: 0.8040993506033998 and parameters: {'num_leaves': 13, 'max_depth': 63, 'learning_rate': 1.7158589997464473e-06, 'n_estimators': 476, 'min_child_samples': 119, 'subsample': 0.9}. Best is trial 5 with value: 0.8444903429074535.\u001b[0m\n",
      "\u001b[32m[I 2023-02-13 06:41:13,374]\u001b[0m Trial 7 finished with value: 0.8068760376954529 and parameters: {'num_leaves': 16, 'max_depth': 65, 'learning_rate': 5.731432699830861e-05, 'n_estimators': 553, 'min_child_samples': 96, 'subsample': 1.0}. Best is trial 5 with value: 0.8444903429074535.\u001b[0m\n",
      "\u001b[32m[I 2023-02-13 06:41:14,557]\u001b[0m Trial 8 finished with value: 0.8082393540953496 and parameters: {'num_leaves': 20, 'max_depth': 36, 'learning_rate': 9.17584818944741e-05, 'n_estimators': 156, 'min_child_samples': 144, 'subsample': 0.5}. Best is trial 5 with value: 0.8444903429074535.\u001b[0m\n",
      "\u001b[32m[I 2023-02-13 06:41:16,179]\u001b[0m Trial 9 finished with value: 0.8431907371005236 and parameters: {'num_leaves': 21, 'max_depth': 68, 'learning_rate': 0.08672161848586518, 'n_estimators': 374, 'min_child_samples': 145, 'subsample': 0.6}. Best is trial 5 with value: 0.8444903429074535.\u001b[0m\n",
      "\u001b[32m[I 2023-02-13 06:41:18,239]\u001b[0m Trial 10 finished with value: 0.842882341714728 and parameters: {'num_leaves': 29, 'max_depth': 42, 'learning_rate': 0.08579412283475278, 'n_estimators': 295, 'min_child_samples': 71, 'subsample': 0.7}. Best is trial 5 with value: 0.8444903429074535.\u001b[0m\n",
      "\u001b[32m[I 2023-02-13 06:41:20,067]\u001b[0m Trial 11 finished with value: 0.8424191561105908 and parameters: {'num_leaves': 28, 'max_depth': 55, 'learning_rate': 0.08787835393522966, 'n_estimators': 303, 'min_child_samples': 152, 'subsample': 0.5}. Best is trial 5 with value: 0.8444903429074535.\u001b[0m\n",
      "\u001b[32m[I 2023-02-13 06:41:23,766]\u001b[0m Trial 12 finished with value: 0.844653033465047 and parameters: {'num_leaves': 40, 'max_depth': 69, 'learning_rate': 0.024747068073953132, 'n_estimators': 303, 'min_child_samples': 76, 'subsample': 0.7}. Best is trial 12 with value: 0.844653033465047.\u001b[0m\n",
      "\u001b[32m[I 2023-02-13 06:41:30,501]\u001b[0m Trial 13 finished with value: 0.8432905635300703 and parameters: {'num_leaves': 40, 'max_depth': 55, 'learning_rate': 0.012096810239350532, 'n_estimators': 664, 'min_child_samples': 72, 'subsample': 0.7}. Best is trial 12 with value: 0.844653033465047.\u001b[0m\n",
      "\u001b[32m[I 2023-02-13 06:41:35,561]\u001b[0m Trial 14 finished with value: 0.8422577070348796 and parameters: {'num_leaves': 35, 'max_depth': 70, 'learning_rate': 0.007957565758937132, 'n_estimators': 252, 'min_child_samples': 86, 'subsample': 0.8}. Best is trial 12 with value: 0.844653033465047.\u001b[0m\n",
      "\u001b[32m[I 2023-02-13 06:41:40,660]\u001b[0m Trial 15 finished with value: 0.8392002757444124 and parameters: {'num_leaves': 34, 'max_depth': 39, 'learning_rate': 0.005743499901995033, 'n_estimators': 245, 'min_child_samples': 91, 'subsample': 0.7}. Best is trial 12 with value: 0.844653033465047.\u001b[0m\n",
      "\u001b[32m[I 2023-02-13 06:41:43,999]\u001b[0m Trial 16 finished with value: 0.843448626746102 and parameters: {'num_leaves': 29, 'max_depth': 45, 'learning_rate': 0.021541212254316995, 'n_estimators': 362, 'min_child_samples': 82, 'subsample': 0.5}. Best is trial 12 with value: 0.844653033465047.\u001b[0m\n",
      "\u001b[32m[I 2023-02-13 06:41:46,620]\u001b[0m Trial 17 finished with value: 0.8283251766092625 and parameters: {'num_leaves': 37, 'max_depth': 55, 'learning_rate': 0.002819803701874311, 'n_estimators': 106, 'min_child_samples': 106, 'subsample': 0.6}. Best is trial 12 with value: 0.844653033465047.\u001b[0m\n",
      "\u001b[32m[I 2023-02-13 06:41:50,274]\u001b[0m Trial 18 finished with value: 0.8432536012285705 and parameters: {'num_leaves': 40, 'max_depth': 52, 'learning_rate': 0.02638602235699422, 'n_estimators': 318, 'min_child_samples': 79, 'subsample': 0.8}. Best is trial 12 with value: 0.844653033465047.\u001b[0m\n",
      "\u001b[32m[I 2023-02-13 06:41:54,253]\u001b[0m Trial 19 finished with value: 0.835539145673114 and parameters: {'num_leaves': 32, 'max_depth': 32, 'learning_rate': 0.003160836667988744, 'n_estimators': 211, 'min_child_samples': 98, 'subsample': 0.7}. Best is trial 12 with value: 0.844653033465047.\u001b[0m\n",
      "\u001b[32m[I 2023-02-13 06:41:57,914]\u001b[0m Trial 20 finished with value: 0.8433039376758036 and parameters: {'num_leaves': 26, 'max_depth': 66, 'learning_rate': 0.020823686529196108, 'n_estimators': 421, 'min_child_samples': 79, 'subsample': 0.6}. Best is trial 12 with value: 0.844653033465047.\u001b[0m\n",
      "\u001b[32m[I 2023-02-13 06:42:02,612]\u001b[0m Trial 21 finished with value: 0.8433340718269501 and parameters: {'num_leaves': 29, 'max_depth': 46, 'learning_rate': 0.02063046281265329, 'n_estimators': 341, 'min_child_samples': 84, 'subsample': 0.5}. Best is trial 12 with value: 0.844653033465047.\u001b[0m\n",
      "\u001b[32m[I 2023-02-13 06:42:06,013]\u001b[0m Trial 22 finished with value: 0.8441673318940419 and parameters: {'num_leaves': 36, 'max_depth': 44, 'learning_rate': 0.029086416005476755, 'n_estimators': 271, 'min_child_samples': 70, 'subsample': 0.5}. Best is trial 12 with value: 0.844653033465047.\u001b[0m\n",
      "\u001b[32m[I 2023-02-13 06:42:08,865]\u001b[0m Trial 23 finished with value: 0.8431378048275362 and parameters: {'num_leaves': 37, 'max_depth': 41, 'learning_rate': 0.03867946901030772, 'n_estimators': 260, 'min_child_samples': 71, 'subsample': 0.6}. Best is trial 12 with value: 0.844653033465047.\u001b[0m\n",
      "\u001b[32m[I 2023-02-13 06:42:14,595]\u001b[0m Trial 24 finished with value: 0.8401876488579101 and parameters: {'num_leaves': 36, 'max_depth': 37, 'learning_rate': 0.005305776351903809, 'n_estimators': 279, 'min_child_samples': 91, 'subsample': 0.5}. Best is trial 12 with value: 0.844653033465047.\u001b[0m\n",
      "\u001b[32m[I 2023-02-13 06:42:17,569]\u001b[0m Trial 25 finished with value: 0.8437580378898013 and parameters: {'num_leaves': 33, 'max_depth': 59, 'learning_rate': 0.03489713830317278, 'n_estimators': 220, 'min_child_samples': 77, 'subsample': 0.7}. Best is trial 12 with value: 0.844653033465047.\u001b[0m\n",
      "\u001b[32m[I 2023-02-13 06:42:20,111]\u001b[0m Trial 26 finished with value: 0.8435919050415337 and parameters: {'num_leaves': 40, 'max_depth': 50, 'learning_rate': 0.048740555800688416, 'n_estimators': 331, 'min_child_samples': 90, 'subsample': 0.6}. Best is trial 12 with value: 0.844653033465047.\u001b[0m\n",
      "\u001b[32m[I 2023-02-13 06:42:26,260]\u001b[0m Trial 27 finished with value: 0.844592483007781 and parameters: {'num_leaves': 31, 'max_depth': 43, 'learning_rate': 0.01111743089968592, 'n_estimators': 468, 'min_child_samples': 110, 'subsample': 0.5}. Best is trial 12 with value: 0.844653033465047.\u001b[0m\n",
      "\u001b[32m[I 2023-02-13 06:42:35,325]\u001b[0m Trial 28 finished with value: 0.844549990468805 and parameters: {'num_leaves': 31, 'max_depth': 35, 'learning_rate': 0.008867855312713495, 'n_estimators': 463, 'min_child_samples': 110, 'subsample': 0.7}. Best is trial 12 with value: 0.844653033465047.\u001b[0m\n",
      "\u001b[32m[I 2023-02-13 06:42:44,995]\u001b[0m Trial 29 finished with value: 0.8356786430919039 and parameters: {'num_leaves': 32, 'max_depth': 30, 'learning_rate': 0.0011076008504774103, 'n_estimators': 581, 'min_child_samples': 116, 'subsample': 0.9}. Best is trial 12 with value: 0.844653033465047.\u001b[0m\n",
      "\u001b[32m[I 2023-02-13 06:42:52,747]\u001b[0m Trial 30 finished with value: 0.838759436814159 and parameters: {'num_leaves': 25, 'max_depth': 35, 'learning_rate': 0.002932082694479787, 'n_estimators': 479, 'min_child_samples': 124, 'subsample': 0.8}. Best is trial 12 with value: 0.844653033465047.\u001b[0m\n",
      "\u001b[32m[I 2023-02-13 06:42:58,996]\u001b[0m Trial 31 finished with value: 0.8446980653987827 and parameters: {'num_leaves': 31, 'max_depth': 34, 'learning_rate': 0.010601925044820583, 'n_estimators': 514, 'min_child_samples': 107, 'subsample': 0.7}. Best is trial 31 with value: 0.8446980653987827.\u001b[0m\n",
      "\u001b[32m[I 2023-02-13 06:43:05,025]\u001b[0m Trial 32 finished with value: 0.8447686041421028 and parameters: {'num_leaves': 32, 'max_depth': 32, 'learning_rate': 0.012952730622248962, 'n_estimators': 518, 'min_child_samples': 109, 'subsample': 0.7}. Best is trial 32 with value: 0.8447686041421028.\u001b[0m\n",
      "\u001b[32m[I 2023-02-13 06:43:14,649]\u001b[0m Trial 33 finished with value: 0.8433038248138145 and parameters: {'num_leaves': 26, 'max_depth': 32, 'learning_rate': 0.004837180276212502, 'n_estimators': 601, 'min_child_samples': 108, 'subsample': 0.8}. Best is trial 32 with value: 0.8447686041421028.\u001b[0m\n",
      "\u001b[32m[I 2023-02-13 06:43:19,799]\u001b[0m Trial 34 finished with value: 0.8443435658903531 and parameters: {'num_leaves': 31, 'max_depth': 39, 'learning_rate': 0.013393164373176322, 'n_estimators': 438, 'min_child_samples': 113, 'subsample': 0.7}. Best is trial 32 with value: 0.8447686041421028.\u001b[0m\n",
      "\u001b[32m[I 2023-02-13 06:43:24,718]\u001b[0m Trial 35 finished with value: 0.8286310890312931 and parameters: {'num_leaves': 28, 'max_depth': 33, 'learning_rate': 0.0013581284032884605, 'n_estimators': 509, 'min_child_samples': 99, 'subsample': 0.7}. Best is trial 32 with value: 0.8447686041421028.\u001b[0m\n",
      "\u001b[32m[I 2023-02-13 06:43:29,508]\u001b[0m Trial 36 finished with value: 0.8442673840475672 and parameters: {'num_leaves': 24, 'max_depth': 39, 'learning_rate': 0.014331358508994384, 'n_estimators': 531, 'min_child_samples': 122, 'subsample': 0.9}. Best is trial 32 with value: 0.8447686041421028.\u001b[0m\n",
      "\u001b[32m[I 2023-02-13 06:43:37,285]\u001b[0m Trial 37 finished with value: 0.8438367591273466 and parameters: {'num_leaves': 22, 'max_depth': 48, 'learning_rate': 0.008924771327095555, 'n_estimators': 646, 'min_child_samples': 128, 'subsample': 0.8}. Best is trial 32 with value: 0.8447686041421028.\u001b[0m\n",
      "\u001b[32m[I 2023-02-13 06:43:42,178]\u001b[0m Trial 38 finished with value: 0.8241771599160712 and parameters: {'num_leaves': 38, 'max_depth': 43, 'learning_rate': 0.000554801704726419, 'n_estimators': 510, 'min_child_samples': 103, 'subsample': 0.6}. Best is trial 32 with value: 0.8447686041421028.\u001b[0m\n",
      "\u001b[32m[I 2023-02-13 06:43:44,711]\u001b[0m Trial 39 finished with value: 0.8434073756890084 and parameters: {'num_leaves': 31, 'max_depth': 30, 'learning_rate': 0.05485115959605948, 'n_estimators': 593, 'min_child_samples': 134, 'subsample': 0.6}. Best is trial 32 with value: 0.8447686041421028.\u001b[0m\n",
      "\u001b[32m[I 2023-02-13 06:43:50,419]\u001b[0m Trial 40 finished with value: 0.8351243778623917 and parameters: {'num_leaves': 18, 'max_depth': 34, 'learning_rate': 0.0023510090406841985, 'n_estimators': 392, 'min_child_samples': 139, 'subsample': 0.8}. Best is trial 32 with value: 0.8447686041421028.\u001b[0m\n",
      "\u001b[32m[I 2023-02-13 06:43:56,566]\u001b[0m Trial 41 finished with value: 0.84482238288001 and parameters: {'num_leaves': 31, 'max_depth': 36, 'learning_rate': 0.010655575685164459, 'n_estimators': 452, 'min_child_samples': 112, 'subsample': 0.7}. Best is trial 41 with value: 0.84482238288001.\u001b[0m\n",
      "\u001b[32m[I 2023-02-13 06:44:00,982]\u001b[0m Trial 42 finished with value: 0.8439957816702877 and parameters: {'num_leaves': 34, 'max_depth': 37, 'learning_rate': 0.01719507135448831, 'n_estimators': 447, 'min_child_samples': 114, 'subsample': 1.0}. Best is trial 41 with value: 0.84482238288001.\u001b[0m\n",
      "\u001b[32m[I 2023-02-13 06:44:10,300]\u001b[0m Trial 43 finished with value: 0.8442085829511357 and parameters: {'num_leaves': 27, 'max_depth': 41, 'learning_rate': 0.007406733440064732, 'n_estimators': 495, 'min_child_samples': 121, 'subsample': 0.7}. Best is trial 41 with value: 0.84482238288001.\u001b[0m\n",
      "\u001b[32m[I 2023-02-13 06:44:15,854]\u001b[0m Trial 44 finished with value: 0.8439408178814926 and parameters: {'num_leaves': 30, 'max_depth': 38, 'learning_rate': 0.011925501135593219, 'n_estimators': 420, 'min_child_samples': 105, 'subsample': 0.7}. Best is trial 41 with value: 0.84482238288001.\u001b[0m\n",
      "\u001b[32m[I 2023-02-13 06:44:18,147]\u001b[0m Trial 45 finished with value: 0.8422407213054882 and parameters: {'num_leaves': 10, 'max_depth': 32, 'learning_rate': 0.05092718714637444, 'n_estimators': 541, 'min_child_samples': 118, 'subsample': 0.7}. Best is trial 41 with value: 0.84482238288001.\u001b[0m\n",
      "\u001b[32m[I 2023-02-13 06:44:23,595]\u001b[0m Trial 46 finished with value: 0.8390711051976445 and parameters: {'num_leaves': 33, 'max_depth': 36, 'learning_rate': 0.0047897197147749575, 'n_estimators': 564, 'min_child_samples': 159, 'subsample': 0.9}. Best is trial 41 with value: 0.84482238288001.\u001b[0m\n",
      "\u001b[32m[I 2023-02-13 06:44:25,533]\u001b[0m Trial 47 finished with value: 0.8440945359109356 and parameters: {'num_leaves': 30, 'max_depth': 48, 'learning_rate': 0.09059722699741446, 'n_estimators': 636, 'min_child_samples': 111, 'subsample': 0.8}. Best is trial 41 with value: 0.84482238288001.\u001b[0m\n",
      "\u001b[32m[I 2023-02-13 06:44:31,132]\u001b[0m Trial 48 finished with value: 0.843766953986957 and parameters: {'num_leaves': 38, 'max_depth': 61, 'learning_rate': 0.014472438295522595, 'n_estimators': 390, 'min_child_samples': 126, 'subsample': 0.6}. Best is trial 41 with value: 0.84482238288001.\u001b[0m\n",
      "\u001b[32m[I 2023-02-13 06:44:34,762]\u001b[0m Trial 49 finished with value: 0.8446006090710115 and parameters: {'num_leaves': 35, 'max_depth': 53, 'learning_rate': 0.02851994086079477, 'n_estimators': 460, 'min_child_samples': 101, 'subsample': 0.7}. Best is trial 41 with value: 0.84482238288001.\u001b[0m\n"
     ]
    },
    {
     "name": "stdout",
     "output_type": "stream",
     "text": [
      "Best Trial: score 0.84482238288001,\n",
      "params {'num_leaves': 31, 'max_depth': 36, 'learning_rate': 0.010655575685164459, 'n_estimators': 452, 'min_child_samples': 112, 'subsample': 0.7}\n"
     ]
    }
   ],
   "source": [
    "sampler = TPESampler(seed=10)\n",
    "study = optuna.create_study(direction='maximize', sampler=sampler)\n",
    "study.optimize(objective_func, n_trials=50)\n",
    "trial = study.best_trial\n",
    "trial_params = trial.params\n",
    "print('Best Trial: score {},\\nparams {}'.format(trial.value, trial_params))"
   ]
  },
  {
   "cell_type": "code",
   "execution_count": 20,
   "id": "48e92818",
   "metadata": {
    "execution": {
     "iopub.execute_input": "2023-02-13T06:44:34.804807Z",
     "iopub.status.busy": "2023-02-13T06:44:34.804369Z",
     "iopub.status.idle": "2023-02-13T06:44:36.302667Z",
     "shell.execute_reply": "2023-02-13T06:44:36.301125Z"
    },
    "papermill": {
     "duration": 1.517278,
     "end_time": "2023-02-13T06:44:36.305811",
     "exception": false,
     "start_time": "2023-02-13T06:44:34.788533",
     "status": "completed"
    },
    "tags": []
   },
   "outputs": [
    {
     "data": {
      "text/html": [
       "        <script type=\"text/javascript\">\n",
       "        window.PlotlyConfig = {MathJaxConfig: 'local'};\n",
       "        if (window.MathJax && window.MathJax.Hub && window.MathJax.Hub.Config) {window.MathJax.Hub.Config({SVG: {font: \"STIX-Web\"}});}\n",
       "        if (typeof require !== 'undefined') {\n",
       "        require.undef(\"plotly\");\n",
       "        requirejs.config({\n",
       "            paths: {\n",
       "                'plotly': ['https://cdn.plot.ly/plotly-2.18.0.min']\n",
       "            }\n",
       "        });\n",
       "        require(['plotly'], function(Plotly) {\n",
       "            window._Plotly = Plotly;\n",
       "        });\n",
       "        }\n",
       "        </script>\n",
       "        "
      ]
     },
     "metadata": {},
     "output_type": "display_data"
    },
    {
     "data": {
      "text/html": [
       "<div>                            <div id=\"966dd871-98db-46cf-958e-596ddc4f3ed3\" class=\"plotly-graph-div\" style=\"height:525px; width:100%;\"></div>            <script type=\"text/javascript\">                require([\"plotly\"], function(Plotly) {                    window.PLOTLYENV=window.PLOTLYENV || {};                                    if (document.getElementById(\"966dd871-98db-46cf-958e-596ddc4f3ed3\")) {                    Plotly.newPlot(                        \"966dd871-98db-46cf-958e-596ddc4f3ed3\",                        [{\"cliponaxis\":false,\"hovertemplate\":[\"max_depth (IntDistribution): 0.002991552868867458<extra></extra>\",\"min_child_samples (IntDistribution): 0.013798492129147544<extra></extra>\",\"subsample (FloatDistribution): 0.017406173577004608<extra></extra>\",\"n_estimators (IntDistribution): 0.021688876190374233<extra></extra>\",\"num_leaves (IntDistribution): 0.022410773232244156<extra></extra>\",\"learning_rate (FloatDistribution): 0.9217041320023621<extra></extra>\"],\"marker\":{\"color\":\"rgb(66,146,198)\"},\"orientation\":\"h\",\"text\":[\"<0.01\",\"0.01\",\"0.02\",\"0.02\",\"0.02\",\"0.92\"],\"textposition\":\"outside\",\"x\":[0.002991552868867458,0.013798492129147544,0.017406173577004608,0.021688876190374233,0.022410773232244156,0.9217041320023621],\"y\":[\"max_depth\",\"min_child_samples\",\"subsample\",\"n_estimators\",\"num_leaves\",\"learning_rate\"],\"type\":\"bar\"}],                        {\"showlegend\":false,\"title\":{\"text\":\"Hyperparameter Importances\"},\"xaxis\":{\"title\":{\"text\":\"Importance for Objective Value\"}},\"yaxis\":{\"title\":{\"text\":\"Hyperparameter\"}},\"template\":{\"data\":{\"histogram2dcontour\":[{\"type\":\"histogram2dcontour\",\"colorbar\":{\"outlinewidth\":0,\"ticks\":\"\"},\"colorscale\":[[0.0,\"#0d0887\"],[0.1111111111111111,\"#46039f\"],[0.2222222222222222,\"#7201a8\"],[0.3333333333333333,\"#9c179e\"],[0.4444444444444444,\"#bd3786\"],[0.5555555555555556,\"#d8576b\"],[0.6666666666666666,\"#ed7953\"],[0.7777777777777778,\"#fb9f3a\"],[0.8888888888888888,\"#fdca26\"],[1.0,\"#f0f921\"]]}],\"choropleth\":[{\"type\":\"choropleth\",\"colorbar\":{\"outlinewidth\":0,\"ticks\":\"\"}}],\"histogram2d\":[{\"type\":\"histogram2d\",\"colorbar\":{\"outlinewidth\":0,\"ticks\":\"\"},\"colorscale\":[[0.0,\"#0d0887\"],[0.1111111111111111,\"#46039f\"],[0.2222222222222222,\"#7201a8\"],[0.3333333333333333,\"#9c179e\"],[0.4444444444444444,\"#bd3786\"],[0.5555555555555556,\"#d8576b\"],[0.6666666666666666,\"#ed7953\"],[0.7777777777777778,\"#fb9f3a\"],[0.8888888888888888,\"#fdca26\"],[1.0,\"#f0f921\"]]}],\"heatmap\":[{\"type\":\"heatmap\",\"colorbar\":{\"outlinewidth\":0,\"ticks\":\"\"},\"colorscale\":[[0.0,\"#0d0887\"],[0.1111111111111111,\"#46039f\"],[0.2222222222222222,\"#7201a8\"],[0.3333333333333333,\"#9c179e\"],[0.4444444444444444,\"#bd3786\"],[0.5555555555555556,\"#d8576b\"],[0.6666666666666666,\"#ed7953\"],[0.7777777777777778,\"#fb9f3a\"],[0.8888888888888888,\"#fdca26\"],[1.0,\"#f0f921\"]]}],\"heatmapgl\":[{\"type\":\"heatmapgl\",\"colorbar\":{\"outlinewidth\":0,\"ticks\":\"\"},\"colorscale\":[[0.0,\"#0d0887\"],[0.1111111111111111,\"#46039f\"],[0.2222222222222222,\"#7201a8\"],[0.3333333333333333,\"#9c179e\"],[0.4444444444444444,\"#bd3786\"],[0.5555555555555556,\"#d8576b\"],[0.6666666666666666,\"#ed7953\"],[0.7777777777777778,\"#fb9f3a\"],[0.8888888888888888,\"#fdca26\"],[1.0,\"#f0f921\"]]}],\"contourcarpet\":[{\"type\":\"contourcarpet\",\"colorbar\":{\"outlinewidth\":0,\"ticks\":\"\"}}],\"contour\":[{\"type\":\"contour\",\"colorbar\":{\"outlinewidth\":0,\"ticks\":\"\"},\"colorscale\":[[0.0,\"#0d0887\"],[0.1111111111111111,\"#46039f\"],[0.2222222222222222,\"#7201a8\"],[0.3333333333333333,\"#9c179e\"],[0.4444444444444444,\"#bd3786\"],[0.5555555555555556,\"#d8576b\"],[0.6666666666666666,\"#ed7953\"],[0.7777777777777778,\"#fb9f3a\"],[0.8888888888888888,\"#fdca26\"],[1.0,\"#f0f921\"]]}],\"surface\":[{\"type\":\"surface\",\"colorbar\":{\"outlinewidth\":0,\"ticks\":\"\"},\"colorscale\":[[0.0,\"#0d0887\"],[0.1111111111111111,\"#46039f\"],[0.2222222222222222,\"#7201a8\"],[0.3333333333333333,\"#9c179e\"],[0.4444444444444444,\"#bd3786\"],[0.5555555555555556,\"#d8576b\"],[0.6666666666666666,\"#ed7953\"],[0.7777777777777778,\"#fb9f3a\"],[0.8888888888888888,\"#fdca26\"],[1.0,\"#f0f921\"]]}],\"mesh3d\":[{\"type\":\"mesh3d\",\"colorbar\":{\"outlinewidth\":0,\"ticks\":\"\"}}],\"scatter\":[{\"fillpattern\":{\"fillmode\":\"overlay\",\"size\":10,\"solidity\":0.2},\"type\":\"scatter\"}],\"parcoords\":[{\"type\":\"parcoords\",\"line\":{\"colorbar\":{\"outlinewidth\":0,\"ticks\":\"\"}}}],\"scatterpolargl\":[{\"type\":\"scatterpolargl\",\"marker\":{\"colorbar\":{\"outlinewidth\":0,\"ticks\":\"\"}}}],\"bar\":[{\"error_x\":{\"color\":\"#2a3f5f\"},\"error_y\":{\"color\":\"#2a3f5f\"},\"marker\":{\"line\":{\"color\":\"#E5ECF6\",\"width\":0.5},\"pattern\":{\"fillmode\":\"overlay\",\"size\":10,\"solidity\":0.2}},\"type\":\"bar\"}],\"scattergeo\":[{\"type\":\"scattergeo\",\"marker\":{\"colorbar\":{\"outlinewidth\":0,\"ticks\":\"\"}}}],\"scatterpolar\":[{\"type\":\"scatterpolar\",\"marker\":{\"colorbar\":{\"outlinewidth\":0,\"ticks\":\"\"}}}],\"histogram\":[{\"marker\":{\"pattern\":{\"fillmode\":\"overlay\",\"size\":10,\"solidity\":0.2}},\"type\":\"histogram\"}],\"scattergl\":[{\"type\":\"scattergl\",\"marker\":{\"colorbar\":{\"outlinewidth\":0,\"ticks\":\"\"}}}],\"scatter3d\":[{\"type\":\"scatter3d\",\"line\":{\"colorbar\":{\"outlinewidth\":0,\"ticks\":\"\"}},\"marker\":{\"colorbar\":{\"outlinewidth\":0,\"ticks\":\"\"}}}],\"scattermapbox\":[{\"type\":\"scattermapbox\",\"marker\":{\"colorbar\":{\"outlinewidth\":0,\"ticks\":\"\"}}}],\"scatterternary\":[{\"type\":\"scatterternary\",\"marker\":{\"colorbar\":{\"outlinewidth\":0,\"ticks\":\"\"}}}],\"scattercarpet\":[{\"type\":\"scattercarpet\",\"marker\":{\"colorbar\":{\"outlinewidth\":0,\"ticks\":\"\"}}}],\"carpet\":[{\"aaxis\":{\"endlinecolor\":\"#2a3f5f\",\"gridcolor\":\"white\",\"linecolor\":\"white\",\"minorgridcolor\":\"white\",\"startlinecolor\":\"#2a3f5f\"},\"baxis\":{\"endlinecolor\":\"#2a3f5f\",\"gridcolor\":\"white\",\"linecolor\":\"white\",\"minorgridcolor\":\"white\",\"startlinecolor\":\"#2a3f5f\"},\"type\":\"carpet\"}],\"table\":[{\"cells\":{\"fill\":{\"color\":\"#EBF0F8\"},\"line\":{\"color\":\"white\"}},\"header\":{\"fill\":{\"color\":\"#C8D4E3\"},\"line\":{\"color\":\"white\"}},\"type\":\"table\"}],\"barpolar\":[{\"marker\":{\"line\":{\"color\":\"#E5ECF6\",\"width\":0.5},\"pattern\":{\"fillmode\":\"overlay\",\"size\":10,\"solidity\":0.2}},\"type\":\"barpolar\"}],\"pie\":[{\"automargin\":true,\"type\":\"pie\"}]},\"layout\":{\"autotypenumbers\":\"strict\",\"colorway\":[\"#636efa\",\"#EF553B\",\"#00cc96\",\"#ab63fa\",\"#FFA15A\",\"#19d3f3\",\"#FF6692\",\"#B6E880\",\"#FF97FF\",\"#FECB52\"],\"font\":{\"color\":\"#2a3f5f\"},\"hovermode\":\"closest\",\"hoverlabel\":{\"align\":\"left\"},\"paper_bgcolor\":\"white\",\"plot_bgcolor\":\"#E5ECF6\",\"polar\":{\"bgcolor\":\"#E5ECF6\",\"angularaxis\":{\"gridcolor\":\"white\",\"linecolor\":\"white\",\"ticks\":\"\"},\"radialaxis\":{\"gridcolor\":\"white\",\"linecolor\":\"white\",\"ticks\":\"\"}},\"ternary\":{\"bgcolor\":\"#E5ECF6\",\"aaxis\":{\"gridcolor\":\"white\",\"linecolor\":\"white\",\"ticks\":\"\"},\"baxis\":{\"gridcolor\":\"white\",\"linecolor\":\"white\",\"ticks\":\"\"},\"caxis\":{\"gridcolor\":\"white\",\"linecolor\":\"white\",\"ticks\":\"\"}},\"coloraxis\":{\"colorbar\":{\"outlinewidth\":0,\"ticks\":\"\"}},\"colorscale\":{\"sequential\":[[0.0,\"#0d0887\"],[0.1111111111111111,\"#46039f\"],[0.2222222222222222,\"#7201a8\"],[0.3333333333333333,\"#9c179e\"],[0.4444444444444444,\"#bd3786\"],[0.5555555555555556,\"#d8576b\"],[0.6666666666666666,\"#ed7953\"],[0.7777777777777778,\"#fb9f3a\"],[0.8888888888888888,\"#fdca26\"],[1.0,\"#f0f921\"]],\"sequentialminus\":[[0.0,\"#0d0887\"],[0.1111111111111111,\"#46039f\"],[0.2222222222222222,\"#7201a8\"],[0.3333333333333333,\"#9c179e\"],[0.4444444444444444,\"#bd3786\"],[0.5555555555555556,\"#d8576b\"],[0.6666666666666666,\"#ed7953\"],[0.7777777777777778,\"#fb9f3a\"],[0.8888888888888888,\"#fdca26\"],[1.0,\"#f0f921\"]],\"diverging\":[[0,\"#8e0152\"],[0.1,\"#c51b7d\"],[0.2,\"#de77ae\"],[0.3,\"#f1b6da\"],[0.4,\"#fde0ef\"],[0.5,\"#f7f7f7\"],[0.6,\"#e6f5d0\"],[0.7,\"#b8e186\"],[0.8,\"#7fbc41\"],[0.9,\"#4d9221\"],[1,\"#276419\"]]},\"xaxis\":{\"gridcolor\":\"white\",\"linecolor\":\"white\",\"ticks\":\"\",\"title\":{\"standoff\":15},\"zerolinecolor\":\"white\",\"automargin\":true,\"zerolinewidth\":2},\"yaxis\":{\"gridcolor\":\"white\",\"linecolor\":\"white\",\"ticks\":\"\",\"title\":{\"standoff\":15},\"zerolinecolor\":\"white\",\"automargin\":true,\"zerolinewidth\":2},\"scene\":{\"xaxis\":{\"backgroundcolor\":\"#E5ECF6\",\"gridcolor\":\"white\",\"linecolor\":\"white\",\"showbackground\":true,\"ticks\":\"\",\"zerolinecolor\":\"white\",\"gridwidth\":2},\"yaxis\":{\"backgroundcolor\":\"#E5ECF6\",\"gridcolor\":\"white\",\"linecolor\":\"white\",\"showbackground\":true,\"ticks\":\"\",\"zerolinecolor\":\"white\",\"gridwidth\":2},\"zaxis\":{\"backgroundcolor\":\"#E5ECF6\",\"gridcolor\":\"white\",\"linecolor\":\"white\",\"showbackground\":true,\"ticks\":\"\",\"zerolinecolor\":\"white\",\"gridwidth\":2}},\"shapedefaults\":{\"line\":{\"color\":\"#2a3f5f\"}},\"annotationdefaults\":{\"arrowcolor\":\"#2a3f5f\",\"arrowhead\":0,\"arrowwidth\":1},\"geo\":{\"bgcolor\":\"white\",\"landcolor\":\"#E5ECF6\",\"subunitcolor\":\"white\",\"showland\":true,\"showlakes\":true,\"lakecolor\":\"white\"},\"title\":{\"x\":0.05},\"mapbox\":{\"style\":\"light\"}}}},                        {\"responsive\": true}                    ).then(function(){\n",
       "                            \n",
       "var gd = document.getElementById('966dd871-98db-46cf-958e-596ddc4f3ed3');\n",
       "var x = new MutationObserver(function (mutations, observer) {{\n",
       "        var display = window.getComputedStyle(gd).display;\n",
       "        if (!display || display === 'none') {{\n",
       "            console.log([gd, 'removed!']);\n",
       "            Plotly.purge(gd);\n",
       "            observer.disconnect();\n",
       "        }}\n",
       "}});\n",
       "\n",
       "// Listen for the removal of the full notebook cells\n",
       "var notebookContainer = gd.closest('#notebook-container');\n",
       "if (notebookContainer) {{\n",
       "    x.observe(notebookContainer, {childList: true});\n",
       "}}\n",
       "\n",
       "// Listen for the clearing of the current output cell\n",
       "var outputEl = gd.closest('.output');\n",
       "if (outputEl) {{\n",
       "    x.observe(outputEl, {childList: true});\n",
       "}}\n",
       "\n",
       "                        })                };                });            </script>        </div>"
      ]
     },
     "metadata": {},
     "output_type": "display_data"
    }
   ],
   "source": [
    "from optuna import visualization\n",
    "optuna.visualization.plot_param_importances(study)"
   ]
  },
  {
   "cell_type": "markdown",
   "id": "9a4d81ba",
   "metadata": {
    "papermill": {
     "duration": 0.014435,
     "end_time": "2023-02-13T06:44:36.335569",
     "exception": false,
     "start_time": "2023-02-13T06:44:36.321134",
     "status": "completed"
    },
    "tags": []
   },
   "source": [
    "# OOF (5-fold)"
   ]
  },
  {
   "cell_type": "code",
   "execution_count": 21,
   "id": "84aa0e22",
   "metadata": {
    "execution": {
     "iopub.execute_input": "2023-02-13T06:44:36.368180Z",
     "iopub.status.busy": "2023-02-13T06:44:36.367650Z",
     "iopub.status.idle": "2023-02-13T06:45:14.372406Z",
     "shell.execute_reply": "2023-02-13T06:45:14.370556Z"
    },
    "papermill": {
     "duration": 38.042787,
     "end_time": "2023-02-13T06:45:14.393406",
     "exception": false,
     "start_time": "2023-02-13T06:44:36.350619",
     "status": "completed"
    },
    "tags": []
   },
   "outputs": [
    {
     "name": "stderr",
     "output_type": "stream",
     "text": [
      "[Parallel(n_jobs=1)]: Using backend SequentialBackend with 1 concurrent workers.\n"
     ]
    },
    {
     "name": "stdout",
     "output_type": "stream",
     "text": [
      "[0.83487159 0.82525495 0.84131446 0.85500428 0.83869666]\n",
      "0.839028386672856\n"
     ]
    },
    {
     "name": "stderr",
     "output_type": "stream",
     "text": [
      "[Parallel(n_jobs=1)]: Done   5 out of   5 | elapsed:   38.0s finished\n"
     ]
    }
   ],
   "source": [
    "from sklearn.model_selection import cross_val_score\n",
    "lgbm_best=LGBMClassifier(**trial_params)\n",
    "score=cross_val_score(lgbm_best, Train, y, cv=5, scoring='roc_auc', verbose=True)\n",
    "print(score)\n",
    "print(np.mean(score))"
   ]
  },
  {
   "cell_type": "code",
   "execution_count": 22,
   "id": "a116782f",
   "metadata": {
    "execution": {
     "iopub.execute_input": "2023-02-13T06:45:14.427490Z",
     "iopub.status.busy": "2023-02-13T06:45:14.426715Z",
     "iopub.status.idle": "2023-02-13T06:45:22.571120Z",
     "shell.execute_reply": "2023-02-13T06:45:22.569998Z"
    },
    "papermill": {
     "duration": 8.164688,
     "end_time": "2023-02-13T06:45:22.573999",
     "exception": false,
     "start_time": "2023-02-13T06:45:14.409311",
     "status": "completed"
    },
    "tags": []
   },
   "outputs": [
    {
     "data": {
      "text/plain": [
       "LGBMClassifier(learning_rate=0.010655575685164459, max_depth=36,\n",
       "               min_child_samples=112, n_estimators=452, subsample=0.7)"
      ]
     },
     "execution_count": 22,
     "metadata": {},
     "output_type": "execute_result"
    }
   ],
   "source": [
    "lgbm_best.fit(Train, y, eval_metric='auc')"
   ]
  },
  {
   "cell_type": "code",
   "execution_count": 23,
   "id": "71c4a3db",
   "metadata": {
    "execution": {
     "iopub.execute_input": "2023-02-13T06:45:22.608470Z",
     "iopub.status.busy": "2023-02-13T06:45:22.608019Z",
     "iopub.status.idle": "2023-02-13T06:45:23.013521Z",
     "shell.execute_reply": "2023-02-13T06:45:23.011542Z"
    },
    "papermill": {
     "duration": 0.426223,
     "end_time": "2023-02-13T06:45:23.016579",
     "exception": false,
     "start_time": "2023-02-13T06:45:22.590356",
     "status": "completed"
    },
    "tags": []
   },
   "outputs": [
    {
     "data": {
      "image/png": "[encoded data removed]",
      "text/plain": [
       "<Figure size 864x720 with 1 Axes>"
      ]
     },
     "metadata": {
      "needs_background": "light"
     },
     "output_type": "display_data"
    }
   ],
   "source": [
    "from lightgbm import plot_importance\n",
    "f,ax=plt.subplots(1,1,figsize=(12,10))\n",
    "plot_importance(lgbm_best, ax=ax, max_num_features=15);"
   ]
  },
  {
   "cell_type": "markdown",
   "id": "eace3fb1",
   "metadata": {
    "papermill": {
     "duration": 0.015569,
     "end_time": "2023-02-13T06:45:23.048551",
     "exception": false,
     "start_time": "2023-02-13T06:45:23.032982",
     "status": "completed"
    },
    "tags": []
   },
   "source": [
    "# Submit"
   ]
  },
  {
   "cell_type": "code",
   "execution_count": 24,
   "id": "964ea54b",
   "metadata": {
    "execution": {
     "iopub.execute_input": "2023-02-13T06:45:23.083809Z",
     "iopub.status.busy": "2023-02-13T06:45:23.082349Z",
     "iopub.status.idle": "2023-02-13T06:45:24.414793Z",
     "shell.execute_reply": "2023-02-13T06:45:24.413646Z"
    },
    "papermill": {
     "duration": 1.353294,
     "end_time": "2023-02-13T06:45:24.417862",
     "exception": false,
     "start_time": "2023-02-13T06:45:23.064568",
     "status": "completed"
    },
    "tags": []
   },
   "outputs": [],
   "source": [
    "preds=lgbm_best.predict_proba(Test)\n",
    "submission['TARGET']=preds[:,1]\n",
    "submission.to_csv('submission.csv', index=False)"
   ]
  }
 ],
 "metadata": {
  "kernelspec": {
   "display_name": "Python 3",
   "language": "python",
   "name": "python3"
  },
  "language_info": {
   "codemirror_mode": {
    "name": "ipython",
    "version": 3
   },
   "file_extension": ".py",
   "mimetype": "text/x-python",
   "name": "python",
   "nbconvert_exporter": "python",
   "pygments_lexer": "ipython3",
   "version": "3.7.12"
  },
  "papermill": {
   "default_parameters": {},
   "duration": 326.892461,
   "end_time": "2023-02-13T06:45:25.663267",
   "environment_variables": {},
   "exception": null,
   "input_path": "__notebook__.ipynb",
   "output_path": "__notebook__.ipynb",
   "parameters": {},
   "start_time": "2023-02-13T06:39:58.770806",
   "version": "2.3.4"
  }
 },
 "nbformat": 4,
 "nbformat_minor": 5
}
