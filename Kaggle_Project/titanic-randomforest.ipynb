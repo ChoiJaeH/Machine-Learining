{
 "cells": [
  {
   "cell_type": "markdown",
   "id": "61e4c090",
   "metadata": {},
   "source": [
    "# Titanic Project!"
   ]
  },
  {
   "cell_type": "code",
   "execution_count": 1,
   "id": "80c06616",
   "metadata": {
    "_cell_guid": "b1076dfc-b9ad-4769-8c92-a6c4dae69d19",
    "_uuid": "8f2839f25d086af736a60e9eeb907d3b93b6e0e5",
    "execution": {
     "iopub.execute_input": "2023-01-20T00:42:43.419781Z",
     "iopub.status.busy": "2023-01-20T00:42:43.419132Z",
     "iopub.status.idle": "2023-01-20T00:42:44.357709Z",
     "shell.execute_reply": "2023-01-20T00:42:44.356819Z"
    },
    "papermill": {
     "duration": 0.957847,
     "end_time": "2023-01-20T00:42:44.360178",
     "exception": false,
     "start_time": "2023-01-20T00:42:43.402331",
     "status": "completed"
    },
    "tags": []
   },
   "outputs": [],
   "source": [
    "import numpy as np \n",
    "import pandas as pd \n",
    "import matplotlib.pyplot as plt\n",
    "import seaborn as sns\n",
    "\n",
    "plt.style.use('seaborn')\n",
    "#sns.set(font_scale=2.5)\n",
    "import warnings\n",
    "warnings.filterwarnings('ignore')\n",
    "%matplotlib inline\n",
    "\n",
    "train_df = pd.read_csv('/kaggle/input/titanic/train.csv')\n",
    "test_df = pd.read_csv('/kaggle/input/titanic/test.csv')\n",
    "submission_df = pd.read_csv('/kaggle/input/titanic/gender_submission.csv')"
   ]
  },
  {
   "cell_type": "code",
   "execution_count": 2,
   "id": "57e3e4bd",
   "metadata": {
    "execution": {
     "iopub.execute_input": "2023-01-20T00:42:44.386483Z",
     "iopub.status.busy": "2023-01-20T00:42:44.386113Z",
     "iopub.status.idle": "2023-01-20T00:42:44.391621Z",
     "shell.execute_reply": "2023-01-20T00:42:44.390617Z"
    },
    "papermill": {
     "duration": 0.020899,
     "end_time": "2023-01-20T00:42:44.393761",
     "exception": false,
     "start_time": "2023-01-20T00:42:44.372862",
     "status": "completed"
    },
    "tags": []
   },
   "outputs": [
    {
     "name": "stdout",
     "output_type": "stream",
     "text": [
      "(891, 12)\n",
      "(418, 11)\n"
     ]
    }
   ],
   "source": [
    "print(train_df.shape)\n",
    "print(test_df.shape)"
   ]
  },
  {
   "cell_type": "markdown",
   "id": "cfcf1d65",
   "metadata": {
    "papermill": {
     "duration": 0.011831,
     "end_time": "2023-01-20T00:42:44.418873",
     "exception": false,
     "start_time": "2023-01-20T00:42:44.407042",
     "status": "completed"
    },
    "tags": []
   },
   "source": [
    "#  **Dataset Check** "
   ]
  },
  {
   "cell_type": "code",
   "execution_count": 3,
   "id": "a47a2c24",
   "metadata": {
    "execution": {
     "iopub.execute_input": "2023-01-20T00:42:44.444577Z",
     "iopub.status.busy": "2023-01-20T00:42:44.444175Z",
     "iopub.status.idle": "2023-01-20T00:42:44.466490Z",
     "shell.execute_reply": "2023-01-20T00:42:44.465642Z"
    },
    "papermill": {
     "duration": 0.03726,
     "end_time": "2023-01-20T00:42:44.468093",
     "exception": false,
     "start_time": "2023-01-20T00:42:44.430833",
     "status": "completed"
    },
    "tags": []
   },
   "outputs": [
    {
     "data": {
      "text/html": [
       "<div>\n",
       "<style scoped>\n",
       "    .dataframe tbody tr th:only-of-type {\n",
       "        vertical-align: middle;\n",
       "    }\n",
       "\n",
       "    .dataframe tbody tr th {\n",
       "        vertical-align: top;\n",
       "    }\n",
       "\n",
       "    .dataframe thead th {\n",
       "        text-align: right;\n",
       "    }\n",
       "</style>\n",
       "<table border=\"1\" class=\"dataframe\">\n",
       "  <thead>\n",
       "    <tr style=\"text-align: right;\">\n",
       "      <th></th>\n",
       "      <th>PassengerId</th>\n",
       "      <th>Survived</th>\n",
       "      <th>Pclass</th>\n",
       "      <th>Name</th>\n",
       "      <th>Sex</th>\n",
       "      <th>Age</th>\n",
       "      <th>SibSp</th>\n",
       "      <th>Parch</th>\n",
       "      <th>Ticket</th>\n",
       "      <th>Fare</th>\n",
       "      <th>Cabin</th>\n",
       "      <th>Embarked</th>\n",
       "    </tr>\n",
       "  </thead>\n",
       "  <tbody>\n",
       "    <tr>\n",
       "      <th>0</th>\n",
       "      <td>1</td>\n",
       "      <td>0</td>\n",
       "      <td>3</td>\n",
       "      <td>Braund, Mr. Owen Harris</td>\n",
       "      <td>male</td>\n",
       "      <td>22.0</td>\n",
       "      <td>1</td>\n",
       "      <td>0</td>\n",
       "      <td>A/5 21171</td>\n",
       "      <td>7.2500</td>\n",
       "      <td>NaN</td>\n",
       "      <td>S</td>\n",
       "    </tr>\n",
       "    <tr>\n",
       "      <th>1</th>\n",
       "      <td>2</td>\n",
       "      <td>1</td>\n",
       "      <td>1</td>\n",
       "      <td>Cumings, Mrs. John Bradley (Florence Briggs Th...</td>\n",
       "      <td>female</td>\n",
       "      <td>38.0</td>\n",
       "      <td>1</td>\n",
       "      <td>0</td>\n",
       "      <td>PC 17599</td>\n",
       "      <td>71.2833</td>\n",
       "      <td>C85</td>\n",
       "      <td>C</td>\n",
       "    </tr>\n",
       "    <tr>\n",
       "      <th>2</th>\n",
       "      <td>3</td>\n",
       "      <td>1</td>\n",
       "      <td>3</td>\n",
       "      <td>Heikkinen, Miss. Laina</td>\n",
       "      <td>female</td>\n",
       "      <td>26.0</td>\n",
       "      <td>0</td>\n",
       "      <td>0</td>\n",
       "      <td>STON/O2. 3101282</td>\n",
       "      <td>7.9250</td>\n",
       "      <td>NaN</td>\n",
       "      <td>S</td>\n",
       "    </tr>\n",
       "    <tr>\n",
       "      <th>3</th>\n",
       "      <td>4</td>\n",
       "      <td>1</td>\n",
       "      <td>1</td>\n",
       "      <td>Futrelle, Mrs. Jacques Heath (Lily May Peel)</td>\n",
       "      <td>female</td>\n",
       "      <td>35.0</td>\n",
       "      <td>1</td>\n",
       "      <td>0</td>\n",
       "      <td>113803</td>\n",
       "      <td>53.1000</td>\n",
       "      <td>C123</td>\n",
       "      <td>S</td>\n",
       "    </tr>\n",
       "    <tr>\n",
       "      <th>4</th>\n",
       "      <td>5</td>\n",
       "      <td>0</td>\n",
       "      <td>3</td>\n",
       "      <td>Allen, Mr. William Henry</td>\n",
       "      <td>male</td>\n",
       "      <td>35.0</td>\n",
       "      <td>0</td>\n",
       "      <td>0</td>\n",
       "      <td>373450</td>\n",
       "      <td>8.0500</td>\n",
       "      <td>NaN</td>\n",
       "      <td>S</td>\n",
       "    </tr>\n",
       "  </tbody>\n",
       "</table>\n",
       "</div>"
      ],
      "text/plain": [
       "   PassengerId  Survived  Pclass  \\\n",
       "0            1         0       3   \n",
       "1            2         1       1   \n",
       "2            3         1       3   \n",
       "3            4         1       1   \n",
       "4            5         0       3   \n",
       "\n",
       "                                                Name     Sex   Age  SibSp  \\\n",
       "0                            Braund, Mr. Owen Harris    male  22.0      1   \n",
       "1  Cumings, Mrs. John Bradley (Florence Briggs Th...  female  38.0      1   \n",
       "2                             Heikkinen, Miss. Laina  female  26.0      0   \n",
       "3       Futrelle, Mrs. Jacques Heath (Lily May Peel)  female  35.0      1   \n",
       "4                           Allen, Mr. William Henry    male  35.0      0   \n",
       "\n",
       "   Parch            Ticket     Fare Cabin Embarked  \n",
       "0      0         A/5 21171   7.2500   NaN        S  \n",
       "1      0          PC 17599  71.2833   C85        C  \n",
       "2      0  STON/O2. 3101282   7.9250   NaN        S  \n",
       "3      0            113803  53.1000  C123        S  \n",
       "4      0            373450   8.0500   NaN        S  "
      ]
     },
     "execution_count": 3,
     "metadata": {},
     "output_type": "execute_result"
    }
   ],
   "source": [
    "train_df.head()\n",
    "# PassengerID: 탑승자 데이터 번호\n",
    "# survived : 생존 1, 사망 0\n",
    "# Pclass: 선실등급 1등석~3등석\n",
    "# Sex: 성별\n",
    "# Name: 이름\n",
    "# Age: 나이\n",
    "# SibSp: 같이 탑승한 형제자매, 배우자 인원\n",
    "# parch: 같이 탑승한 부모, 어린이 인원수\n",
    "# ticket: 티켓 번호\n",
    "# Fare: 요금\n",
    "# Cabin: 선실번호\n",
    "# Embarked: 중간정착항구 약어 C, Q, S"
   ]
  },
  {
   "cell_type": "code",
   "execution_count": 4,
   "id": "452f40a0",
   "metadata": {
    "execution": {
     "iopub.execute_input": "2023-01-20T00:42:44.495639Z",
     "iopub.status.busy": "2023-01-20T00:42:44.494607Z",
     "iopub.status.idle": "2023-01-20T00:42:44.531948Z",
     "shell.execute_reply": "2023-01-20T00:42:44.530885Z"
    },
    "papermill": {
     "duration": 0.052965,
     "end_time": "2023-01-20T00:42:44.533713",
     "exception": false,
     "start_time": "2023-01-20T00:42:44.480748",
     "status": "completed"
    },
    "tags": []
   },
   "outputs": [
    {
     "data": {
      "text/html": [
       "<div>\n",
       "<style scoped>\n",
       "    .dataframe tbody tr th:only-of-type {\n",
       "        vertical-align: middle;\n",
       "    }\n",
       "\n",
       "    .dataframe tbody tr th {\n",
       "        vertical-align: top;\n",
       "    }\n",
       "\n",
       "    .dataframe thead th {\n",
       "        text-align: right;\n",
       "    }\n",
       "</style>\n",
       "<table border=\"1\" class=\"dataframe\">\n",
       "  <thead>\n",
       "    <tr style=\"text-align: right;\">\n",
       "      <th></th>\n",
       "      <th>PassengerId</th>\n",
       "      <th>Survived</th>\n",
       "      <th>Pclass</th>\n",
       "      <th>Age</th>\n",
       "      <th>SibSp</th>\n",
       "      <th>Parch</th>\n",
       "      <th>Fare</th>\n",
       "    </tr>\n",
       "  </thead>\n",
       "  <tbody>\n",
       "    <tr>\n",
       "      <th>count</th>\n",
       "      <td>891.000000</td>\n",
       "      <td>891.000000</td>\n",
       "      <td>891.000000</td>\n",
       "      <td>714.000000</td>\n",
       "      <td>891.000000</td>\n",
       "      <td>891.000000</td>\n",
       "      <td>891.000000</td>\n",
       "    </tr>\n",
       "    <tr>\n",
       "      <th>mean</th>\n",
       "      <td>446.000000</td>\n",
       "      <td>0.383838</td>\n",
       "      <td>2.308642</td>\n",
       "      <td>29.699118</td>\n",
       "      <td>0.523008</td>\n",
       "      <td>0.381594</td>\n",
       "      <td>32.204208</td>\n",
       "    </tr>\n",
       "    <tr>\n",
       "      <th>std</th>\n",
       "      <td>257.353842</td>\n",
       "      <td>0.486592</td>\n",
       "      <td>0.836071</td>\n",
       "      <td>14.526497</td>\n",
       "      <td>1.102743</td>\n",
       "      <td>0.806057</td>\n",
       "      <td>49.693429</td>\n",
       "    </tr>\n",
       "    <tr>\n",
       "      <th>min</th>\n",
       "      <td>1.000000</td>\n",
       "      <td>0.000000</td>\n",
       "      <td>1.000000</td>\n",
       "      <td>0.420000</td>\n",
       "      <td>0.000000</td>\n",
       "      <td>0.000000</td>\n",
       "      <td>0.000000</td>\n",
       "    </tr>\n",
       "    <tr>\n",
       "      <th>25%</th>\n",
       "      <td>223.500000</td>\n",
       "      <td>0.000000</td>\n",
       "      <td>2.000000</td>\n",
       "      <td>20.125000</td>\n",
       "      <td>0.000000</td>\n",
       "      <td>0.000000</td>\n",
       "      <td>7.910400</td>\n",
       "    </tr>\n",
       "    <tr>\n",
       "      <th>50%</th>\n",
       "      <td>446.000000</td>\n",
       "      <td>0.000000</td>\n",
       "      <td>3.000000</td>\n",
       "      <td>28.000000</td>\n",
       "      <td>0.000000</td>\n",
       "      <td>0.000000</td>\n",
       "      <td>14.454200</td>\n",
       "    </tr>\n",
       "    <tr>\n",
       "      <th>75%</th>\n",
       "      <td>668.500000</td>\n",
       "      <td>1.000000</td>\n",
       "      <td>3.000000</td>\n",
       "      <td>38.000000</td>\n",
       "      <td>1.000000</td>\n",
       "      <td>0.000000</td>\n",
       "      <td>31.000000</td>\n",
       "    </tr>\n",
       "    <tr>\n",
       "      <th>max</th>\n",
       "      <td>891.000000</td>\n",
       "      <td>1.000000</td>\n",
       "      <td>3.000000</td>\n",
       "      <td>80.000000</td>\n",
       "      <td>8.000000</td>\n",
       "      <td>6.000000</td>\n",
       "      <td>512.329200</td>\n",
       "    </tr>\n",
       "  </tbody>\n",
       "</table>\n",
       "</div>"
      ],
      "text/plain": [
       "       PassengerId    Survived      Pclass         Age       SibSp  \\\n",
       "count   891.000000  891.000000  891.000000  714.000000  891.000000   \n",
       "mean    446.000000    0.383838    2.308642   29.699118    0.523008   \n",
       "std     257.353842    0.486592    0.836071   14.526497    1.102743   \n",
       "min       1.000000    0.000000    1.000000    0.420000    0.000000   \n",
       "25%     223.500000    0.000000    2.000000   20.125000    0.000000   \n",
       "50%     446.000000    0.000000    3.000000   28.000000    0.000000   \n",
       "75%     668.500000    1.000000    3.000000   38.000000    1.000000   \n",
       "max     891.000000    1.000000    3.000000   80.000000    8.000000   \n",
       "\n",
       "            Parch        Fare  \n",
       "count  891.000000  891.000000  \n",
       "mean     0.381594   32.204208  \n",
       "std      0.806057   49.693429  \n",
       "min      0.000000    0.000000  \n",
       "25%      0.000000    7.910400  \n",
       "50%      0.000000   14.454200  \n",
       "75%      0.000000   31.000000  \n",
       "max      6.000000  512.329200  "
      ]
     },
     "execution_count": 4,
     "metadata": {},
     "output_type": "execute_result"
    }
   ],
   "source": [
    "train_df.describe()"
   ]
  },
  {
   "cell_type": "code",
   "execution_count": 5,
   "id": "566d19c3",
   "metadata": {
    "execution": {
     "iopub.execute_input": "2023-01-20T00:42:44.561014Z",
     "iopub.status.busy": "2023-01-20T00:42:44.560655Z",
     "iopub.status.idle": "2023-01-20T00:42:44.577071Z",
     "shell.execute_reply": "2023-01-20T00:42:44.575796Z"
    },
    "papermill": {
     "duration": 0.032362,
     "end_time": "2023-01-20T00:42:44.578918",
     "exception": false,
     "start_time": "2023-01-20T00:42:44.546556",
     "status": "completed"
    },
    "tags": []
   },
   "outputs": [
    {
     "name": "stdout",
     "output_type": "stream",
     "text": [
      "<class 'pandas.core.frame.DataFrame'>\n",
      "RangeIndex: 891 entries, 0 to 890\n",
      "Data columns (total 12 columns):\n",
      " #   Column       Non-Null Count  Dtype  \n",
      "---  ------       --------------  -----  \n",
      " 0   PassengerId  891 non-null    int64  \n",
      " 1   Survived     891 non-null    int64  \n",
      " 2   Pclass       891 non-null    int64  \n",
      " 3   Name         891 non-null    object \n",
      " 4   Sex          891 non-null    object \n",
      " 5   Age          714 non-null    float64\n",
      " 6   SibSp        891 non-null    int64  \n",
      " 7   Parch        891 non-null    int64  \n",
      " 8   Ticket       891 non-null    object \n",
      " 9   Fare         891 non-null    float64\n",
      " 10  Cabin        204 non-null    object \n",
      " 11  Embarked     889 non-null    object \n",
      "dtypes: float64(2), int64(5), object(5)\n",
      "memory usage: 83.7+ KB\n"
     ]
    }
   ],
   "source": [
    "train_df.info()"
   ]
  },
  {
   "cell_type": "code",
   "execution_count": 6,
   "id": "9b93bf26",
   "metadata": {
    "execution": {
     "iopub.execute_input": "2023-01-20T00:42:44.605785Z",
     "iopub.status.busy": "2023-01-20T00:42:44.605384Z",
     "iopub.status.idle": "2023-01-20T00:42:44.614119Z",
     "shell.execute_reply": "2023-01-20T00:42:44.613220Z"
    },
    "papermill": {
     "duration": 0.024317,
     "end_time": "2023-01-20T00:42:44.616022",
     "exception": false,
     "start_time": "2023-01-20T00:42:44.591705",
     "status": "completed"
    },
    "tags": []
   },
   "outputs": [
    {
     "data": {
      "text/plain": [
       "PassengerId      0\n",
       "Survived         0\n",
       "Pclass           0\n",
       "Name             0\n",
       "Sex              0\n",
       "Age            177\n",
       "SibSp            0\n",
       "Parch            0\n",
       "Ticket           0\n",
       "Fare             0\n",
       "Cabin          687\n",
       "Embarked         2\n",
       "dtype: int64"
      ]
     },
     "execution_count": 6,
     "metadata": {},
     "output_type": "execute_result"
    }
   ],
   "source": [
    "train_df.isnull().sum()"
   ]
  },
  {
   "cell_type": "markdown",
   "id": "170fcbc3",
   "metadata": {
    "papermill": {
     "duration": 0.013068,
     "end_time": "2023-01-20T00:42:44.643108",
     "exception": false,
     "start_time": "2023-01-20T00:42:44.630040",
     "status": "completed"
    },
    "tags": []
   },
   "source": [
    "* Age, Cabin, Embarked 는 Null Data를 가짐 \n",
    "* sklearn은 Null Data 시 오류가 나므로 결측치를 채워줘야 함 "
   ]
  },
  {
   "cell_type": "markdown",
   "id": "0698a4b7",
   "metadata": {
    "papermill": {
     "duration": 0.012622,
     "end_time": "2023-01-20T00:42:44.668826",
     "exception": false,
     "start_time": "2023-01-20T00:42:44.656204",
     "status": "completed"
    },
    "tags": []
   },
   "source": [
    "# **Feature Engineering**"
   ]
  },
  {
   "cell_type": "markdown",
   "id": "f6f659fa",
   "metadata": {
    "papermill": {
     "duration": 0.012475,
     "end_time": "2023-01-20T00:42:44.694254",
     "exception": false,
     "start_time": "2023-01-20T00:42:44.681779",
     "status": "completed"
    },
    "tags": []
   },
   "source": [
    "# **1. How many Survived**"
   ]
  },
  {
   "cell_type": "code",
   "execution_count": 7,
   "id": "648b3f61",
   "metadata": {
    "execution": {
     "iopub.execute_input": "2023-01-20T00:42:44.721409Z",
     "iopub.status.busy": "2023-01-20T00:42:44.721099Z",
     "iopub.status.idle": "2023-01-20T00:42:44.927176Z",
     "shell.execute_reply": "2023-01-20T00:42:44.926354Z"
    },
    "papermill": {
     "duration": 0.222303,
     "end_time": "2023-01-20T00:42:44.929299",
     "exception": false,
     "start_time": "2023-01-20T00:42:44.706996",
     "status": "completed"
    },
    "tags": []
   },
   "outputs": [
    {
     "data": {
      "image/png": "[encoded data removed]",
      "text/plain": [
       "<Figure size 432x288 with 1 Axes>"
      ]
     },
     "metadata": {
      "needs_background": "light"
     },
     "output_type": "display_data"
    }
   ],
   "source": [
    "sns.barplot(x='Sex', y='Survived', data=train_df);"
   ]
  },
  {
   "cell_type": "markdown",
   "id": "7134b14b",
   "metadata": {
    "papermill": {
     "duration": 0.013436,
     "end_time": "2023-01-20T00:42:44.957444",
     "exception": false,
     "start_time": "2023-01-20T00:42:44.944008",
     "status": "completed"
    },
    "tags": []
   },
   "source": [
    "여성이 남성보다 4배정도 생존률이 높은 것으로 확인됨.  \n",
    "이는 여성과 어린이를 먼저 탈출시키는 방식이 반영된 결과로 해석"
   ]
  },
  {
   "cell_type": "code",
   "execution_count": 8,
   "id": "48e0e192",
   "metadata": {
    "execution": {
     "iopub.execute_input": "2023-01-20T00:42:44.986504Z",
     "iopub.status.busy": "2023-01-20T00:42:44.985402Z",
     "iopub.status.idle": "2023-01-20T00:42:45.267629Z",
     "shell.execute_reply": "2023-01-20T00:42:45.266744Z"
    },
    "papermill": {
     "duration": 0.298522,
     "end_time": "2023-01-20T00:42:45.269495",
     "exception": false,
     "start_time": "2023-01-20T00:42:44.970973",
     "status": "completed"
    },
    "tags": []
   },
   "outputs": [
    {
     "data": {
      "image/png": "[encoded data removed]",
      "text/plain": [
       "<Figure size 432x288 with 1 Axes>"
      ]
     },
     "metadata": {
      "needs_background": "light"
     },
     "output_type": "display_data"
    }
   ],
   "source": [
    "sns.barplot(x='Pclass', y='Survived', hue='Sex', data=train_df);"
   ]
  },
  {
   "cell_type": "markdown",
   "id": "76983ce2",
   "metadata": {
    "papermill": {
     "duration": 0.01348,
     "end_time": "2023-01-20T00:42:45.296787",
     "exception": false,
     "start_time": "2023-01-20T00:42:45.283307",
     "status": "completed"
    },
    "tags": []
   },
   "source": [
    "더 높은 등석으로 갈수록 생존률이 높아짐 "
   ]
  },
  {
   "cell_type": "code",
   "execution_count": 9,
   "id": "95e6c949",
   "metadata": {
    "execution": {
     "iopub.execute_input": "2023-01-20T00:42:45.325973Z",
     "iopub.status.busy": "2023-01-20T00:42:45.325639Z",
     "iopub.status.idle": "2023-01-20T00:42:45.800136Z",
     "shell.execute_reply": "2023-01-20T00:42:45.799336Z"
    },
    "papermill": {
     "duration": 0.491951,
     "end_time": "2023-01-20T00:42:45.802577",
     "exception": false,
     "start_time": "2023-01-20T00:42:45.310626",
     "status": "completed"
    },
    "tags": []
   },
   "outputs": [
    {
     "data": {
      "image/png": "[encoded data removed]",
      "text/plain": [
       "<Figure size 720x432 with 1 Axes>"
      ]
     },
     "metadata": {
      "needs_background": "light"
     },
     "output_type": "display_data"
    }
   ],
   "source": [
    "def get_name(age):\n",
    "    if (age<=5): return 'Baby'\n",
    "    elif (age<=13): return 'Child'\n",
    "    elif (age<=19): return 'Teen'\n",
    "    elif (age<=25): return 'Student'\n",
    "    elif (age<=35): return 'Young'\n",
    "    elif (age<=55): return 'Adult'\n",
    "    else: return 'Elder'\n",
    "\n",
    "\n",
    "plt.figure(figsize=(10,6))\n",
    "group_names=[\"Baby\",\"Child\",\"Teen\", \"Student\",\"Young\", \"Adult\", \"Elder\"] # group name order\n",
    "train_df['Age_cat']=train_df['Age'].apply(lambda x: get_name(x))\n",
    "sns.barplot(x='Age_cat', y='Survived', hue='Sex', data=train_df, order=group_names)\n",
    "train_df.drop('Age_cat', axis=1, inplace=True)"
   ]
  },
  {
   "cell_type": "markdown",
   "id": "c58bc14a",
   "metadata": {
    "papermill": {
     "duration": 0.013899,
     "end_time": "2023-01-20T00:42:45.831945",
     "exception": false,
     "start_time": "2023-01-20T00:42:45.818046",
     "status": "completed"
    },
    "tags": []
   },
   "source": [
    "어린아이와 여성의 생존률이 높음을 확인할 수 있음"
   ]
  },
  {
   "cell_type": "markdown",
   "id": "b1a2ed2b",
   "metadata": {
    "papermill": {
     "duration": 0.013193,
     "end_time": "2023-01-20T00:42:45.859278",
     "exception": false,
     "start_time": "2023-01-20T00:42:45.846085",
     "status": "completed"
    },
    "tags": []
   },
   "source": [
    "# **2. Analysing The Features**"
   ]
  },
  {
   "cell_type": "markdown",
   "id": "e1f046e9",
   "metadata": {
    "papermill": {
     "duration": 0.013133,
     "end_time": "2023-01-20T00:42:45.885944",
     "exception": false,
     "start_time": "2023-01-20T00:42:45.872811",
     "status": "completed"
    },
    "tags": []
   },
   "source": [
    "## **Feature 1: Sex**"
   ]
  },
  {
   "cell_type": "code",
   "execution_count": 10,
   "id": "f800454e",
   "metadata": {
    "execution": {
     "iopub.execute_input": "2023-01-20T00:42:45.915642Z",
     "iopub.status.busy": "2023-01-20T00:42:45.915061Z",
     "iopub.status.idle": "2023-01-20T00:42:45.923252Z",
     "shell.execute_reply": "2023-01-20T00:42:45.922604Z"
    },
    "papermill": {
     "duration": 0.024815,
     "end_time": "2023-01-20T00:42:45.924937",
     "exception": false,
     "start_time": "2023-01-20T00:42:45.900122",
     "status": "completed"
    },
    "tags": []
   },
   "outputs": [
    {
     "data": {
      "text/plain": [
       "Sex     Survived\n",
       "female  0            81\n",
       "        1           233\n",
       "male    0           468\n",
       "        1           109\n",
       "Name: Survived, dtype: int64"
      ]
     },
     "execution_count": 10,
     "metadata": {},
     "output_type": "execute_result"
    }
   ],
   "source": [
    "# sex & survived\n",
    "train_df.groupby(['Sex', 'Survived'])['Survived'].count()\n"
   ]
  },
  {
   "cell_type": "code",
   "execution_count": 11,
   "id": "f2ae7e5a",
   "metadata": {
    "execution": {
     "iopub.execute_input": "2023-01-20T00:42:45.954448Z",
     "iopub.status.busy": "2023-01-20T00:42:45.953852Z",
     "iopub.status.idle": "2023-01-20T00:42:46.213771Z",
     "shell.execute_reply": "2023-01-20T00:42:46.212651Z"
    },
    "papermill": {
     "duration": 0.276764,
     "end_time": "2023-01-20T00:42:46.215608",
     "exception": false,
     "start_time": "2023-01-20T00:42:45.938844",
     "status": "completed"
    },
    "tags": []
   },
   "outputs": [
    {
     "data": {
      "image/png": "[encoded data removed]",
      "text/plain": [
       "<Figure size 1296x576 with 2 Axes>"
      ]
     },
     "metadata": {
      "needs_background": "light"
     },
     "output_type": "display_data"
    }
   ],
   "source": [
    "f,ax=plt.subplots(1,2,figsize=(18,8))\n",
    "train_df[['Sex','Survived']].groupby(['Sex']).mean().plot.bar(ax=ax[0])\n",
    "ax[0].set_title('fig1')\n",
    "sns.countplot('Sex',hue='Survived',data=train_df,ax=ax[1])\n",
    "ax[1].set_title('fig2')\n",
    "plt.show()"
   ]
  },
  {
   "cell_type": "markdown",
   "id": "1e6bcae0",
   "metadata": {
    "papermill": {
     "duration": 0.013795,
     "end_time": "2023-01-20T00:42:46.243573",
     "exception": false,
     "start_time": "2023-01-20T00:42:46.229778",
     "status": "completed"
    },
    "tags": []
   },
   "source": [
    "*  성(Sex)이 생존(Survived)에 중요한 영향을 미치는 변수임을 알 수 있음(fig1)  \n",
    "*  남성과 여성의 생사여부가 정반대로 나타나는 결과(fig2)"
   ]
  },
  {
   "cell_type": "markdown",
   "id": "be5ab1cd",
   "metadata": {
    "papermill": {
     "duration": 0.013924,
     "end_time": "2023-01-20T00:42:46.271761",
     "exception": false,
     "start_time": "2023-01-20T00:42:46.257837",
     "status": "completed"
    },
    "tags": []
   },
   "source": [
    "## **Feature 2: Pclass**"
   ]
  },
  {
   "cell_type": "code",
   "execution_count": 12,
   "id": "2fa2d6cc",
   "metadata": {
    "execution": {
     "iopub.execute_input": "2023-01-20T00:42:46.303393Z",
     "iopub.status.busy": "2023-01-20T00:42:46.302440Z",
     "iopub.status.idle": "2023-01-20T00:42:46.396451Z",
     "shell.execute_reply": "2023-01-20T00:42:46.395207Z"
    },
    "papermill": {
     "duration": 0.113021,
     "end_time": "2023-01-20T00:42:46.398980",
     "exception": false,
     "start_time": "2023-01-20T00:42:46.285959",
     "status": "completed"
    },
    "tags": []
   },
   "outputs": [
    {
     "data": {
      "text/html": [
       "<style type=\"text/css\">\n",
       "#T_cfdd8_row0_col0, #T_cfdd8_row1_col1, #T_cfdd8_row1_col2 {\n",
       "  background-color: #fff7fb;\n",
       "  color: #000000;\n",
       "}\n",
       "#T_cfdd8_row0_col1 {\n",
       "  background-color: #dddbec;\n",
       "  color: #000000;\n",
       "}\n",
       "#T_cfdd8_row0_col2 {\n",
       "  background-color: #f8f1f8;\n",
       "  color: #000000;\n",
       "}\n",
       "#T_cfdd8_row1_col0 {\n",
       "  background-color: #faf2f8;\n",
       "  color: #000000;\n",
       "}\n",
       "#T_cfdd8_row2_col0 {\n",
       "  background-color: #3790c0;\n",
       "  color: #f1f1f1;\n",
       "}\n",
       "#T_cfdd8_row2_col1 {\n",
       "  background-color: #ece7f2;\n",
       "  color: #000000;\n",
       "}\n",
       "#T_cfdd8_row2_col2 {\n",
       "  background-color: #8eb3d5;\n",
       "  color: #000000;\n",
       "}\n",
       "#T_cfdd8_row3_col0, #T_cfdd8_row3_col1, #T_cfdd8_row3_col2 {\n",
       "  background-color: #023858;\n",
       "  color: #f1f1f1;\n",
       "}\n",
       "</style>\n",
       "<table id=\"T_cfdd8_\">\n",
       "  <thead>\n",
       "    <tr>\n",
       "      <th class=\"index_name level0\" >Survived</th>\n",
       "      <th class=\"col_heading level0 col0\" >0</th>\n",
       "      <th class=\"col_heading level0 col1\" >1</th>\n",
       "      <th class=\"col_heading level0 col2\" >All</th>\n",
       "    </tr>\n",
       "    <tr>\n",
       "      <th class=\"index_name level0\" >Pclass</th>\n",
       "      <th class=\"blank col0\" >&nbsp;</th>\n",
       "      <th class=\"blank col1\" >&nbsp;</th>\n",
       "      <th class=\"blank col2\" >&nbsp;</th>\n",
       "    </tr>\n",
       "  </thead>\n",
       "  <tbody>\n",
       "    <tr>\n",
       "      <th id=\"T_cfdd8_level0_row0\" class=\"row_heading level0 row0\" >1</th>\n",
       "      <td id=\"T_cfdd8_row0_col0\" class=\"data row0 col0\" >80</td>\n",
       "      <td id=\"T_cfdd8_row0_col1\" class=\"data row0 col1\" >136</td>\n",
       "      <td id=\"T_cfdd8_row0_col2\" class=\"data row0 col2\" >216</td>\n",
       "    </tr>\n",
       "    <tr>\n",
       "      <th id=\"T_cfdd8_level0_row1\" class=\"row_heading level0 row1\" >2</th>\n",
       "      <td id=\"T_cfdd8_row1_col0\" class=\"data row1 col0\" >97</td>\n",
       "      <td id=\"T_cfdd8_row1_col1\" class=\"data row1 col1\" >87</td>\n",
       "      <td id=\"T_cfdd8_row1_col2\" class=\"data row1 col2\" >184</td>\n",
       "    </tr>\n",
       "    <tr>\n",
       "      <th id=\"T_cfdd8_level0_row2\" class=\"row_heading level0 row2\" >3</th>\n",
       "      <td id=\"T_cfdd8_row2_col0\" class=\"data row2 col0\" >372</td>\n",
       "      <td id=\"T_cfdd8_row2_col1\" class=\"data row2 col1\" >119</td>\n",
       "      <td id=\"T_cfdd8_row2_col2\" class=\"data row2 col2\" >491</td>\n",
       "    </tr>\n",
       "    <tr>\n",
       "      <th id=\"T_cfdd8_level0_row3\" class=\"row_heading level0 row3\" >All</th>\n",
       "      <td id=\"T_cfdd8_row3_col0\" class=\"data row3 col0\" >549</td>\n",
       "      <td id=\"T_cfdd8_row3_col1\" class=\"data row3 col1\" >342</td>\n",
       "      <td id=\"T_cfdd8_row3_col2\" class=\"data row3 col2\" >891</td>\n",
       "    </tr>\n",
       "  </tbody>\n",
       "</table>\n"
      ],
      "text/plain": [
       "<pandas.io.formats.style.Styler at 0x7fce9ee18e10>"
      ]
     },
     "execution_count": 12,
     "metadata": {},
     "output_type": "execute_result"
    }
   ],
   "source": [
    "pd.crosstab(train_df.Pclass,train_df.Survived,margins=True).style.background_gradient() # margins: 총합"
   ]
  },
  {
   "cell_type": "code",
   "execution_count": 13,
   "id": "f5787af4",
   "metadata": {
    "execution": {
     "iopub.execute_input": "2023-01-20T00:42:46.429312Z",
     "iopub.status.busy": "2023-01-20T00:42:46.428719Z",
     "iopub.status.idle": "2023-01-20T00:42:46.667893Z",
     "shell.execute_reply": "2023-01-20T00:42:46.666547Z"
    },
    "papermill": {
     "duration": 0.256429,
     "end_time": "2023-01-20T00:42:46.670024",
     "exception": false,
     "start_time": "2023-01-20T00:42:46.413595",
     "status": "completed"
    },
    "tags": []
   },
   "outputs": [
    {
     "data": {
      "image/png": "[encoded data removed]",
      "text/plain": [
       "<Figure size 1296x576 with 2 Axes>"
      ]
     },
     "metadata": {
      "needs_background": "light"
     },
     "output_type": "display_data"
    }
   ],
   "source": [
    "f,ax=plt.subplots(1,2,figsize=(18,8))\n",
    "train_df['Pclass'].value_counts().plot.bar(ax=ax[0])\n",
    "ax[0].set_title('Number Of Passengers By Pclass')\n",
    "ax[0].set_ylabel('Count')\n",
    "sns.countplot('Pclass',hue='Survived',data=train_df,ax=ax[1])\n",
    "ax[1].set_title('Pclass:Survived vs Dead')\n",
    "plt.show()"
   ]
  },
  {
   "cell_type": "code",
   "execution_count": 14,
   "id": "fc76e5e2",
   "metadata": {
    "execution": {
     "iopub.execute_input": "2023-01-20T00:42:46.706607Z",
     "iopub.status.busy": "2023-01-20T00:42:46.705610Z",
     "iopub.status.idle": "2023-01-20T00:42:47.109810Z",
     "shell.execute_reply": "2023-01-20T00:42:47.108899Z"
    },
    "papermill": {
     "duration": 0.42506,
     "end_time": "2023-01-20T00:42:47.111937",
     "exception": false,
     "start_time": "2023-01-20T00:42:46.686877",
     "status": "completed"
    },
    "tags": []
   },
   "outputs": [
    {
     "data": {
      "image/png": "[encoded data removed]",
      "text/plain": [
       "<Figure size 430.5x360 with 1 Axes>"
      ]
     },
     "metadata": {
      "needs_background": "light"
     },
     "output_type": "display_data"
    }
   ],
   "source": [
    "sns.factorplot('Pclass','Survived',hue='Sex',data=train_df)\n",
    "plt.show()"
   ]
  },
  {
   "cell_type": "markdown",
   "id": "e54a9168",
   "metadata": {
    "papermill": {
     "duration": 0.014406,
     "end_time": "2023-01-20T00:42:47.141276",
     "exception": false,
     "start_time": "2023-01-20T00:42:47.126870",
     "status": "completed"
    },
    "tags": []
   },
   "source": [
    "* factorplot 함수는 범주형 데이터 시각화에 유리함  \n",
    "* Pclass 역시 생존에 중요한 영향을 끼치는 feature임을 확인"
   ]
  },
  {
   "cell_type": "markdown",
   "id": "e2bab137",
   "metadata": {
    "papermill": {
     "duration": 0.01438,
     "end_time": "2023-01-20T00:42:47.170415",
     "exception": false,
     "start_time": "2023-01-20T00:42:47.156035",
     "status": "completed"
    },
    "tags": []
   },
   "source": [
    "## **Feature 3: Age**"
   ]
  },
  {
   "cell_type": "code",
   "execution_count": 15,
   "id": "57e9964e",
   "metadata": {
    "execution": {
     "iopub.execute_input": "2023-01-20T00:42:47.201916Z",
     "iopub.status.busy": "2023-01-20T00:42:47.201243Z",
     "iopub.status.idle": "2023-01-20T00:42:47.208404Z",
     "shell.execute_reply": "2023-01-20T00:42:47.207370Z"
    },
    "papermill": {
     "duration": 0.024987,
     "end_time": "2023-01-20T00:42:47.210119",
     "exception": false,
     "start_time": "2023-01-20T00:42:47.185132",
     "status": "completed"
    },
    "tags": []
   },
   "outputs": [
    {
     "name": "stdout",
     "output_type": "stream",
     "text": [
      "Oldest Passenger was of: 80.0 Years\n",
      "Youngest Passenger was of: 0.42 Years\n",
      "Average Age on the ship: 29.7 Years\n"
     ]
    }
   ],
   "source": [
    "print('Oldest Passenger was of:',train_df['Age'].max(),'Years')\n",
    "print('Youngest Passenger was of:',train_df['Age'].min(),'Years')\n",
    "print('Average Age on the ship:',round(train_df['Age'].mean(),2),'Years')"
   ]
  },
  {
   "cell_type": "code",
   "execution_count": 16,
   "id": "2d439ee0",
   "metadata": {
    "execution": {
     "iopub.execute_input": "2023-01-20T00:42:47.241314Z",
     "iopub.status.busy": "2023-01-20T00:42:47.240756Z",
     "iopub.status.idle": "2023-01-20T00:42:47.625338Z",
     "shell.execute_reply": "2023-01-20T00:42:47.624166Z"
    },
    "papermill": {
     "duration": 0.402413,
     "end_time": "2023-01-20T00:42:47.627330",
     "exception": false,
     "start_time": "2023-01-20T00:42:47.224917",
     "status": "completed"
    },
    "tags": []
   },
   "outputs": [
    {
     "data": {
      "image/png": "[encoded data removed]",
      "text/plain": [
       "<Figure size 1296x576 with 2 Axes>"
      ]
     },
     "metadata": {
      "needs_background": "light"
     },
     "output_type": "display_data"
    }
   ],
   "source": [
    "f,ax=plt.subplots(1,2,figsize=(18,8))\n",
    "sns.violinplot(\"Pclass\",\"Age\", hue=\"Survived\", data=train_df,split=True,ax=ax[0])\n",
    "ax[0].set_title('Pclass and Age vs Survived')\n",
    "ax[0].set_yticks(range(0,110,10))\n",
    "sns.violinplot(\"Sex\",\"Age\", hue=\"Survived\", data=train_df,split=True,ax=ax[1])\n",
    "ax[1].set_title('Sex and Age vs Survived')\n",
    "ax[1].set_yticks(range(0,110,10))\n",
    "plt.show()"
   ]
  },
  {
   "cell_type": "markdown",
   "id": "55d67bfc",
   "metadata": {
    "papermill": {
     "duration": 0.015227,
     "end_time": "2023-01-20T00:42:47.658365",
     "exception": false,
     "start_time": "2023-01-20T00:42:47.643138",
     "status": "completed"
    },
    "tags": []
   },
   "source": [
    "*  Pclass가 높을수록 생존비율이 높아짐    \n",
    "*  여자는 생존비율이 높고 남자는 사망비율이 높음  \n",
    "*  남녀 모두 20~30대가 생존과 사망률이 비슷하게 분포"
   ]
  },
  {
   "cell_type": "markdown",
   "id": "774f5218",
   "metadata": {
    "papermill": {
     "duration": 0.015088,
     "end_time": "2023-01-20T00:42:47.689846",
     "exception": false,
     "start_time": "2023-01-20T00:42:47.674758",
     "status": "completed"
    },
    "tags": []
   },
   "source": [
    "### **Age 결측치 데이터 채우기**\n",
    "문제점: Age에는 177개의 Null Data가 있었음  \n",
    "해결책: 평균나이로 채우기"
   ]
  },
  {
   "cell_type": "code",
   "execution_count": 17,
   "id": "abcecdfa",
   "metadata": {
    "execution": {
     "iopub.execute_input": "2023-01-20T00:42:47.722264Z",
     "iopub.status.busy": "2023-01-20T00:42:47.721698Z",
     "iopub.status.idle": "2023-01-20T00:42:47.727208Z",
     "shell.execute_reply": "2023-01-20T00:42:47.726230Z"
    },
    "papermill": {
     "duration": 0.024666,
     "end_time": "2023-01-20T00:42:47.729700",
     "exception": false,
     "start_time": "2023-01-20T00:42:47.705034",
     "status": "completed"
    },
    "tags": []
   },
   "outputs": [],
   "source": [
    "train_df['Age'].fillna(train_df['Age'].mean(), inplace=True)"
   ]
  },
  {
   "cell_type": "markdown",
   "id": "d8c3a055",
   "metadata": {
    "papermill": {
     "duration": 0.015046,
     "end_time": "2023-01-20T00:42:47.760750",
     "exception": false,
     "start_time": "2023-01-20T00:42:47.745704",
     "status": "completed"
    },
    "tags": []
   },
   "source": [
    "## **Feature 4: Embarked**"
   ]
  },
  {
   "cell_type": "code",
   "execution_count": 18,
   "id": "adedbe76",
   "metadata": {
    "execution": {
     "iopub.execute_input": "2023-01-20T00:42:47.792768Z",
     "iopub.status.busy": "2023-01-20T00:42:47.792427Z",
     "iopub.status.idle": "2023-01-20T00:42:48.239933Z",
     "shell.execute_reply": "2023-01-20T00:42:48.238977Z"
    },
    "papermill": {
     "duration": 0.465563,
     "end_time": "2023-01-20T00:42:48.241747",
     "exception": false,
     "start_time": "2023-01-20T00:42:47.776184",
     "status": "completed"
    },
    "tags": []
   },
   "outputs": [
    {
     "data": {
      "image/png": "[encoded data removed]",
      "text/plain": [
       "<Figure size 1440x720 with 4 Axes>"
      ]
     },
     "metadata": {
      "needs_background": "light"
     },
     "output_type": "display_data"
    }
   ],
   "source": [
    "f,ax=plt.subplots(2,2,figsize=(20,10))\n",
    "\n",
    "train_df['Embarked'].value_counts().plot.bar(ax=ax[0,0])\n",
    "ax[0,0].set_title('fig 1: count of Embarked')\n",
    "\n",
    "sns.countplot('Embarked',hue='Survived',data=train_df,ax=ax[0,1])\n",
    "ax[0,1].set_title('fig 2: Embarked vs Survived')\n",
    "\n",
    "sns.countplot('Embarked',hue='Sex',data=train_df,ax=ax[1,0])\n",
    "ax[1,0].set_title('fig 3: Embarked vs Sex')\n",
    "\n",
    "sns.countplot('Embarked',hue='Pclass',data=train_df,ax=ax[1,1])\n",
    "ax[1,1].set_title('fig 4: Embarked vs Pclass')\n",
    "\n",
    "plt.subplots_adjust(wspace=0.2,hspace=0.5)\n",
    "\n",
    "plt.show()"
   ]
  },
  {
   "cell_type": "markdown",
   "id": "a7e916c9",
   "metadata": {
    "papermill": {
     "duration": 0.01539,
     "end_time": "2023-01-20T00:42:48.273007",
     "exception": false,
     "start_time": "2023-01-20T00:42:48.257617",
     "status": "completed"
    },
    "tags": []
   },
   "source": [
    "* S, C, Q 중 S가 매우 높은 비중을 차지\n",
    "* Sex와 Survived 모두 S,C,Q에서 유사한 비율을 차지함"
   ]
  },
  {
   "cell_type": "markdown",
   "id": "af780550",
   "metadata": {
    "papermill": {
     "duration": 0.015254,
     "end_time": "2023-01-20T00:42:48.304000",
     "exception": false,
     "start_time": "2023-01-20T00:42:48.288746",
     "status": "completed"
    },
    "tags": []
   },
   "source": [
    "### **Embarked 결측치 채우기**\n",
    "2개밖에 없으므로 3/4 이상 차지하는 S로 채워줌"
   ]
  },
  {
   "cell_type": "code",
   "execution_count": 19,
   "id": "9a315ef9",
   "metadata": {
    "execution": {
     "iopub.execute_input": "2023-01-20T00:42:48.336532Z",
     "iopub.status.busy": "2023-01-20T00:42:48.336164Z",
     "iopub.status.idle": "2023-01-20T00:42:48.343579Z",
     "shell.execute_reply": "2023-01-20T00:42:48.342704Z"
    },
    "papermill": {
     "duration": 0.025711,
     "end_time": "2023-01-20T00:42:48.345203",
     "exception": false,
     "start_time": "2023-01-20T00:42:48.319492",
     "status": "completed"
    },
    "tags": []
   },
   "outputs": [
    {
     "data": {
      "text/plain": [
       "False"
      ]
     },
     "execution_count": 19,
     "metadata": {},
     "output_type": "execute_result"
    }
   ],
   "source": [
    "train_df['Embarked'].fillna('S', inplace=True)\n",
    "train_df.Embarked.isnull().any()"
   ]
  },
  {
   "cell_type": "markdown",
   "id": "07942b01",
   "metadata": {
    "papermill": {
     "duration": 0.015245,
     "end_time": "2023-01-20T00:42:48.376515",
     "exception": false,
     "start_time": "2023-01-20T00:42:48.361270",
     "status": "completed"
    },
    "tags": []
   },
   "source": [
    "## **Feature 5: SibSp**"
   ]
  },
  {
   "cell_type": "code",
   "execution_count": 20,
   "id": "248c9343",
   "metadata": {
    "execution": {
     "iopub.execute_input": "2023-01-20T00:42:48.410293Z",
     "iopub.status.busy": "2023-01-20T00:42:48.409927Z",
     "iopub.status.idle": "2023-01-20T00:42:48.447404Z",
     "shell.execute_reply": "2023-01-20T00:42:48.446603Z"
    },
    "papermill": {
     "duration": 0.056432,
     "end_time": "2023-01-20T00:42:48.449295",
     "exception": false,
     "start_time": "2023-01-20T00:42:48.392863",
     "status": "completed"
    },
    "tags": []
   },
   "outputs": [
    {
     "data": {
      "text/html": [
       "<style type=\"text/css\">\n",
       "#T_0883a_row0_col0 {\n",
       "  background-color: #1077b4;\n",
       "  color: #f1f1f1;\n",
       "}\n",
       "#T_0883a_row0_col1 {\n",
       "  background-color: #3b92c1;\n",
       "  color: #f1f1f1;\n",
       "}\n",
       "#T_0883a_row0_col2 {\n",
       "  background-color: #2081b9;\n",
       "  color: #f1f1f1;\n",
       "}\n",
       "#T_0883a_row1_col0 {\n",
       "  background-color: #e2dfee;\n",
       "  color: #000000;\n",
       "}\n",
       "#T_0883a_row1_col1 {\n",
       "  background-color: #b7c5df;\n",
       "  color: #000000;\n",
       "}\n",
       "#T_0883a_row1_col2 {\n",
       "  background-color: #d5d5e8;\n",
       "  color: #000000;\n",
       "}\n",
       "#T_0883a_row2_col0, #T_0883a_row3_col0, #T_0883a_row3_col2, #T_0883a_row4_col0, #T_0883a_row4_col2 {\n",
       "  background-color: #fdf5fa;\n",
       "  color: #000000;\n",
       "}\n",
       "#T_0883a_row2_col1 {\n",
       "  background-color: #faf2f8;\n",
       "  color: #000000;\n",
       "}\n",
       "#T_0883a_row2_col2 {\n",
       "  background-color: #fbf4f9;\n",
       "  color: #000000;\n",
       "}\n",
       "#T_0883a_row3_col1, #T_0883a_row4_col1 {\n",
       "  background-color: #fef6fa;\n",
       "  color: #000000;\n",
       "}\n",
       "#T_0883a_row5_col0, #T_0883a_row5_col1, #T_0883a_row5_col2, #T_0883a_row6_col0, #T_0883a_row6_col1, #T_0883a_row6_col2 {\n",
       "  background-color: #fff7fb;\n",
       "  color: #000000;\n",
       "}\n",
       "#T_0883a_row7_col0, #T_0883a_row7_col1, #T_0883a_row7_col2 {\n",
       "  background-color: #023858;\n",
       "  color: #f1f1f1;\n",
       "}\n",
       "</style>\n",
       "<table id=\"T_0883a_\">\n",
       "  <thead>\n",
       "    <tr>\n",
       "      <th class=\"index_name level0\" >Survived</th>\n",
       "      <th class=\"col_heading level0 col0\" >0</th>\n",
       "      <th class=\"col_heading level0 col1\" >1</th>\n",
       "      <th class=\"col_heading level0 col2\" >All</th>\n",
       "    </tr>\n",
       "    <tr>\n",
       "      <th class=\"index_name level0\" >SibSp</th>\n",
       "      <th class=\"blank col0\" >&nbsp;</th>\n",
       "      <th class=\"blank col1\" >&nbsp;</th>\n",
       "      <th class=\"blank col2\" >&nbsp;</th>\n",
       "    </tr>\n",
       "  </thead>\n",
       "  <tbody>\n",
       "    <tr>\n",
       "      <th id=\"T_0883a_level0_row0\" class=\"row_heading level0 row0\" >0</th>\n",
       "      <td id=\"T_0883a_row0_col0\" class=\"data row0 col0\" >398</td>\n",
       "      <td id=\"T_0883a_row0_col1\" class=\"data row0 col1\" >210</td>\n",
       "      <td id=\"T_0883a_row0_col2\" class=\"data row0 col2\" >608</td>\n",
       "    </tr>\n",
       "    <tr>\n",
       "      <th id=\"T_0883a_level0_row1\" class=\"row_heading level0 row1\" >1</th>\n",
       "      <td id=\"T_0883a_row1_col0\" class=\"data row1 col0\" >97</td>\n",
       "      <td id=\"T_0883a_row1_col1\" class=\"data row1 col1\" >112</td>\n",
       "      <td id=\"T_0883a_row1_col2\" class=\"data row1 col2\" >209</td>\n",
       "    </tr>\n",
       "    <tr>\n",
       "      <th id=\"T_0883a_level0_row2\" class=\"row_heading level0 row2\" >2</th>\n",
       "      <td id=\"T_0883a_row2_col0\" class=\"data row2 col0\" >15</td>\n",
       "      <td id=\"T_0883a_row2_col1\" class=\"data row2 col1\" >13</td>\n",
       "      <td id=\"T_0883a_row2_col2\" class=\"data row2 col2\" >28</td>\n",
       "    </tr>\n",
       "    <tr>\n",
       "      <th id=\"T_0883a_level0_row3\" class=\"row_heading level0 row3\" >3</th>\n",
       "      <td id=\"T_0883a_row3_col0\" class=\"data row3 col0\" >12</td>\n",
       "      <td id=\"T_0883a_row3_col1\" class=\"data row3 col1\" >4</td>\n",
       "      <td id=\"T_0883a_row3_col2\" class=\"data row3 col2\" >16</td>\n",
       "    </tr>\n",
       "    <tr>\n",
       "      <th id=\"T_0883a_level0_row4\" class=\"row_heading level0 row4\" >4</th>\n",
       "      <td id=\"T_0883a_row4_col0\" class=\"data row4 col0\" >15</td>\n",
       "      <td id=\"T_0883a_row4_col1\" class=\"data row4 col1\" >3</td>\n",
       "      <td id=\"T_0883a_row4_col2\" class=\"data row4 col2\" >18</td>\n",
       "    </tr>\n",
       "    <tr>\n",
       "      <th id=\"T_0883a_level0_row5\" class=\"row_heading level0 row5\" >5</th>\n",
       "      <td id=\"T_0883a_row5_col0\" class=\"data row5 col0\" >5</td>\n",
       "      <td id=\"T_0883a_row5_col1\" class=\"data row5 col1\" >0</td>\n",
       "      <td id=\"T_0883a_row5_col2\" class=\"data row5 col2\" >5</td>\n",
       "    </tr>\n",
       "    <tr>\n",
       "      <th id=\"T_0883a_level0_row6\" class=\"row_heading level0 row6\" >8</th>\n",
       "      <td id=\"T_0883a_row6_col0\" class=\"data row6 col0\" >7</td>\n",
       "      <td id=\"T_0883a_row6_col1\" class=\"data row6 col1\" >0</td>\n",
       "      <td id=\"T_0883a_row6_col2\" class=\"data row6 col2\" >7</td>\n",
       "    </tr>\n",
       "    <tr>\n",
       "      <th id=\"T_0883a_level0_row7\" class=\"row_heading level0 row7\" >All</th>\n",
       "      <td id=\"T_0883a_row7_col0\" class=\"data row7 col0\" >549</td>\n",
       "      <td id=\"T_0883a_row7_col1\" class=\"data row7 col1\" >342</td>\n",
       "      <td id=\"T_0883a_row7_col2\" class=\"data row7 col2\" >891</td>\n",
       "    </tr>\n",
       "  </tbody>\n",
       "</table>\n"
      ],
      "text/plain": [
       "<pandas.io.formats.style.Styler at 0x7fce9ea84710>"
      ]
     },
     "execution_count": 20,
     "metadata": {},
     "output_type": "execute_result"
    }
   ],
   "source": [
    "pd.crosstab([train_df.SibSp],train_df.Survived, margins=True).style.background_gradient()"
   ]
  },
  {
   "cell_type": "code",
   "execution_count": 21,
   "id": "68069ac8",
   "metadata": {
    "execution": {
     "iopub.execute_input": "2023-01-20T00:42:48.484887Z",
     "iopub.status.busy": "2023-01-20T00:42:48.484538Z",
     "iopub.status.idle": "2023-01-20T00:42:49.062928Z",
     "shell.execute_reply": "2023-01-20T00:42:49.061695Z"
    },
    "papermill": {
     "duration": 0.599646,
     "end_time": "2023-01-20T00:42:49.065427",
     "exception": false,
     "start_time": "2023-01-20T00:42:48.465781",
     "status": "completed"
    },
    "tags": []
   },
   "outputs": [
    {
     "data": {
      "image/png": "[encoded data removed]",
      "text/plain": [
       "<Figure size 1296x576 with 2 Axes>"
      ]
     },
     "metadata": {
      "needs_background": "light"
     },
     "output_type": "display_data"
    }
   ],
   "source": [
    "f,ax=plt.subplots(1,2,figsize=(18,8))\n",
    "train_df['SibSp'].value_counts().plot.bar(ax=ax[0])\n",
    "ax[0].set_title('fig 1')\n",
    "ax[0].set_ylabel('Count')\n",
    "sns.barplot('SibSp','Survived',data=train_df,ax=ax[1])\n",
    "ax[1].set_title('fig 2')\n",
    "plt.show()"
   ]
  },
  {
   "cell_type": "markdown",
   "id": "478bf9c8",
   "metadata": {
    "papermill": {
     "duration": 0.016389,
     "end_time": "2023-01-20T00:42:49.098728",
     "exception": false,
     "start_time": "2023-01-20T00:42:49.082339",
     "status": "completed"
    },
    "tags": []
   },
   "source": [
    "*  SibSp가 0명인 승객이 67%이고 1명인 승객이 23%로 둘이 약 90%를 차지함\n",
    "*  형제, 자매가 1~2명 있는 경우 0명인 사람보다 높은 생존률을 보임"
   ]
  },
  {
   "cell_type": "markdown",
   "id": "e3f33f31",
   "metadata": {
    "papermill": {
     "duration": 0.016786,
     "end_time": "2023-01-20T00:42:49.132238",
     "exception": false,
     "start_time": "2023-01-20T00:42:49.115452",
     "status": "completed"
    },
    "tags": []
   },
   "source": [
    "## **Feature 6: Parch**"
   ]
  },
  {
   "cell_type": "code",
   "execution_count": 22,
   "id": "0a162e95",
   "metadata": {
    "execution": {
     "iopub.execute_input": "2023-01-20T00:42:49.167376Z",
     "iopub.status.busy": "2023-01-20T00:42:49.166822Z",
     "iopub.status.idle": "2023-01-20T00:42:49.203366Z",
     "shell.execute_reply": "2023-01-20T00:42:49.202752Z"
    },
    "papermill": {
     "duration": 0.056512,
     "end_time": "2023-01-20T00:42:49.205134",
     "exception": false,
     "start_time": "2023-01-20T00:42:49.148622",
     "status": "completed"
    },
    "tags": []
   },
   "outputs": [
    {
     "data": {
      "text/html": [
       "<style type=\"text/css\">\n",
       "#T_564c1_row0_col0 {\n",
       "  background-color: #05659f;\n",
       "  color: #f1f1f1;\n",
       "}\n",
       "#T_564c1_row0_col1 {\n",
       "  background-color: #2081b9;\n",
       "  color: #f1f1f1;\n",
       "}\n",
       "#T_564c1_row0_col2 {\n",
       "  background-color: #056ead;\n",
       "  color: #f1f1f1;\n",
       "}\n",
       "#T_564c1_row1_col0 {\n",
       "  background-color: #f1ebf4;\n",
       "  color: #000000;\n",
       "}\n",
       "#T_564c1_row1_col1 {\n",
       "  background-color: #dedcec;\n",
       "  color: #000000;\n",
       "}\n",
       "#T_564c1_row1_col2 {\n",
       "  background-color: #ebe6f2;\n",
       "  color: #000000;\n",
       "}\n",
       "#T_564c1_row2_col0 {\n",
       "  background-color: #f4eef6;\n",
       "  color: #000000;\n",
       "}\n",
       "#T_564c1_row2_col1 {\n",
       "  background-color: #eee8f3;\n",
       "  color: #000000;\n",
       "}\n",
       "#T_564c1_row2_col2 {\n",
       "  background-color: #f2ecf5;\n",
       "  color: #000000;\n",
       "}\n",
       "#T_564c1_row3_col0, #T_564c1_row4_col1, #T_564c1_row4_col2, #T_564c1_row5_col1, #T_564c1_row6_col0, #T_564c1_row6_col1, #T_564c1_row6_col2 {\n",
       "  background-color: #fff7fb;\n",
       "  color: #000000;\n",
       "}\n",
       "#T_564c1_row3_col1 {\n",
       "  background-color: #fef6fa;\n",
       "  color: #000000;\n",
       "}\n",
       "#T_564c1_row3_col2, #T_564c1_row4_col0, #T_564c1_row5_col0, #T_564c1_row5_col2 {\n",
       "  background-color: #fef6fb;\n",
       "  color: #000000;\n",
       "}\n",
       "#T_564c1_row7_col0, #T_564c1_row7_col1, #T_564c1_row7_col2 {\n",
       "  background-color: #023858;\n",
       "  color: #f1f1f1;\n",
       "}\n",
       "</style>\n",
       "<table id=\"T_564c1_\">\n",
       "  <thead>\n",
       "    <tr>\n",
       "      <th class=\"index_name level0\" >Survived</th>\n",
       "      <th class=\"col_heading level0 col0\" >0</th>\n",
       "      <th class=\"col_heading level0 col1\" >1</th>\n",
       "      <th class=\"col_heading level0 col2\" >All</th>\n",
       "    </tr>\n",
       "    <tr>\n",
       "      <th class=\"index_name level0\" >Parch</th>\n",
       "      <th class=\"blank col0\" >&nbsp;</th>\n",
       "      <th class=\"blank col1\" >&nbsp;</th>\n",
       "      <th class=\"blank col2\" >&nbsp;</th>\n",
       "    </tr>\n",
       "  </thead>\n",
       "  <tbody>\n",
       "    <tr>\n",
       "      <th id=\"T_564c1_level0_row0\" class=\"row_heading level0 row0\" >0</th>\n",
       "      <td id=\"T_564c1_row0_col0\" class=\"data row0 col0\" >445</td>\n",
       "      <td id=\"T_564c1_row0_col1\" class=\"data row0 col1\" >233</td>\n",
       "      <td id=\"T_564c1_row0_col2\" class=\"data row0 col2\" >678</td>\n",
       "    </tr>\n",
       "    <tr>\n",
       "      <th id=\"T_564c1_level0_row1\" class=\"row_heading level0 row1\" >1</th>\n",
       "      <td id=\"T_564c1_row1_col0\" class=\"data row1 col0\" >53</td>\n",
       "      <td id=\"T_564c1_row1_col1\" class=\"data row1 col1\" >65</td>\n",
       "      <td id=\"T_564c1_row1_col2\" class=\"data row1 col2\" >118</td>\n",
       "    </tr>\n",
       "    <tr>\n",
       "      <th id=\"T_564c1_level0_row2\" class=\"row_heading level0 row2\" >2</th>\n",
       "      <td id=\"T_564c1_row2_col0\" class=\"data row2 col0\" >40</td>\n",
       "      <td id=\"T_564c1_row2_col1\" class=\"data row2 col1\" >40</td>\n",
       "      <td id=\"T_564c1_row2_col2\" class=\"data row2 col2\" >80</td>\n",
       "    </tr>\n",
       "    <tr>\n",
       "      <th id=\"T_564c1_level0_row3\" class=\"row_heading level0 row3\" >3</th>\n",
       "      <td id=\"T_564c1_row3_col0\" class=\"data row3 col0\" >2</td>\n",
       "      <td id=\"T_564c1_row3_col1\" class=\"data row3 col1\" >3</td>\n",
       "      <td id=\"T_564c1_row3_col2\" class=\"data row3 col2\" >5</td>\n",
       "    </tr>\n",
       "    <tr>\n",
       "      <th id=\"T_564c1_level0_row4\" class=\"row_heading level0 row4\" >4</th>\n",
       "      <td id=\"T_564c1_row4_col0\" class=\"data row4 col0\" >4</td>\n",
       "      <td id=\"T_564c1_row4_col1\" class=\"data row4 col1\" >0</td>\n",
       "      <td id=\"T_564c1_row4_col2\" class=\"data row4 col2\" >4</td>\n",
       "    </tr>\n",
       "    <tr>\n",
       "      <th id=\"T_564c1_level0_row5\" class=\"row_heading level0 row5\" >5</th>\n",
       "      <td id=\"T_564c1_row5_col0\" class=\"data row5 col0\" >4</td>\n",
       "      <td id=\"T_564c1_row5_col1\" class=\"data row5 col1\" >1</td>\n",
       "      <td id=\"T_564c1_row5_col2\" class=\"data row5 col2\" >5</td>\n",
       "    </tr>\n",
       "    <tr>\n",
       "      <th id=\"T_564c1_level0_row6\" class=\"row_heading level0 row6\" >6</th>\n",
       "      <td id=\"T_564c1_row6_col0\" class=\"data row6 col0\" >1</td>\n",
       "      <td id=\"T_564c1_row6_col1\" class=\"data row6 col1\" >0</td>\n",
       "      <td id=\"T_564c1_row6_col2\" class=\"data row6 col2\" >1</td>\n",
       "    </tr>\n",
       "    <tr>\n",
       "      <th id=\"T_564c1_level0_row7\" class=\"row_heading level0 row7\" >All</th>\n",
       "      <td id=\"T_564c1_row7_col0\" class=\"data row7 col0\" >549</td>\n",
       "      <td id=\"T_564c1_row7_col1\" class=\"data row7 col1\" >342</td>\n",
       "      <td id=\"T_564c1_row7_col2\" class=\"data row7 col2\" >891</td>\n",
       "    </tr>\n",
       "  </tbody>\n",
       "</table>\n"
      ],
      "text/plain": [
       "<pandas.io.formats.style.Styler at 0x7fce94e7a150>"
      ]
     },
     "execution_count": 22,
     "metadata": {},
     "output_type": "execute_result"
    }
   ],
   "source": [
    "pd.crosstab([train_df.Parch],train_df.Survived, margins=True).style.background_gradient()"
   ]
  },
  {
   "cell_type": "code",
   "execution_count": 23,
   "id": "f7a4a84c",
   "metadata": {
    "execution": {
     "iopub.execute_input": "2023-01-20T00:42:49.242393Z",
     "iopub.status.busy": "2023-01-20T00:42:49.241855Z",
     "iopub.status.idle": "2023-01-20T00:42:49.618290Z",
     "shell.execute_reply": "2023-01-20T00:42:49.617436Z"
    },
    "papermill": {
     "duration": 0.397789,
     "end_time": "2023-01-20T00:42:49.620148",
     "exception": false,
     "start_time": "2023-01-20T00:42:49.222359",
     "status": "completed"
    },
    "tags": []
   },
   "outputs": [
    {
     "data": {
      "image/png": "[encoded data removed]",
      "text/plain": [
       "<Figure size 1296x576 with 2 Axes>"
      ]
     },
     "metadata": {
      "needs_background": "light"
     },
     "output_type": "display_data"
    }
   ],
   "source": [
    "f,ax=plt.subplots(1,2,figsize=(18,8))\n",
    "train_df['Parch'].value_counts().plot.bar(ax=ax[0])\n",
    "ax[0].set_title('fig 1')\n",
    "ax[0].set_ylabel('Count')\n",
    "sns.barplot('Parch','Survived',data=train_df,ax=ax[1])\n",
    "ax[1].set_title('fig 2')\n",
    "plt.show()"
   ]
  },
  {
   "cell_type": "markdown",
   "id": "10918c6b",
   "metadata": {
    "papermill": {
     "duration": 0.016476,
     "end_time": "2023-01-20T00:42:49.653544",
     "exception": false,
     "start_time": "2023-01-20T00:42:49.637068",
     "status": "completed"
    },
    "tags": []
   },
   "source": [
    "* Parch 역시 0과 1 값이 주를 이루고 있음\n",
    "* Parch 역시 SibSp과 마찬가지로 1명이상인 경우가 0명보다 생존률이 높음 "
   ]
  },
  {
   "cell_type": "markdown",
   "id": "91dccffd",
   "metadata": {
    "papermill": {
     "duration": 0.016572,
     "end_time": "2023-01-20T00:42:49.686776",
     "exception": false,
     "start_time": "2023-01-20T00:42:49.670204",
     "status": "completed"
    },
    "tags": []
   },
   "source": [
    "## **Feature 7: Fare (Continous Feature)**"
   ]
  },
  {
   "cell_type": "code",
   "execution_count": 24,
   "id": "967c1430",
   "metadata": {
    "execution": {
     "iopub.execute_input": "2023-01-20T00:42:49.722190Z",
     "iopub.status.busy": "2023-01-20T00:42:49.721324Z",
     "iopub.status.idle": "2023-01-20T00:42:49.727181Z",
     "shell.execute_reply": "2023-01-20T00:42:49.726244Z"
    },
    "papermill": {
     "duration": 0.025715,
     "end_time": "2023-01-20T00:42:49.728826",
     "exception": false,
     "start_time": "2023-01-20T00:42:49.703111",
     "status": "completed"
    },
    "tags": []
   },
   "outputs": [
    {
     "name": "stdout",
     "output_type": "stream",
     "text": [
      "Min Fare : 0.0\n",
      "Max Fare : 512.3292\n",
      "Average Fare : 32.2\n"
     ]
    }
   ],
   "source": [
    "print(\"Min Fare :\", train_df['Fare'].min())\n",
    "print(\"Max Fare :\", train_df['Fare'].max())\n",
    "print(\"Average Fare :\", round(train_df['Fare'].mean(),2))"
   ]
  },
  {
   "cell_type": "code",
   "execution_count": 25,
   "id": "0befefa1",
   "metadata": {
    "execution": {
     "iopub.execute_input": "2023-01-20T00:42:49.763733Z",
     "iopub.status.busy": "2023-01-20T00:42:49.762853Z",
     "iopub.status.idle": "2023-01-20T00:42:50.229854Z",
     "shell.execute_reply": "2023-01-20T00:42:50.228873Z"
    },
    "papermill": {
     "duration": 0.486605,
     "end_time": "2023-01-20T00:42:50.231819",
     "exception": false,
     "start_time": "2023-01-20T00:42:49.745214",
     "status": "completed"
    },
    "tags": []
   },
   "outputs": [
    {
     "data": {
      "image/png": "[encoded data removed]",
      "text/plain": [
       "<Figure size 1440x576 with 3 Axes>"
      ]
     },
     "metadata": {
      "needs_background": "light"
     },
     "output_type": "display_data"
    }
   ],
   "source": [
    "f,ax=plt.subplots(1,3,figsize=(20,8))\n",
    "sns.distplot(train_df[train_df['Pclass']==1].Fare,ax=ax[0])\n",
    "ax[0].set_title('Fares in Pclass 1')\n",
    "sns.distplot(train_df[train_df['Pclass']==2].Fare,ax=ax[1])\n",
    "ax[1].set_title('Fares in Pclass 2')\n",
    "sns.distplot(train_df[train_df['Pclass']==3].Fare,ax=ax[2])\n",
    "ax[2].set_title('Fares in Pclass 3')\n",
    "plt.show()"
   ]
  },
  {
   "cell_type": "markdown",
   "id": "20025874",
   "metadata": {
    "papermill": {
     "duration": 0.017105,
     "end_time": "2023-01-20T00:42:50.266579",
     "exception": false,
     "start_time": "2023-01-20T00:42:50.249474",
     "status": "completed"
    },
    "tags": []
   },
   "source": [
    "# **Feature Result** "
   ]
  },
  {
   "cell_type": "markdown",
   "id": "2d7e1b7a",
   "metadata": {
    "papermill": {
     "duration": 0.016835,
     "end_time": "2023-01-20T00:42:50.300419",
     "exception": false,
     "start_time": "2023-01-20T00:42:50.283584",
     "status": "completed"
    },
    "tags": []
   },
   "source": [
    "* **Sex**: 여성이 남성보다 생존률이 높음\n",
    "* **Pclass**: 좋은 등석일수록 생존률이 높음\n",
    "* **Age**: 어린아이(age<=5)가 생존률이 높고, 14~25세가 가장 많이 사망함\n",
    "* **Embarked**: 'S'가 가장 많고 그 안에서 Pclass가 1<2<3등석 인원순으로 분포함 \n",
    "* **Fare**: Pclass의 1,2,3등석에 따라 요금도 그에 상응하는 결과를 보임\n",
    "* **SibSp,Parch**: 둘 모두 0명보다 1~3명정도 존재할 때 생존률이 높음"
   ]
  },
  {
   "cell_type": "code",
   "execution_count": 26,
   "id": "b7ad75b4",
   "metadata": {
    "execution": {
     "iopub.execute_input": "2023-01-20T00:42:50.337999Z",
     "iopub.status.busy": "2023-01-20T00:42:50.337659Z",
     "iopub.status.idle": "2023-01-20T00:42:50.702111Z",
     "shell.execute_reply": "2023-01-20T00:42:50.701488Z"
    },
    "papermill": {
     "duration": 0.384998,
     "end_time": "2023-01-20T00:42:50.703829",
     "exception": false,
     "start_time": "2023-01-20T00:42:50.318831",
     "status": "completed"
    },
    "tags": []
   },
   "outputs": [
    {
     "data": {
      "image/png": "[encoded data removed]",
      "text/plain": [
       "<Figure size 1440x720 with 2 Axes>"
      ]
     },
     "metadata": {
      "needs_background": "light"
     },
     "output_type": "display_data"
    }
   ],
   "source": [
    "sns.heatmap(train_df.corr(), annot=True, cmap='RdYlGn', linewidths=0.2)\n",
    "fig=plt.gcf()\n",
    "fig.set_size_inches(20,10)\n",
    "plt.show()"
   ]
  },
  {
   "cell_type": "markdown",
   "id": "d4241379",
   "metadata": {
    "papermill": {
     "duration": 0.017899,
     "end_time": "2023-01-20T00:42:50.740271",
     "exception": false,
     "start_time": "2023-01-20T00:42:50.722372",
     "status": "completed"
    },
    "tags": []
   },
   "source": [
    "*  SibSp와 Parch는 상관계수가 높음을 알 수 있음\n",
    "*  상관계수가 매우 높은 두 feature면 둘 중 하나만 선택하는 것도 방법"
   ]
  },
  {
   "cell_type": "markdown",
   "id": "1701e6b5",
   "metadata": {
    "papermill": {
     "duration": 0.017744,
     "end_time": "2023-01-20T00:42:50.776150",
     "exception": false,
     "start_time": "2023-01-20T00:42:50.758406",
     "status": "completed"
    },
    "tags": []
   },
   "source": [
    "# **데이터 전처리**"
   ]
  },
  {
   "cell_type": "code",
   "execution_count": 27,
   "id": "e824d0da",
   "metadata": {
    "execution": {
     "iopub.execute_input": "2023-01-20T00:42:50.814388Z",
     "iopub.status.busy": "2023-01-20T00:42:50.813876Z",
     "iopub.status.idle": "2023-01-20T00:42:50.819996Z",
     "shell.execute_reply": "2023-01-20T00:42:50.819401Z"
    },
    "papermill": {
     "duration": 0.027431,
     "end_time": "2023-01-20T00:42:50.821573",
     "exception": false,
     "start_time": "2023-01-20T00:42:50.794142",
     "status": "completed"
    },
    "tags": []
   },
   "outputs": [],
   "source": [
    "# 불필요한 특성 제거\n",
    "def drop(df):\n",
    "    df.drop(['PassengerId', 'Name', 'Ticket', 'Cabin'], axis=1, inplace=True)\n",
    "    return df\n",
    "\n",
    "# 문자형을 숫자로 변환 \n",
    "def encode(df):\n",
    "    df['Sex'].replace(['male','female'],[0,1],inplace=True)\n",
    "    df['Embarked'].replace(['S','C','Q'],[0,1,2],inplace=True)\n",
    "    return df\n",
    "\n",
    "# 결측치 채우기\n",
    "def fillna(df):\n",
    "    df['Age'].fillna(df['Age'].mean(), inplace=True)\n",
    "    df['Embarked'].fillna('S', inplace=True)\n",
    "    df['Fare'].fillna(df['Fare'].mean(), inplace=True)\n",
    "    return df\n",
    "\n"
   ]
  },
  {
   "cell_type": "code",
   "execution_count": 28,
   "id": "8a1e58ab",
   "metadata": {
    "execution": {
     "iopub.execute_input": "2023-01-20T00:42:50.862206Z",
     "iopub.status.busy": "2023-01-20T00:42:50.861701Z",
     "iopub.status.idle": "2023-01-20T00:42:50.876102Z",
     "shell.execute_reply": "2023-01-20T00:42:50.875501Z"
    },
    "papermill": {
     "duration": 0.03626,
     "end_time": "2023-01-20T00:42:50.877859",
     "exception": false,
     "start_time": "2023-01-20T00:42:50.841599",
     "status": "completed"
    },
    "tags": []
   },
   "outputs": [
    {
     "data": {
      "text/html": [
       "<div>\n",
       "<style scoped>\n",
       "    .dataframe tbody tr th:only-of-type {\n",
       "        vertical-align: middle;\n",
       "    }\n",
       "\n",
       "    .dataframe tbody tr th {\n",
       "        vertical-align: top;\n",
       "    }\n",
       "\n",
       "    .dataframe thead th {\n",
       "        text-align: right;\n",
       "    }\n",
       "</style>\n",
       "<table border=\"1\" class=\"dataframe\">\n",
       "  <thead>\n",
       "    <tr style=\"text-align: right;\">\n",
       "      <th></th>\n",
       "      <th>Pclass</th>\n",
       "      <th>Sex</th>\n",
       "      <th>Age</th>\n",
       "      <th>SibSp</th>\n",
       "      <th>Parch</th>\n",
       "      <th>Fare</th>\n",
       "      <th>Embarked</th>\n",
       "    </tr>\n",
       "  </thead>\n",
       "  <tbody>\n",
       "    <tr>\n",
       "      <th>0</th>\n",
       "      <td>3</td>\n",
       "      <td>0</td>\n",
       "      <td>22.0</td>\n",
       "      <td>1</td>\n",
       "      <td>0</td>\n",
       "      <td>7.2500</td>\n",
       "      <td>0</td>\n",
       "    </tr>\n",
       "    <tr>\n",
       "      <th>1</th>\n",
       "      <td>1</td>\n",
       "      <td>1</td>\n",
       "      <td>38.0</td>\n",
       "      <td>1</td>\n",
       "      <td>0</td>\n",
       "      <td>71.2833</td>\n",
       "      <td>1</td>\n",
       "    </tr>\n",
       "    <tr>\n",
       "      <th>2</th>\n",
       "      <td>3</td>\n",
       "      <td>1</td>\n",
       "      <td>26.0</td>\n",
       "      <td>0</td>\n",
       "      <td>0</td>\n",
       "      <td>7.9250</td>\n",
       "      <td>0</td>\n",
       "    </tr>\n",
       "    <tr>\n",
       "      <th>3</th>\n",
       "      <td>1</td>\n",
       "      <td>1</td>\n",
       "      <td>35.0</td>\n",
       "      <td>1</td>\n",
       "      <td>0</td>\n",
       "      <td>53.1000</td>\n",
       "      <td>0</td>\n",
       "    </tr>\n",
       "    <tr>\n",
       "      <th>4</th>\n",
       "      <td>3</td>\n",
       "      <td>0</td>\n",
       "      <td>35.0</td>\n",
       "      <td>0</td>\n",
       "      <td>0</td>\n",
       "      <td>8.0500</td>\n",
       "      <td>0</td>\n",
       "    </tr>\n",
       "  </tbody>\n",
       "</table>\n",
       "</div>"
      ],
      "text/plain": [
       "   Pclass  Sex   Age  SibSp  Parch     Fare  Embarked\n",
       "0       3    0  22.0      1      0   7.2500         0\n",
       "1       1    1  38.0      1      0  71.2833         1\n",
       "2       3    1  26.0      0      0   7.9250         0\n",
       "3       1    1  35.0      1      0  53.1000         0\n",
       "4       3    0  35.0      0      0   8.0500         0"
      ]
     },
     "execution_count": 28,
     "metadata": {},
     "output_type": "execute_result"
    }
   ],
   "source": [
    "y_titanic=train_df['Survived']\n",
    "X_titanic=train_df.drop('Survived', axis=1)\n",
    "drop(X_titanic)\n",
    "encode(X_titanic)\n",
    "fillna(X_titanic)\n",
    "X_titanic.head()\n"
   ]
  },
  {
   "cell_type": "code",
   "execution_count": 29,
   "id": "03c15c4c",
   "metadata": {
    "execution": {
     "iopub.execute_input": "2023-01-20T00:42:50.917357Z",
     "iopub.status.busy": "2023-01-20T00:42:50.916690Z",
     "iopub.status.idle": "2023-01-20T00:42:51.093939Z",
     "shell.execute_reply": "2023-01-20T00:42:51.092981Z"
    },
    "papermill": {
     "duration": 0.199357,
     "end_time": "2023-01-20T00:42:51.096144",
     "exception": false,
     "start_time": "2023-01-20T00:42:50.896787",
     "status": "completed"
    },
    "tags": []
   },
   "outputs": [],
   "source": [
    "from sklearn.model_selection import train_test_split\n",
    "X_train, X_test, y_train, y_test=train_test_split(X_titanic, y_titanic, test_size=0.2)"
   ]
  },
  {
   "cell_type": "code",
   "execution_count": 30,
   "id": "ce5b6dfb",
   "metadata": {
    "execution": {
     "iopub.execute_input": "2023-01-20T00:42:51.135291Z",
     "iopub.status.busy": "2023-01-20T00:42:51.134956Z",
     "iopub.status.idle": "2023-01-20T00:42:51.307022Z",
     "shell.execute_reply": "2023-01-20T00:42:51.306126Z"
    },
    "papermill": {
     "duration": 0.194691,
     "end_time": "2023-01-20T00:42:51.309379",
     "exception": false,
     "start_time": "2023-01-20T00:42:51.114688",
     "status": "completed"
    },
    "tags": []
   },
   "outputs": [],
   "source": [
    "from sklearn.linear_model import LogisticRegression\n",
    "from sklearn.ensemble import RandomForestClassifier\n",
    "from sklearn.tree import DecisionTreeClassifier\n",
    "from sklearn.metrics import accuracy_score\n",
    "from sklearn.model_selection import GridSearchCV"
   ]
  },
  {
   "cell_type": "markdown",
   "id": "acce124d",
   "metadata": {
    "papermill": {
     "duration": 0.018275,
     "end_time": "2023-01-20T00:42:51.346407",
     "exception": false,
     "start_time": "2023-01-20T00:42:51.328132",
     "status": "completed"
    },
    "tags": []
   },
   "source": [
    "# **이진분류 수행(최적화 X)**"
   ]
  },
  {
   "cell_type": "markdown",
   "id": "4d9d88dc",
   "metadata": {},
   "source": [
    "## 1. LogisticRegression"
   ]
  },
  {
   "cell_type": "code",
   "execution_count": 31,
   "id": "72bded97",
   "metadata": {
    "execution": {
     "iopub.execute_input": "2023-01-20T00:42:51.384571Z",
     "iopub.status.busy": "2023-01-20T00:42:51.384176Z",
     "iopub.status.idle": "2023-01-20T00:42:51.416102Z",
     "shell.execute_reply": "2023-01-20T00:42:51.414847Z"
    },
    "papermill": {
     "duration": 0.05353,
     "end_time": "2023-01-20T00:42:51.418356",
     "exception": false,
     "start_time": "2023-01-20T00:42:51.364826",
     "status": "completed"
    },
    "tags": []
   },
   "outputs": [
    {
     "name": "stdout",
     "output_type": "stream",
     "text": [
      "Train_scores:  0.7991573033707865\n",
      "Test_scores:  0.8100558659217877\n"
     ]
    }
   ],
   "source": [
    "# 로지스틱 회귀\n",
    "lr=LogisticRegression()\n",
    "lr.fit(X_train, y_train)\n",
    "print(\"Train_scores: \", lr.score(X_train, y_train))\n",
    "print(\"Test_scores: \", lr.score(X_test, y_test))"
   ]
  },
  {
   "cell_type": "markdown",
   "id": "95b5fc3e",
   "metadata": {},
   "source": [
    "## 2. Decision Tree"
   ]
  },
  {
   "cell_type": "code",
   "execution_count": 32,
   "id": "ec901857",
   "metadata": {
    "execution": {
     "iopub.execute_input": "2023-01-20T00:42:51.457004Z",
     "iopub.status.busy": "2023-01-20T00:42:51.456506Z",
     "iopub.status.idle": "2023-01-20T00:42:51.469030Z",
     "shell.execute_reply": "2023-01-20T00:42:51.467583Z"
    },
    "papermill": {
     "duration": 0.034096,
     "end_time": "2023-01-20T00:42:51.471157",
     "exception": false,
     "start_time": "2023-01-20T00:42:51.437061",
     "status": "completed"
    },
    "tags": []
   },
   "outputs": [
    {
     "name": "stdout",
     "output_type": "stream",
     "text": [
      "Train_scores:  0.9873595505617978\n",
      "Test_scores:  0.8100558659217877\n",
      "[0.08031099 0.30287655 0.26773392 0.04918991 0.03042921 0.26136169\n",
      " 0.00809773]\n"
     ]
    }
   ],
   "source": [
    "# 결정트리\n",
    "dt=DecisionTreeClassifier(random_state=10)\n",
    "dt.fit(X_train, y_train)\n",
    "print(\"Train_scores: \", dt.score(X_train, y_train))\n",
    "print(\"Test_scores: \", dt.score(X_test, y_test))\n",
    "print(dt.feature_importances_)"
   ]
  },
  {
   "cell_type": "markdown",
   "id": "0eb825d3",
   "metadata": {},
   "source": [
    "## 3. Random Forest"
   ]
  },
  {
   "cell_type": "code",
   "execution_count": 33,
   "id": "4185cc66",
   "metadata": {
    "execution": {
     "iopub.execute_input": "2023-01-20T00:42:51.509595Z",
     "iopub.status.busy": "2023-01-20T00:42:51.509177Z",
     "iopub.status.idle": "2023-01-20T00:42:51.694819Z",
     "shell.execute_reply": "2023-01-20T00:42:51.693635Z"
    },
    "papermill": {
     "duration": 0.207711,
     "end_time": "2023-01-20T00:42:51.697448",
     "exception": false,
     "start_time": "2023-01-20T00:42:51.489737",
     "status": "completed"
    },
    "tags": []
   },
   "outputs": [
    {
     "name": "stdout",
     "output_type": "stream",
     "text": [
      "Train_scores:  0.9873595505617978\n",
      "Test_scores:  0.8379888268156425\n",
      "[0.08031099 0.30287655 0.26773392 0.04918991 0.03042921 0.26136169\n",
      " 0.00809773]\n"
     ]
    }
   ],
   "source": [
    "rf=RandomForestClassifier(random_state=10)\n",
    "rf.fit(X_train, y_train)\n",
    "print(\"Train_scores: \", rf.score(X_train, y_train))\n",
    "print(\"Test_scores: \", rf.score(X_test, y_test))\n",
    "print(dt.feature_importances_)"
   ]
  },
  {
   "cell_type": "markdown",
   "id": "47dda022",
   "metadata": {
    "papermill": {
     "duration": 0.01927,
     "end_time": "2023-01-20T00:42:51.736793",
     "exception": false,
     "start_time": "2023-01-20T00:42:51.717523",
     "status": "completed"
    },
    "tags": []
   },
   "source": [
    "# **GridSearch**"
   ]
  },
  {
   "cell_type": "markdown",
   "id": "f8cd0939",
   "metadata": {
    "papermill": {
     "duration": 0.018807,
     "end_time": "2023-01-20T00:42:51.774870",
     "exception": false,
     "start_time": "2023-01-20T00:42:51.756063",
     "status": "completed"
    },
    "tags": []
   },
   "source": [
    "## 1. Logistic Regression"
   ]
  },
  {
   "cell_type": "code",
   "execution_count": 34,
   "id": "6fa2272b",
   "metadata": {
    "execution": {
     "iopub.execute_input": "2023-01-20T00:42:51.814873Z",
     "iopub.status.busy": "2023-01-20T00:42:51.814310Z",
     "iopub.status.idle": "2023-01-20T00:42:54.795917Z",
     "shell.execute_reply": "2023-01-20T00:42:54.794936Z"
    },
    "papermill": {
     "duration": 3.00401,
     "end_time": "2023-01-20T00:42:54.798016",
     "exception": false,
     "start_time": "2023-01-20T00:42:51.794006",
     "status": "completed"
    },
    "tags": []
   },
   "outputs": [
    {
     "name": "stdout",
     "output_type": "stream",
     "text": [
      "0.7963557569191372\n",
      "LogisticRegression(C=8)\n"
     ]
    }
   ],
   "source": [
    "params={\n",
    "    \"C\":[2, 4, 6, 8, 10],\n",
    "    \"max_iter\":[100, 200, 300, 400, 500]\n",
    "}\n",
    "lr=LogisticRegression()\n",
    "lr_grid=GridSearchCV(lr, param_grid=params, cv=5)\n",
    "lr_grid.fit(X_train, y_train)\n",
    "print(lr_grid.best_score_)\n",
    "print(lr_grid.best_estimator_)"
   ]
  },
  {
   "cell_type": "markdown",
   "id": "72caafdf",
   "metadata": {
    "papermill": {
     "duration": 0.018644,
     "end_time": "2023-01-20T00:42:54.836226",
     "exception": false,
     "start_time": "2023-01-20T00:42:54.817582",
     "status": "completed"
    },
    "tags": []
   },
   "source": [
    "## 2. Random Forest"
   ]
  },
  {
   "cell_type": "code",
   "execution_count": 35,
   "id": "ec0f2cd9",
   "metadata": {
    "execution": {
     "iopub.execute_input": "2023-01-20T00:42:54.876102Z",
     "iopub.status.busy": "2023-01-20T00:42:54.875550Z",
     "iopub.status.idle": "2023-01-20T00:43:47.836056Z",
     "shell.execute_reply": "2023-01-20T00:43:47.834548Z"
    },
    "papermill": {
     "duration": 53.002101,
     "end_time": "2023-01-20T00:43:47.857478",
     "exception": false,
     "start_time": "2023-01-20T00:42:54.855377",
     "status": "completed"
    },
    "tags": []
   },
   "outputs": [
    {
     "name": "stdout",
     "output_type": "stream",
     "text": [
      "Fitting 5 folds for each of 96 candidates, totalling 480 fits\n",
      "0.8090318132571653\n",
      "RandomForestClassifier(bootstrap=False, max_features=3, min_samples_leaf=3,\n",
      "                       n_estimators=300, random_state=10)\n"
     ]
    }
   ],
   "source": [
    "params={\"max_depth\": [None],\n",
    "              \"max_features\": [1, 3, 5, 7],\n",
    "              \"min_samples_split\": [2, 3, 4, 5],\n",
    "              \"min_samples_leaf\": [1, 3, 5],\n",
    "              \"bootstrap\": [False],\n",
    "              \"n_estimators\" :[100,300],\n",
    "              \"criterion\": [\"gini\"]\n",
    "       }\n",
    "rf=RandomForestClassifier(random_state=10)\n",
    "gd=GridSearchCV(rf,param_grid=params,verbose=True, n_jobs=-1)\n",
    "gd.fit(X_train,y_train)\n",
    "print(gd.best_score_)\n",
    "print(gd.best_estimator_)"
   ]
  },
  {
   "cell_type": "code",
   "execution_count": 36,
   "id": "6420e3c3",
   "metadata": {
    "execution": {
     "iopub.execute_input": "2023-01-20T00:43:47.898371Z",
     "iopub.status.busy": "2023-01-20T00:43:47.897997Z",
     "iopub.status.idle": "2023-01-20T00:43:47.904486Z",
     "shell.execute_reply": "2023-01-20T00:43:47.903608Z"
    },
    "papermill": {
     "duration": 0.030172,
     "end_time": "2023-01-20T00:43:47.906243",
     "exception": false,
     "start_time": "2023-01-20T00:43:47.876071",
     "status": "completed"
    },
    "tags": []
   },
   "outputs": [
    {
     "data": {
      "text/plain": [
       "{'bootstrap': False,\n",
       " 'criterion': 'gini',\n",
       " 'max_depth': None,\n",
       " 'max_features': 3,\n",
       " 'min_samples_leaf': 3,\n",
       " 'min_samples_split': 2,\n",
       " 'n_estimators': 300}"
      ]
     },
     "execution_count": 36,
     "metadata": {},
     "output_type": "execute_result"
    }
   ],
   "source": [
    "gd.best_params_"
   ]
  },
  {
   "cell_type": "markdown",
   "id": "bc0cc662",
   "metadata": {
    "papermill": {
     "duration": 0.01807,
     "end_time": "2023-01-20T00:43:47.942668",
     "exception": false,
     "start_time": "2023-01-20T00:43:47.924598",
     "status": "completed"
    },
    "tags": []
   },
   "source": [
    "# **Testing**"
   ]
  },
  {
   "cell_type": "code",
   "execution_count": 37,
   "id": "1d5f4948",
   "metadata": {
    "execution": {
     "iopub.execute_input": "2023-01-20T00:43:47.981680Z",
     "iopub.status.busy": "2023-01-20T00:43:47.981289Z",
     "iopub.status.idle": "2023-01-20T00:43:47.995616Z",
     "shell.execute_reply": "2023-01-20T00:43:47.994745Z"
    },
    "papermill": {
     "duration": 0.036551,
     "end_time": "2023-01-20T00:43:47.997577",
     "exception": false,
     "start_time": "2023-01-20T00:43:47.961026",
     "status": "completed"
    },
    "tags": []
   },
   "outputs": [
    {
     "data": {
      "text/html": [
       "<div>\n",
       "<style scoped>\n",
       "    .dataframe tbody tr th:only-of-type {\n",
       "        vertical-align: middle;\n",
       "    }\n",
       "\n",
       "    .dataframe tbody tr th {\n",
       "        vertical-align: top;\n",
       "    }\n",
       "\n",
       "    .dataframe thead th {\n",
       "        text-align: right;\n",
       "    }\n",
       "</style>\n",
       "<table border=\"1\" class=\"dataframe\">\n",
       "  <thead>\n",
       "    <tr style=\"text-align: right;\">\n",
       "      <th></th>\n",
       "      <th>PassengerId</th>\n",
       "      <th>Pclass</th>\n",
       "      <th>Name</th>\n",
       "      <th>Sex</th>\n",
       "      <th>Age</th>\n",
       "      <th>SibSp</th>\n",
       "      <th>Parch</th>\n",
       "      <th>Ticket</th>\n",
       "      <th>Fare</th>\n",
       "      <th>Cabin</th>\n",
       "      <th>Embarked</th>\n",
       "    </tr>\n",
       "  </thead>\n",
       "  <tbody>\n",
       "    <tr>\n",
       "      <th>0</th>\n",
       "      <td>892</td>\n",
       "      <td>3</td>\n",
       "      <td>Kelly, Mr. James</td>\n",
       "      <td>male</td>\n",
       "      <td>34.5</td>\n",
       "      <td>0</td>\n",
       "      <td>0</td>\n",
       "      <td>330911</td>\n",
       "      <td>7.8292</td>\n",
       "      <td>NaN</td>\n",
       "      <td>Q</td>\n",
       "    </tr>\n",
       "    <tr>\n",
       "      <th>1</th>\n",
       "      <td>893</td>\n",
       "      <td>3</td>\n",
       "      <td>Wilkes, Mrs. James (Ellen Needs)</td>\n",
       "      <td>female</td>\n",
       "      <td>47.0</td>\n",
       "      <td>1</td>\n",
       "      <td>0</td>\n",
       "      <td>363272</td>\n",
       "      <td>7.0000</td>\n",
       "      <td>NaN</td>\n",
       "      <td>S</td>\n",
       "    </tr>\n",
       "    <tr>\n",
       "      <th>2</th>\n",
       "      <td>894</td>\n",
       "      <td>2</td>\n",
       "      <td>Myles, Mr. Thomas Francis</td>\n",
       "      <td>male</td>\n",
       "      <td>62.0</td>\n",
       "      <td>0</td>\n",
       "      <td>0</td>\n",
       "      <td>240276</td>\n",
       "      <td>9.6875</td>\n",
       "      <td>NaN</td>\n",
       "      <td>Q</td>\n",
       "    </tr>\n",
       "    <tr>\n",
       "      <th>3</th>\n",
       "      <td>895</td>\n",
       "      <td>3</td>\n",
       "      <td>Wirz, Mr. Albert</td>\n",
       "      <td>male</td>\n",
       "      <td>27.0</td>\n",
       "      <td>0</td>\n",
       "      <td>0</td>\n",
       "      <td>315154</td>\n",
       "      <td>8.6625</td>\n",
       "      <td>NaN</td>\n",
       "      <td>S</td>\n",
       "    </tr>\n",
       "    <tr>\n",
       "      <th>4</th>\n",
       "      <td>896</td>\n",
       "      <td>3</td>\n",
       "      <td>Hirvonen, Mrs. Alexander (Helga E Lindqvist)</td>\n",
       "      <td>female</td>\n",
       "      <td>22.0</td>\n",
       "      <td>1</td>\n",
       "      <td>1</td>\n",
       "      <td>3101298</td>\n",
       "      <td>12.2875</td>\n",
       "      <td>NaN</td>\n",
       "      <td>S</td>\n",
       "    </tr>\n",
       "  </tbody>\n",
       "</table>\n",
       "</div>"
      ],
      "text/plain": [
       "   PassengerId  Pclass                                          Name     Sex  \\\n",
       "0          892       3                              Kelly, Mr. James    male   \n",
       "1          893       3              Wilkes, Mrs. James (Ellen Needs)  female   \n",
       "2          894       2                     Myles, Mr. Thomas Francis    male   \n",
       "3          895       3                              Wirz, Mr. Albert    male   \n",
       "4          896       3  Hirvonen, Mrs. Alexander (Helga E Lindqvist)  female   \n",
       "\n",
       "    Age  SibSp  Parch   Ticket     Fare Cabin Embarked  \n",
       "0  34.5      0      0   330911   7.8292   NaN        Q  \n",
       "1  47.0      1      0   363272   7.0000   NaN        S  \n",
       "2  62.0      0      0   240276   9.6875   NaN        Q  \n",
       "3  27.0      0      0   315154   8.6625   NaN        S  \n",
       "4  22.0      1      1  3101298  12.2875   NaN        S  "
      ]
     },
     "execution_count": 37,
     "metadata": {},
     "output_type": "execute_result"
    }
   ],
   "source": [
    "test_df.head()"
   ]
  },
  {
   "cell_type": "code",
   "execution_count": 38,
   "id": "176a3a92",
   "metadata": {
    "execution": {
     "iopub.execute_input": "2023-01-20T00:43:48.037950Z",
     "iopub.status.busy": "2023-01-20T00:43:48.037386Z",
     "iopub.status.idle": "2023-01-20T00:43:48.050540Z",
     "shell.execute_reply": "2023-01-20T00:43:48.049163Z"
    },
    "papermill": {
     "duration": 0.035598,
     "end_time": "2023-01-20T00:43:48.052746",
     "exception": false,
     "start_time": "2023-01-20T00:43:48.017148",
     "status": "completed"
    },
    "tags": []
   },
   "outputs": [
    {
     "name": "stdout",
     "output_type": "stream",
     "text": [
      "   Pclass  Sex   Age  SibSp  Parch     Fare  Embarked\n",
      "0       3    0  34.5      0      0   7.8292         2\n",
      "1       3    1  47.0      1      0   7.0000         0\n",
      "2       2    0  62.0      0      0   9.6875         2\n",
      "3       3    0  27.0      0      0   8.6625         0\n",
      "4       3    1  22.0      1      1  12.2875         0\n"
     ]
    }
   ],
   "source": [
    "ID=test_df['PassengerId']\n",
    "drop(test_df)\n",
    "encode(test_df)\n",
    "fillna(test_df)\n",
    "print(test_df.head())"
   ]
  },
  {
   "cell_type": "code",
   "execution_count": 39,
   "id": "7f9455cb",
   "metadata": {
    "execution": {
     "iopub.execute_input": "2023-01-20T00:43:48.094377Z",
     "iopub.status.busy": "2023-01-20T00:43:48.094074Z",
     "iopub.status.idle": "2023-01-20T00:43:48.130951Z",
     "shell.execute_reply": "2023-01-20T00:43:48.129736Z"
    },
    "papermill": {
     "duration": 0.059721,
     "end_time": "2023-01-20T00:43:48.132770",
     "exception": false,
     "start_time": "2023-01-20T00:43:48.073049",
     "status": "completed"
    },
    "tags": []
   },
   "outputs": [
    {
     "name": "stdout",
     "output_type": "stream",
     "text": [
      "Train_scores:  0.797752808988764\n",
      "Test_scores:  0.8100558659217877\n"
     ]
    }
   ],
   "source": [
    "lr=LogisticRegression(C=2, max_iter=200)\n",
    "lr.fit(X_train, y_train)\n",
    "print(\"Train_scores: \", lr.score(X_train, y_train))\n",
    "print(\"Test_scores: \", lr.score(X_test, y_test))"
   ]
  },
  {
   "cell_type": "code",
   "execution_count": 40,
   "id": "85a285d1",
   "metadata": {
    "execution": {
     "iopub.execute_input": "2023-01-20T00:43:48.172402Z",
     "iopub.status.busy": "2023-01-20T00:43:48.171974Z",
     "iopub.status.idle": "2023-01-20T00:43:48.665430Z",
     "shell.execute_reply": "2023-01-20T00:43:48.664290Z"
    },
    "papermill": {
     "duration": 0.515333,
     "end_time": "2023-01-20T00:43:48.667163",
     "exception": false,
     "start_time": "2023-01-20T00:43:48.151830",
     "status": "completed"
    },
    "tags": []
   },
   "outputs": [
    {
     "name": "stdout",
     "output_type": "stream",
     "text": [
      "Train_scores:  0.8918539325842697\n",
      "Test_scores:  0.8435754189944135\n"
     ]
    }
   ],
   "source": [
    "rf=RandomForestClassifier(\n",
    "       bootstrap=False,\n",
    "       criterion='gini',\n",
    "       max_depth=None,\n",
    "       max_features=3,\n",
    "       min_samples_leaf=5,\n",
    "       min_samples_split=2,\n",
    "       n_estimators=300,\n",
    "       random_state=10\n",
    ")\n",
    "rf.fit(X_train, y_train)\n",
    "print(\"Train_scores: \", rf.score(X_train, y_train))\n",
    "print(\"Test_scores: \", rf.score(X_test, y_test))"
   ]
  },
  {
   "cell_type": "code",
   "execution_count": 41,
   "id": "7614b0aa",
   "metadata": {
    "execution": {
     "iopub.execute_input": "2023-01-20T00:43:48.705848Z",
     "iopub.status.busy": "2023-01-20T00:43:48.705535Z",
     "iopub.status.idle": "2023-01-20T00:43:48.760349Z",
     "shell.execute_reply": "2023-01-20T00:43:48.759309Z"
    },
    "papermill": {
     "duration": 0.076555,
     "end_time": "2023-01-20T00:43:48.762429",
     "exception": false,
     "start_time": "2023-01-20T00:43:48.685874",
     "status": "completed"
    },
    "tags": []
   },
   "outputs": [
    {
     "data": {
      "text/plain": [
       "(418, 2)"
      ]
     },
     "execution_count": 41,
     "metadata": {},
     "output_type": "execute_result"
    }
   ],
   "source": [
    "result = pd.DataFrame({ 'PassengerId': ID, 'Survived': rf.predict(test_df) })\n",
    "result.to_csv(\"titanic_RandomForest.csv\", index=False)\n",
    "result.head(10)\n",
    "result.shape"
   ]
  }
 ],
 "metadata": {
  "kernelspec": {
   "display_name": "Python 3 (ipykernel)",
   "language": "python",
   "name": "python3"
  },
  "language_info": {
   "codemirror_mode": {
    "name": "ipython",
    "version": 3
   },
   "file_extension": ".py",
   "mimetype": "text/x-python",
   "name": "python",
   "nbconvert_exporter": "python",
   "pygments_lexer": "ipython3",
   "version": "3.9.13"
  },
  "papermill": {
   "default_parameters": {},
   "duration": 74.955219,
   "end_time": "2023-01-20T00:43:51.402799",
   "environment_variables": {},
   "exception": null,
   "input_path": "__notebook__.ipynb",
   "output_path": "__notebook__.ipynb",
   "parameters": {},
   "start_time": "2023-01-20T00:42:36.447580",
   "version": "2.3.4"
  }
 },
 "nbformat": 4,
 "nbformat_minor": 5
}
