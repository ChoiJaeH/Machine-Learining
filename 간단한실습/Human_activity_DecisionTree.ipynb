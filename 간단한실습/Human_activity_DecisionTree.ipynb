{
 "cells": [
  {
   "cell_type": "markdown",
   "id": "ba7380ac",
   "metadata": {},
   "source": [
    "## Import "
   ]
  },
  {
   "cell_type": "code",
   "execution_count": 12,
   "id": "5e8f959a",
   "metadata": {},
   "outputs": [],
   "source": [
    "import numpy as np\n",
    "import pandas as pd\n",
    "import seaborn as sns\n",
    "import matplotlib.pyplot as plt\n",
    "%matplotlib inline"
   ]
  },
  {
   "cell_type": "markdown",
   "id": "5aa04e96",
   "metadata": {},
   "source": [
    "## 데이터 둘러보기"
   ]
  },
  {
   "cell_type": "code",
   "execution_count": 23,
   "id": "a9606bac",
   "metadata": {},
   "outputs": [
    {
     "name": "stdout",
     "output_type": "stream",
     "text": [
      "(561, 2)\n"
     ]
    },
    {
     "data": {
      "text/html": [
       "<div>\n",
       "<style scoped>\n",
       "    .dataframe tbody tr th:only-of-type {\n",
       "        vertical-align: middle;\n",
       "    }\n",
       "\n",
       "    .dataframe tbody tr th {\n",
       "        vertical-align: top;\n",
       "    }\n",
       "\n",
       "    .dataframe thead th {\n",
       "        text-align: right;\n",
       "    }\n",
       "</style>\n",
       "<table border=\"1\" class=\"dataframe\">\n",
       "  <thead>\n",
       "    <tr style=\"text-align: right;\">\n",
       "      <th></th>\n",
       "      <th>column_idx</th>\n",
       "      <th>column_name</th>\n",
       "    </tr>\n",
       "  </thead>\n",
       "  <tbody>\n",
       "    <tr>\n",
       "      <th>0</th>\n",
       "      <td>1</td>\n",
       "      <td>tBodyAcc-mean()-X</td>\n",
       "    </tr>\n",
       "    <tr>\n",
       "      <th>1</th>\n",
       "      <td>2</td>\n",
       "      <td>tBodyAcc-mean()-Y</td>\n",
       "    </tr>\n",
       "    <tr>\n",
       "      <th>2</th>\n",
       "      <td>3</td>\n",
       "      <td>tBodyAcc-mean()-Z</td>\n",
       "    </tr>\n",
       "    <tr>\n",
       "      <th>3</th>\n",
       "      <td>4</td>\n",
       "      <td>tBodyAcc-std()-X</td>\n",
       "    </tr>\n",
       "    <tr>\n",
       "      <th>4</th>\n",
       "      <td>5</td>\n",
       "      <td>tBodyAcc-std()-Y</td>\n",
       "    </tr>\n",
       "    <tr>\n",
       "      <th>5</th>\n",
       "      <td>6</td>\n",
       "      <td>tBodyAcc-std()-Z</td>\n",
       "    </tr>\n",
       "    <tr>\n",
       "      <th>6</th>\n",
       "      <td>7</td>\n",
       "      <td>tBodyAcc-mad()-X</td>\n",
       "    </tr>\n",
       "    <tr>\n",
       "      <th>7</th>\n",
       "      <td>8</td>\n",
       "      <td>tBodyAcc-mad()-Y</td>\n",
       "    </tr>\n",
       "    <tr>\n",
       "      <th>8</th>\n",
       "      <td>9</td>\n",
       "      <td>tBodyAcc-mad()-Z</td>\n",
       "    </tr>\n",
       "    <tr>\n",
       "      <th>9</th>\n",
       "      <td>10</td>\n",
       "      <td>tBodyAcc-max()-X</td>\n",
       "    </tr>\n",
       "  </tbody>\n",
       "</table>\n",
       "</div>"
      ],
      "text/plain": [
       "   column_idx        column_name\n",
       "0           1  tBodyAcc-mean()-X\n",
       "1           2  tBodyAcc-mean()-Y\n",
       "2           3  tBodyAcc-mean()-Z\n",
       "3           4   tBodyAcc-std()-X\n",
       "4           5   tBodyAcc-std()-Y\n",
       "5           6   tBodyAcc-std()-Z\n",
       "6           7   tBodyAcc-mad()-X\n",
       "7           8   tBodyAcc-mad()-Y\n",
       "8           9   tBodyAcc-mad()-Z\n",
       "9          10   tBodyAcc-max()-X"
      ]
     },
     "execution_count": 23,
     "metadata": {},
     "output_type": "execute_result"
    }
   ],
   "source": [
    "feature_name_df=pd.read_csv('./human_activity/human_activity/features.txt', sep='\\s+', \n",
    "                           header=None, names=['column_idx', 'column_name'])\n",
    "print(feature_name_df.shape)\n",
    "feature_name_df.head(10)"
   ]
  },
  {
   "cell_type": "code",
   "execution_count": 21,
   "id": "ea391a3f",
   "metadata": {
    "scrolled": true
   },
   "outputs": [
    {
     "data": {
      "text/plain": [
       "(477,)"
      ]
     },
     "execution_count": 21,
     "metadata": {},
     "output_type": "execute_result"
    }
   ],
   "source": [
    "feature_name_df['column_name'].unique().shape"
   ]
  },
  {
   "cell_type": "markdown",
   "id": "4c8debab",
   "metadata": {},
   "source": [
    "#### 칼럼개수가 477개인걸 보아 중복된 칼럼제거가 안되어있음을 알 수 있다"
   ]
  },
  {
   "cell_type": "code",
   "execution_count": 17,
   "id": "361d891d",
   "metadata": {},
   "outputs": [
    {
     "data": {
      "text/html": [
       "<div>\n",
       "<style scoped>\n",
       "    .dataframe tbody tr th:only-of-type {\n",
       "        vertical-align: middle;\n",
       "    }\n",
       "\n",
       "    .dataframe tbody tr th {\n",
       "        vertical-align: top;\n",
       "    }\n",
       "\n",
       "    .dataframe thead th {\n",
       "        text-align: right;\n",
       "    }\n",
       "</style>\n",
       "<table border=\"1\" class=\"dataframe\">\n",
       "  <thead>\n",
       "    <tr style=\"text-align: right;\">\n",
       "      <th></th>\n",
       "      <th>column_idx</th>\n",
       "    </tr>\n",
       "    <tr>\n",
       "      <th>column_name</th>\n",
       "      <th></th>\n",
       "    </tr>\n",
       "  </thead>\n",
       "  <tbody>\n",
       "    <tr>\n",
       "      <th>angle(X,gravityMean)</th>\n",
       "      <td>1</td>\n",
       "    </tr>\n",
       "    <tr>\n",
       "      <th>angle(Y,gravityMean)</th>\n",
       "      <td>1</td>\n",
       "    </tr>\n",
       "    <tr>\n",
       "      <th>angle(Z,gravityMean)</th>\n",
       "      <td>1</td>\n",
       "    </tr>\n",
       "    <tr>\n",
       "      <th>angle(tBodyAccJerkMean),gravityMean)</th>\n",
       "      <td>1</td>\n",
       "    </tr>\n",
       "    <tr>\n",
       "      <th>angle(tBodyAccMean,gravity)</th>\n",
       "      <td>1</td>\n",
       "    </tr>\n",
       "    <tr>\n",
       "      <th>...</th>\n",
       "      <td>...</td>\n",
       "    </tr>\n",
       "    <tr>\n",
       "      <th>tGravityAccMag-max()</th>\n",
       "      <td>1</td>\n",
       "    </tr>\n",
       "    <tr>\n",
       "      <th>tGravityAccMag-mean()</th>\n",
       "      <td>1</td>\n",
       "    </tr>\n",
       "    <tr>\n",
       "      <th>tGravityAccMag-min()</th>\n",
       "      <td>1</td>\n",
       "    </tr>\n",
       "    <tr>\n",
       "      <th>tGravityAccMag-sma()</th>\n",
       "      <td>1</td>\n",
       "    </tr>\n",
       "    <tr>\n",
       "      <th>tGravityAccMag-std()</th>\n",
       "      <td>1</td>\n",
       "    </tr>\n",
       "  </tbody>\n",
       "</table>\n",
       "<p>477 rows × 1 columns</p>\n",
       "</div>"
      ],
      "text/plain": [
       "                                      column_idx\n",
       "column_name                                     \n",
       "angle(X,gravityMean)                           1\n",
       "angle(Y,gravityMean)                           1\n",
       "angle(Z,gravityMean)                           1\n",
       "angle(tBodyAccJerkMean),gravityMean)           1\n",
       "angle(tBodyAccMean,gravity)                    1\n",
       "...                                          ...\n",
       "tGravityAccMag-max()                           1\n",
       "tGravityAccMag-mean()                          1\n",
       "tGravityAccMag-min()                           1\n",
       "tGravityAccMag-sma()                           1\n",
       "tGravityAccMag-std()                           1\n",
       "\n",
       "[477 rows x 1 columns]"
      ]
     },
     "execution_count": 17,
     "metadata": {},
     "output_type": "execute_result"
    }
   ],
   "source": [
    "feature_dup_df=feature_name_df.groupby('column_name').count()\n",
    "feature_dup_df"
   ]
  },
  {
   "cell_type": "code",
   "execution_count": 20,
   "id": "0db1868f",
   "metadata": {},
   "outputs": [
    {
     "name": "stdout",
     "output_type": "stream",
     "text": [
      "column_idx    42\n",
      "dtype: int64\n"
     ]
    },
    {
     "data": {
      "text/html": [
       "<div>\n",
       "<style scoped>\n",
       "    .dataframe tbody tr th:only-of-type {\n",
       "        vertical-align: middle;\n",
       "    }\n",
       "\n",
       "    .dataframe tbody tr th {\n",
       "        vertical-align: top;\n",
       "    }\n",
       "\n",
       "    .dataframe thead th {\n",
       "        text-align: right;\n",
       "    }\n",
       "</style>\n",
       "<table border=\"1\" class=\"dataframe\">\n",
       "  <thead>\n",
       "    <tr style=\"text-align: right;\">\n",
       "      <th></th>\n",
       "      <th>column_idx</th>\n",
       "    </tr>\n",
       "    <tr>\n",
       "      <th>column_name</th>\n",
       "      <th></th>\n",
       "    </tr>\n",
       "  </thead>\n",
       "  <tbody>\n",
       "    <tr>\n",
       "      <th>fBodyAcc-bandsEnergy()-1,16</th>\n",
       "      <td>3</td>\n",
       "    </tr>\n",
       "    <tr>\n",
       "      <th>fBodyAcc-bandsEnergy()-1,24</th>\n",
       "      <td>3</td>\n",
       "    </tr>\n",
       "    <tr>\n",
       "      <th>fBodyAcc-bandsEnergy()-1,8</th>\n",
       "      <td>3</td>\n",
       "    </tr>\n",
       "    <tr>\n",
       "      <th>fBodyAcc-bandsEnergy()-17,24</th>\n",
       "      <td>3</td>\n",
       "    </tr>\n",
       "    <tr>\n",
       "      <th>fBodyAcc-bandsEnergy()-17,32</th>\n",
       "      <td>3</td>\n",
       "    </tr>\n",
       "    <tr>\n",
       "      <th>fBodyAcc-bandsEnergy()-25,32</th>\n",
       "      <td>3</td>\n",
       "    </tr>\n",
       "    <tr>\n",
       "      <th>fBodyAcc-bandsEnergy()-25,48</th>\n",
       "      <td>3</td>\n",
       "    </tr>\n",
       "    <tr>\n",
       "      <th>fBodyAcc-bandsEnergy()-33,40</th>\n",
       "      <td>3</td>\n",
       "    </tr>\n",
       "    <tr>\n",
       "      <th>fBodyAcc-bandsEnergy()-33,48</th>\n",
       "      <td>3</td>\n",
       "    </tr>\n",
       "    <tr>\n",
       "      <th>fBodyAcc-bandsEnergy()-41,48</th>\n",
       "      <td>3</td>\n",
       "    </tr>\n",
       "  </tbody>\n",
       "</table>\n",
       "</div>"
      ],
      "text/plain": [
       "                              column_idx\n",
       "column_name                             \n",
       "fBodyAcc-bandsEnergy()-1,16            3\n",
       "fBodyAcc-bandsEnergy()-1,24            3\n",
       "fBodyAcc-bandsEnergy()-1,8             3\n",
       "fBodyAcc-bandsEnergy()-17,24           3\n",
       "fBodyAcc-bandsEnergy()-17,32           3\n",
       "fBodyAcc-bandsEnergy()-25,32           3\n",
       "fBodyAcc-bandsEnergy()-25,48           3\n",
       "fBodyAcc-bandsEnergy()-33,40           3\n",
       "fBodyAcc-bandsEnergy()-33,48           3\n",
       "fBodyAcc-bandsEnergy()-41,48           3"
      ]
     },
     "execution_count": 20,
     "metadata": {},
     "output_type": "execute_result"
    }
   ],
   "source": [
    "# 중복 칼럼 체크\n",
    "tmp_df=feature_dup_df[feature_dup_df['column_idx']>1]\n",
    "print(tmp_df.count())\n",
    "tmp_df.head(10)"
   ]
  },
  {
   "cell_type": "code",
   "execution_count": 24,
   "id": "e2264e40",
   "metadata": {},
   "outputs": [],
   "source": [
    "def new_df(old_df):\n",
    "    feature_dup_df = pd.DataFrame(data=old_df.groupby('column_name').cumcount(),\n",
    "                                 columns=['dup_cnt'])\n",
    "    feature_dup_df = feature_dup_df.reset_index()\n",
    "    new_df = pd.merge(old_df.reset_index(), feature_dup_df, how='outer')\n",
    "    new_df['column_name'] = new_df[['column_name', 'dup_cnt']].apply(\n",
    "        lambda x: x[0]+'_'+str(x[1]) if x[1] > 0 else x[0], axis=1)\n",
    "    new_df = new_df.drop(['index'], axis=1)\n",
    "    return new_df "
   ]
  },
  {
   "cell_type": "markdown",
   "id": "6e958bc3",
   "metadata": {},
   "source": [
    "## 데이터셋 가져오기"
   ]
  },
  {
   "cell_type": "code",
   "execution_count": 26,
   "id": "14ba6e64",
   "metadata": {},
   "outputs": [],
   "source": [
    "path='./human_activity/human_activity/'\n",
    "feature_name_df=pd.read_csv(path+'features.txt', sep='\\s+', \n",
    "                           header=None, names=['column_idx', 'column_name'])\n",
    "feature_name_df=new_df(feature_name_df)\n",
    "feature_name=feature_name_df.iloc[:,1].values.tolist()\n",
    "X_train = pd.read_csv(path+'train/X_train.txt', sep='\\s+', names=feature_name)\n",
    "X_test = pd.read_csv(path+'test/X_test.txt', sep='\\s+', names=feature_name)   \n",
    "y_train = pd.read_csv(path+'train/y_train.txt', sep='\\s+', header=None, names=['action'])\n",
    "y_test = pd.read_csv(path+'test/y_test.txt', sep='\\s+', header=None, names=['action'])"
   ]
  },
  {
   "cell_type": "code",
   "execution_count": 29,
   "id": "f64b95a3",
   "metadata": {},
   "outputs": [
    {
     "data": {
      "text/plain": [
       "((7352, 561), (2947, 561))"
      ]
     },
     "execution_count": 29,
     "metadata": {},
     "output_type": "execute_result"
    }
   ],
   "source": [
    "X_train.shape, X_test.shape"
   ]
  },
  {
   "cell_type": "code",
   "execution_count": 50,
   "id": "e63abbf5",
   "metadata": {},
   "outputs": [
    {
     "data": {
      "text/plain": [
       "array([5, 4, 6, 1, 3, 2], dtype=int64)"
      ]
     },
     "execution_count": 50,
     "metadata": {},
     "output_type": "execute_result"
    }
   ],
   "source": [
    "y_train['action'].unique()"
   ]
  },
  {
   "cell_type": "code",
   "execution_count": 34,
   "id": "a31a6985",
   "metadata": {},
   "outputs": [
    {
     "name": "stdout",
     "output_type": "stream",
     "text": [
      "6    0.191376\n",
      "5    0.186888\n",
      "4    0.174918\n",
      "1    0.166757\n",
      "2    0.145947\n",
      "3    0.134113\n",
      "Name: action, dtype: float64\n"
     ]
    }
   ],
   "source": [
    "print(y_train['action'].value_counts()/y_train.shape[0]) # target의 분포상태 좋음"
   ]
  },
  {
   "cell_type": "markdown",
   "id": "e48a3685",
   "metadata": {},
   "source": [
    "## DecisionTree로 훈련하고 평가하기"
   ]
  },
  {
   "cell_type": "code",
   "execution_count": 35,
   "id": "a2def786",
   "metadata": {},
   "outputs": [
    {
     "name": "stdout",
     "output_type": "stream",
     "text": [
      "기본 결정트리 예측도:  0.8622327790973872\n"
     ]
    }
   ],
   "source": [
    "from sklearn.tree import DecisionTreeClassifier\n",
    "dt_clf=DecisionTreeClassifier(random_state=42)\n",
    "dt_clf.fit(X_train, y_train)\n",
    "print(\"기본 결정트리 예측도: \", dt_clf.score(X_test, y_test))"
   ]
  },
  {
   "cell_type": "markdown",
   "id": "ecf25dfd",
   "metadata": {},
   "source": [
    "## GridSearch"
   ]
  },
  {
   "cell_type": "code",
   "execution_count": 36,
   "id": "3e667887",
   "metadata": {},
   "outputs": [
    {
     "name": "stdout",
     "output_type": "stream",
     "text": [
      "최고 정확도:  0.8506627450436326\n",
      "최적 파라미터:  {'max_depth': 10, 'min_samples_split': 16}\n"
     ]
    }
   ],
   "source": [
    "from sklearn.model_selection import GridSearchCV\n",
    "params={'max_depth':[6,8,10,12,16,20,24], \n",
    "        'min_samples_split':[16]}\n",
    "grid=GridSearchCV(dt_clf, param_grid=params, scoring='accuracy', cv=5)\n",
    "grid.fit(X_train, y_train)\n",
    "print(\"최고 정확도: \", grid.best_score_)\n",
    "print(\"최적 파라미터: \", grid.best_params_)"
   ]
  },
  {
   "cell_type": "code",
   "execution_count": 38,
   "id": "17b47acf",
   "metadata": {},
   "outputs": [
    {
     "data": {
      "text/html": [
       "<div>\n",
       "<style scoped>\n",
       "    .dataframe tbody tr th:only-of-type {\n",
       "        vertical-align: middle;\n",
       "    }\n",
       "\n",
       "    .dataframe tbody tr th {\n",
       "        vertical-align: top;\n",
       "    }\n",
       "\n",
       "    .dataframe thead th {\n",
       "        text-align: right;\n",
       "    }\n",
       "</style>\n",
       "<table border=\"1\" class=\"dataframe\">\n",
       "  <thead>\n",
       "    <tr style=\"text-align: right;\">\n",
       "      <th></th>\n",
       "      <th>param_max_depth</th>\n",
       "      <th>mean_test_score</th>\n",
       "    </tr>\n",
       "  </thead>\n",
       "  <tbody>\n",
       "    <tr>\n",
       "      <th>0</th>\n",
       "      <td>6</td>\n",
       "      <td>0.844398</td>\n",
       "    </tr>\n",
       "    <tr>\n",
       "      <th>1</th>\n",
       "      <td>8</td>\n",
       "      <td>0.849710</td>\n",
       "    </tr>\n",
       "    <tr>\n",
       "      <th>2</th>\n",
       "      <td>10</td>\n",
       "      <td>0.850663</td>\n",
       "    </tr>\n",
       "    <tr>\n",
       "      <th>3</th>\n",
       "      <td>12</td>\n",
       "      <td>0.841551</td>\n",
       "    </tr>\n",
       "    <tr>\n",
       "      <th>4</th>\n",
       "      <td>16</td>\n",
       "      <td>0.847944</td>\n",
       "    </tr>\n",
       "    <tr>\n",
       "      <th>5</th>\n",
       "      <td>20</td>\n",
       "      <td>0.847672</td>\n",
       "    </tr>\n",
       "    <tr>\n",
       "      <th>6</th>\n",
       "      <td>24</td>\n",
       "      <td>0.847672</td>\n",
       "    </tr>\n",
       "  </tbody>\n",
       "</table>\n",
       "</div>"
      ],
      "text/plain": [
       "  param_max_depth  mean_test_score\n",
       "0               6         0.844398\n",
       "1               8         0.849710\n",
       "2              10         0.850663\n",
       "3              12         0.841551\n",
       "4              16         0.847944\n",
       "5              20         0.847672\n",
       "6              24         0.847672"
      ]
     },
     "execution_count": 38,
     "metadata": {},
     "output_type": "execute_result"
    }
   ],
   "source": [
    "cv_ret_df=pd.DataFrame(grid.cv_results_)\n",
    "cv_ret_df[['param_max_depth', 'mean_test_score']]"
   ]
  },
  {
   "cell_type": "markdown",
   "id": "b6d06934",
   "metadata": {},
   "source": [
    "## 테스트 데이터로 평가해보기"
   ]
  },
  {
   "cell_type": "code",
   "execution_count": 39,
   "id": "a014e015",
   "metadata": {},
   "outputs": [
    {
     "name": "stdout",
     "output_type": "stream",
     "text": [
      "max_depth:6, 정확도:0.8548 \n",
      "max_depth:8, 정확도:0.8711 \n",
      "max_depth:10, 정확도:0.8677 \n",
      "max_depth:12, 정확도:0.8616 \n",
      "max_depth:16, 정확도:0.8619 \n",
      "max_depth:20, 정확도:0.8626 \n",
      "max_depth:24, 정확도:0.8626 \n"
     ]
    }
   ],
   "source": [
    "depths=[6,8,10,12,16,20,24]\n",
    "for d in depths:\n",
    "    dt_clf=DecisionTreeClassifier(max_depth=d, min_samples_split=16, random_state=42)\n",
    "    dt_clf.fit(X_train, y_train)\n",
    "    score = dt_clf.score(X_test, y_test)\n",
    "    print(f'max_depth:{d}, 정확도:{np.round(score,4)} ')"
   ]
  },
  {
   "cell_type": "markdown",
   "id": "119e51e5",
   "metadata": {},
   "source": [
    "## 2개 파라미터 튜닝하기"
   ]
  },
  {
   "cell_type": "code",
   "execution_count": 51,
   "id": "d4238b90",
   "metadata": {},
   "outputs": [
    {
     "name": "stdout",
     "output_type": "stream",
     "text": [
      "최고 정확도:  0.8555589468962296\n",
      "최적 파라미터:  {'max_depth': 8, 'min_samples_split': 12}\n"
     ]
    }
   ],
   "source": [
    "params={'max_depth':[8, 10, 12], \n",
    "        'min_samples_split':[8, 10, 12]}\n",
    "grid=GridSearchCV(dt_clf, param_grid=params, scoring='accuracy', cv=5)\n",
    "grid.fit(X_train, y_train)\n",
    "print(\"최고 정확도: \", grid.best_score_)\n",
    "print(\"최적 파라미터: \", grid.best_params_)"
   ]
  },
  {
   "cell_type": "code",
   "execution_count": 52,
   "id": "b0ac446f",
   "metadata": {},
   "outputs": [
    {
     "data": {
      "text/html": [
       "<div>\n",
       "<style scoped>\n",
       "    .dataframe tbody tr th:only-of-type {\n",
       "        vertical-align: middle;\n",
       "    }\n",
       "\n",
       "    .dataframe tbody tr th {\n",
       "        vertical-align: top;\n",
       "    }\n",
       "\n",
       "    .dataframe thead th {\n",
       "        text-align: right;\n",
       "    }\n",
       "</style>\n",
       "<table border=\"1\" class=\"dataframe\">\n",
       "  <thead>\n",
       "    <tr style=\"text-align: right;\">\n",
       "      <th></th>\n",
       "      <th>param_max_depth</th>\n",
       "      <th>param_min_samples_split</th>\n",
       "      <th>mean_test_score</th>\n",
       "    </tr>\n",
       "  </thead>\n",
       "  <tbody>\n",
       "    <tr>\n",
       "      <th>0</th>\n",
       "      <td>8</td>\n",
       "      <td>8</td>\n",
       "      <td>0.851615</td>\n",
       "    </tr>\n",
       "    <tr>\n",
       "      <th>1</th>\n",
       "      <td>8</td>\n",
       "      <td>10</td>\n",
       "      <td>0.853654</td>\n",
       "    </tr>\n",
       "    <tr>\n",
       "      <th>2</th>\n",
       "      <td>8</td>\n",
       "      <td>12</td>\n",
       "      <td>0.855559</td>\n",
       "    </tr>\n",
       "    <tr>\n",
       "      <th>3</th>\n",
       "      <td>10</td>\n",
       "      <td>8</td>\n",
       "      <td>0.848488</td>\n",
       "    </tr>\n",
       "    <tr>\n",
       "      <th>4</th>\n",
       "      <td>10</td>\n",
       "      <td>10</td>\n",
       "      <td>0.848351</td>\n",
       "    </tr>\n",
       "    <tr>\n",
       "      <th>5</th>\n",
       "      <td>10</td>\n",
       "      <td>12</td>\n",
       "      <td>0.848351</td>\n",
       "    </tr>\n",
       "    <tr>\n",
       "      <th>6</th>\n",
       "      <td>12</td>\n",
       "      <td>8</td>\n",
       "      <td>0.841415</td>\n",
       "    </tr>\n",
       "    <tr>\n",
       "      <th>7</th>\n",
       "      <td>12</td>\n",
       "      <td>10</td>\n",
       "      <td>0.842776</td>\n",
       "    </tr>\n",
       "    <tr>\n",
       "      <th>8</th>\n",
       "      <td>12</td>\n",
       "      <td>12</td>\n",
       "      <td>0.845224</td>\n",
       "    </tr>\n",
       "  </tbody>\n",
       "</table>\n",
       "</div>"
      ],
      "text/plain": [
       "  param_max_depth param_min_samples_split  mean_test_score\n",
       "0               8                       8         0.851615\n",
       "1               8                      10         0.853654\n",
       "2               8                      12         0.855559\n",
       "3              10                       8         0.848488\n",
       "4              10                      10         0.848351\n",
       "5              10                      12         0.848351\n",
       "6              12                       8         0.841415\n",
       "7              12                      10         0.842776\n",
       "8              12                      12         0.845224"
      ]
     },
     "execution_count": 52,
     "metadata": {},
     "output_type": "execute_result"
    }
   ],
   "source": [
    "cv_ret_df=pd.DataFrame(grid.cv_results_)\n",
    "cv_ret_df[['param_max_depth', 'param_min_samples_split', 'mean_test_score']]"
   ]
  },
  {
   "cell_type": "code",
   "execution_count": 53,
   "id": "85be6a81",
   "metadata": {},
   "outputs": [
    {
     "name": "stdout",
     "output_type": "stream",
     "text": [
      "최적 성능:  0.8717339667458432\n"
     ]
    }
   ],
   "source": [
    "dt_clf_best=grid.best_estimator_\n",
    "print(\"최적 성능: \", dt_clf_best.score(X_test, y_test))\n"
   ]
  },
  {
   "cell_type": "markdown",
   "id": "aa507304",
   "metadata": {},
   "source": [
    "## 칼럼별 중요도 확인"
   ]
  },
  {
   "cell_type": "code",
   "execution_count": 54,
   "id": "fe78d55a",
   "metadata": {},
   "outputs": [
    {
     "data": {
      "image/png": "[encoded data removed]",
      "text/plain": [
       "<Figure size 1200x1000 with 1 Axes>"
      ]
     },
     "metadata": {},
     "output_type": "display_data"
    }
   ],
   "source": [
    "importance=dt_clf_best.feature_importances_\n",
    "importance=pd.Series(importance, index=X_train.columns)\n",
    "top20=importance.sort_values(ascending=False)[:20]\n",
    "plt.figure(figsize=(12, 10))\n",
    "plt.title('Feature Importance Top 20')\n",
    "sns.barplot(x=top20, y=top20.index)\n",
    "plt.show();"
   ]
  }
 ],
 "metadata": {
  "kernelspec": {
   "display_name": "Python 3 (ipykernel)",
   "language": "python",
   "name": "python3"
  },
  "language_info": {
   "codemirror_mode": {
    "name": "ipython",
    "version": 3
   },
   "file_extension": ".py",
   "mimetype": "text/x-python",
   "name": "python",
   "nbconvert_exporter": "python",
   "pygments_lexer": "ipython3",
   "version": "3.9.13"
  }
 },
 "nbformat": 4,
 "nbformat_minor": 5
}
